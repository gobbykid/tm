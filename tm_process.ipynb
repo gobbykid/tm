{
 "cells": [
  {
   "cell_type": "code",
   "execution_count": 72,
   "metadata": {},
   "outputs": [],
   "source": [
    "import nltk\n",
    "from tqdm import tqdm\n",
    "import pandas as pd\n",
    "from pprint import pprint\n",
    "import csv"
   ]
  },
  {
   "cell_type": "code",
   "execution_count": 54,
   "metadata": {},
   "outputs": [],
   "source": [
    "#specify the path to the Java-based MALLET software\n",
    "path_to_mallet = 'C:/mallet-2.0.8/bin/mallet'\n",
    "\n",
    "#import the above packages and libraries for working with files and the file system\n",
    "import little_mallet_wrapper\n",
    "import seaborn\n",
    "import glob\n",
    "from pathlib import Path"
   ]
  },
  {
   "cell_type": "code",
   "execution_count": 55,
   "metadata": {},
   "outputs": [],
   "source": [
    "#assign to the \"directory\" variable the path to the directory containing our documents\n",
    "m_directory = \"C:/Users/media/Desktop/gobbykid/balanced_corpus/m\"\n",
    "f_directory = \"C:/Users/media/Desktop/gobbykid/balanced_corpus/f\"\n",
    "\n",
    "#use `glob.gob()` function to make a list of all the `.txt` files in that directory.\n",
    "files = glob.glob(f\"{m_directory}/*.txt\") + glob.glob(f\"{f_directory}/*.txt\")\n"
   ]
  },
  {
   "cell_type": "markdown",
   "metadata": {},
   "source": [
    "Import MALLET default stopwords."
   ]
  },
  {
   "cell_type": "code",
   "execution_count": 56,
   "metadata": {},
   "outputs": [],
   "source": [
    "#import LMW stop words list (stored in the variable \"STOPS\"), in order to extend it\n",
    "from little_mallet_wrapper.little_mallet_wrapper import STOPS as lmw_stopwords #!important: import from little_mallet_wrapper.little_mallet_wrapper, otherwise it will look for STOPS inside __init__.py (inside little_mallet_wrapper) and it will not find it!"
   ]
  },
  {
   "cell_type": "markdown",
   "metadata": {},
   "source": [
    "Retrieve characters names from the characters extraction phase, in order to add them to the stopwords list. "
   ]
  },
  {
   "cell_type": "code",
   "execution_count": 57,
   "metadata": {},
   "outputs": [],
   "source": [
    "import csv\n",
    "import ast\n",
    "csv_path = \"characters_from_full_corpus.csv\"\n",
    "\n",
    "retrieved_characters =[]\n",
    "with open(csv_path, 'r', encoding='utf-8') as csv_file:\n",
    "        csv_reader = csv.DictReader(csv_file, delimiter=',')\n",
    "        for row in csv_reader:\n",
    "                retrieved_characters.extend(ast.literal_eval(row[\"male_characters_names\"]) + ast.literal_eval(row[\"female_characters_names\"]) + ast.literal_eval(row['unknown_gender_names']))"
   ]
  },
  {
   "cell_type": "markdown",
   "metadata": {},
   "source": [
    "Define a function to split multi-word characters names "
   ]
  },
  {
   "cell_type": "code",
   "execution_count": 58,
   "metadata": {},
   "outputs": [],
   "source": [
    "def get_characters_names (characters_list):\n",
    "    # empty honorifics list if you don't want to include in the model character-related words\n",
    "    honorifics = []\n",
    "    #honorifics = [\"mr\",\"master\",\"mrs\",\"miss\",\"lady\",\"sir\",\"dame\",\"lord\",\"sister\",\"mother\",\"aunt\",\"uncle\",\"doctor\",\"captain\",\"father\",\"count\",\"professor\",\"major\",\"little\",\"big\",\"old\",\"king\",\"don\",\"dr\",\"queen\",\"boy\",\"girl\",\"green\",\"black\",\"grey\",\"gray\",\"golden\",\"silver\",\"blue\", \"long\"]\n",
    "    output_set = set()\n",
    "    #add to the previous list also the first names and last names taken by themselves (eg both \"john smith\" and \"john\" get in the list), excluding all the words in \"honorifics\"\n",
    "    \n",
    "\n",
    "    for item in characters_list:\n",
    "        if \" \" in item:\n",
    "            minilist = item.split()\n",
    "            for w in minilist:\n",
    "                if w not in honorifics:\n",
    "                    output_set.add(w)\n",
    "        else:\n",
    "            output_set.add(item)\n",
    "    \n",
    "    output_list = sorted(output_set) #convert the set to a list\n",
    "    return output_list"
   ]
  },
  {
   "cell_type": "markdown",
   "metadata": {},
   "source": [
    "Extend the default MALLET stopwords list with characters' names and extra stopwords, to produce a custom stopwords list."
   ]
  },
  {
   "cell_type": "code",
   "execution_count": 59,
   "metadata": {},
   "outputs": [],
   "source": [
    "custom_stopwords = lmw_stopwords #initialize final list of custom stop words as containing the default stop words of lmw\n",
    "\n",
    "more_stopwords = [\"one\",\"two\",\"ones\",\"say\",\"says\",\"said\",\"think\",\"thinks\",\"thought\",\"thing\",\"things\",\"go\",\"goes\",\"went\",\"come\",\"comes\",\"came\",\"coming\",\"much\",\"get\",\"gets\",\"got\",\"ask\",\"asks\",\"asked\",\"didn\",\"would\",\"could\",\"three\",\"other\",\"another\",\"until\",\"till\",\"upon\",\"shall\",\"make\",\"made\",\"might\",\"must\",\"going\",\"way\", \"thou\", \"thee\", \"seems\", \"seem\", \"seemed\", \"never\", \"tell\", \"told\", \"tells\", \"wouldn\", \"tha\", \"like\", \"however\",\"let\",\"rather\",\"yes\", \"no\",\"little\", \"old\", \"well\", \"always\", \"never\", \"time\", \"long\", \"see\", \"saw\", \"sees\", \"illustration\"]\n",
    "\n",
    "# list of gender-related words to remove\n",
    "gendered_stopwords = ['guy','dr','spokesman','chairman',\"men's\",'men','boy',\n",
    "'boys','brother','brothers','dad','dads','dude','father',\n",
    "'fathers','gentleman','gentlemen','god','grandfather','grandpa',\n",
    "'grandson','groom','he','himself','his','husband','pastor','husbands','king','male','man',\n",
    "'mr','nephew','nephews','priest','prince','son','sons','uncle','uncles',\n",
    "'waiter','widower','widowers','lord','master',\"mrs\",\"miss\",\"lady\",\"sir\",\"dame\",\"lord\",\"sister\",\"mother\",\"aunt\",\"uncle\",\"doctor\",\"father\",\"count\",\"professor\", 'heroine','drss','spokeswoman','chairwoman',\"women's\",'actress','women',\"she's\",'her','aunt','aunts','bride','daughter','daughters','female','fiancee','girl',\n",
    "'girls','goddess','granddaughter','grandma','grandmother',\n",
    "'herself','ladies','lady','mom','moms','mother','mothers','mrs','ms','niece',\n",
    "'nieces','priestess','princess','queens','sister','sisters','waitress',\n",
    "'widow','widows','wife','wives','woman','lady','mistress','queen']\n",
    "\n",
    "characters_names = get_characters_names(retrieved_characters) #the function returns a list of strings that are (part of) a character's name\n",
    "\n",
    "custom_stopwords.extend(more_stopwords)\n",
    "custom_stopwords.extend(characters_names)\n",
    "#removes words like \"mr\", \"mrs\", \"mother\", \"father\", etc.\n",
    "\n",
    "#custom_stopwords.extend(gendered_stopwords) "
   ]
  },
  {
   "cell_type": "markdown",
   "metadata": {},
   "source": [
    "Master list of book titles in the dataset."
   ]
  },
  {
   "cell_type": "code",
   "execution_count": 60,
   "metadata": {},
   "outputs": [],
   "source": [
    "book_titles = [Path(file).stem for file in files]"
   ]
  },
  {
   "cell_type": "markdown",
   "metadata": {},
   "source": [
    "**Preprocess the texts in the dataset.**"
   ]
  },
  {
   "cell_type": "markdown",
   "metadata": {},
   "source": [
    "```\n",
    "training_data = []\n",
    "\n",
    "for file in tqdm(files):\n",
    "\n",
    "    whole_text = open(file, 'r', encoding='utf-8').read() \n",
    "\n",
    "    # create list of pos tagged sentences of the text\n",
    "    pos_tagged_sentences = [nltk.pos_tag(nltk.word_tokenize(sent)) for sent in nltk.sent_tokenize(whole_text)]\n",
    "    \n",
    "    # return all the nouns in the book, except custom stopwords\n",
    "    nouns_in_book = []\n",
    "    for l in pos_tagged_sentences:\n",
    "        for (w, pos) in l:\n",
    "            word = w.lower() # <-- re-define word as lowercase word!!\n",
    "            if pos[0] == 'N' and word not in custom_stopwords and word.isascii() and not word.isnumeric():\n",
    "                nouns_in_book.append(word)\n",
    "    \n",
    "    n = 1000 # number of nouns to include in each chunk\n",
    "    # chunks the list of nouns for each book into x sublists with n items\n",
    "    sublists_of_nouns = [nouns_in_book[i:i + n] for i in range(0, len(nouns_in_book), n)]\n",
    "\n",
    "    chunk_pointer = 0\n",
    "    for l in sublists_of_nouns:\n",
    "        book_chunk = \" \".join(l) # transform list to string\n",
    "        training_data.append(book_chunk) #append the chunk to training data\n",
    "    \n",
    "        #write the book chunk to a file\n",
    "        with open(f\"training_data/{Path(file).stem}_chunk_{chunk_pointer}.txt\", 'w', encoding='utf-8') as f:\n",
    "            f.write(book_chunk)\n",
    "        chunk_pointer += 1\n",
    "```"
   ]
  },
  {
   "cell_type": "markdown",
   "metadata": {},
   "source": [
    "Given that processing the texts is a time-consuming operation and we might want to train our model several times in order to chose the best parameters, we stored the output of the text processing in files inside training_data. We can use the following function to re-create a variable for each chunk, retrieving the ready-to-use texts directly, i.e. skipping the processing phase, the next time we use this program."
   ]
  },
  {
   "cell_type": "code",
   "execution_count": 61,
   "metadata": {},
   "outputs": [],
   "source": [
    "#re-create the training data variable from saved files\n",
    "\n",
    "training_data = []\n",
    "processed_files_paths = glob.glob(\"training_data/*.txt\") #creates a list with the file paths of the processed texts\n",
    "for processed_text in processed_files_paths:\n",
    "    ready_text = open(processed_text, 'r', encoding='utf-8').read()\n",
    "    training_data.append(ready_text)"
   ]
  },
  {
   "cell_type": "markdown",
   "metadata": {},
   "source": [
    "## Training the topic model"
   ]
  },
  {
   "cell_type": "markdown",
   "metadata": {},
   "source": [
    "We set the parameters for training the model with `little_mallet_wrapper.quick_train_topic_model()`. We must specify the path where to save the output files. Most importantly, we must choose the number of topics (`num_topics`) to be \"discovered\" inside our corpus: this is the only parameter we have control on in the training phase. Since there is no automatic solution to choose this parameter, trial and error seems the best strategy. We start by setting `num_topics = 40`, and later we will try increasing and decreasing the value of this parameter, to see which of these values gives the best, i.e. most interpretable, results."
   ]
  },
  {
   "cell_type": "code",
   "execution_count": 62,
   "metadata": {},
   "outputs": [],
   "source": [
    "\n",
    "#specify the number of topics we want returned\n",
    "num_topics = 40\n",
    "\n",
    "#set desired output directory/ies (will be created inside current directory)\n",
    "output_directory_path = 'topic-model-output/all_results'\n",
    "\n",
    "#set topic model output files! No need to change anything below here\n",
    "Path(f\"{output_directory_path}\").mkdir(parents=True, exist_ok=True)\n",
    "\n",
    "path_to_training_data           = f\"{output_directory_path}/training.txt\"\n",
    "path_to_formatted_training_data = f\"{output_directory_path}/mallet.training\"\n",
    "path_to_model                   = f\"{output_directory_path}/mallet.model.{str(num_topics)}\"\n",
    "path_to_topic_keys              = f\"{output_directory_path}/mallet.topic_keys.{str(num_topics)}\"\n",
    "path_to_topic_distributions     = f\"{output_directory_path}/mallet.topic_distributions.{str(num_topics)}\"\n",
    "\n"
   ]
  },
  {
   "cell_type": "markdown",
   "metadata": {},
   "source": [
    "Train the model with `little_mallet_wrapper.quick_train_topic_model()`."
   ]
  },
  {
   "cell_type": "code",
   "execution_count": 63,
   "metadata": {},
   "outputs": [
    {
     "data": {
      "text/plain": [
       "'\\nlittle_mallet_wrapper.quick_train_topic_model(path_to_mallet,\\n                                             output_directory_path,\\n                                             num_topics,\\n                                             training_data)\\n\\n'"
      ]
     },
     "execution_count": 63,
     "metadata": {},
     "output_type": "execute_result"
    }
   ],
   "source": [
    "\"\"\"\n",
    "little_mallet_wrapper.quick_train_topic_model(path_to_mallet,\n",
    "                                             output_directory_path,\n",
    "                                             num_topics,\n",
    "                                             training_data)\n",
    "\n",
    "\"\"\""
   ]
  },
  {
   "cell_type": "markdown",
   "metadata": {},
   "source": [
    "Let's train the model again, this time setting 20, 30, 50, 80 and 100 as the number of topics to get."
   ]
  },
  {
   "cell_type": "code",
   "execution_count": 64,
   "metadata": {},
   "outputs": [
    {
     "data": {
      "text/plain": [
       "'\\nnum_topics = 20\\nlittle_mallet_wrapper.quick_train_topic_model(path_to_mallet,\\n                                             output_directory_path,\\n                                             20,\\n                                             training_data)\\n\\n\\n#30 topics\\nnum_topics = 30\\nlittle_mallet_wrapper.quick_train_topic_model(path_to_mallet,\\n                                             output_directory_path,\\n                                             num_topics,\\n                                             training_data)\\n#50 topics\\nnum_topics = 50\\nlittle_mallet_wrapper.quick_train_topic_model(path_to_mallet,\\n                                             output_directory_path,\\n                                             num_topics,\\n                                             training_data)\\n\\n#80 topics\\nnum_topics = 80\\nlittle_mallet_wrapper.quick_train_topic_model(path_to_mallet,\\n                                             output_directory_path,\\n                                             num_topics,\\n                                             training_data)\\n\\n\\n#100 topics\\nnum_topics = 100\\nlittle_mallet_wrapper.quick_train_topic_model(path_to_mallet,\\n                                             output_directory_path,\\n                                             num_topics,\\n                                             training_data)\\n\\n'"
      ]
     },
     "execution_count": 64,
     "metadata": {},
     "output_type": "execute_result"
    }
   ],
   "source": [
    "\"\"\"\n",
    "num_topics = 20\n",
    "little_mallet_wrapper.quick_train_topic_model(path_to_mallet,\n",
    "                                             output_directory_path,\n",
    "                                             20,\n",
    "                                             training_data)\n",
    "\n",
    "\n",
    "#30 topics\n",
    "num_topics = 30\n",
    "little_mallet_wrapper.quick_train_topic_model(path_to_mallet,\n",
    "                                             output_directory_path,\n",
    "                                             num_topics,\n",
    "                                             training_data)\n",
    "#50 topics\n",
    "num_topics = 50\n",
    "little_mallet_wrapper.quick_train_topic_model(path_to_mallet,\n",
    "                                             output_directory_path,\n",
    "                                             num_topics,\n",
    "                                             training_data)\n",
    "\n",
    "#80 topics\n",
    "num_topics = 80\n",
    "little_mallet_wrapper.quick_train_topic_model(path_to_mallet,\n",
    "                                             output_directory_path,\n",
    "                                             num_topics,\n",
    "                                             training_data)\n",
    "\n",
    "\n",
    "#100 topics\n",
    "num_topics = 100\n",
    "little_mallet_wrapper.quick_train_topic_model(path_to_mallet,\n",
    "                                             output_directory_path,\n",
    "                                             num_topics,\n",
    "                                             training_data)\n",
    "\n",
    "\"\"\"\n"
   ]
  },
  {
   "cell_type": "markdown",
   "metadata": {},
   "source": [
    "## Analysis of the results"
   ]
  },
  {
   "cell_type": "markdown",
   "metadata": {},
   "source": [
    "After having trained the model with 20, 30, 40 and 50 as the number of topics to return, we analyze the resulting topics. Our aim is to get the most coherent model, i.e. the model whose topics are most interpretable.\n",
    "\n",
    "After the analysis we came up with the conclusion that the best value for `num_topics` parameter seems likely to be between 40 and 50. We decide to re-train the model setting it to 45. "
   ]
  },
  {
   "cell_type": "code",
   "execution_count": 65,
   "metadata": {},
   "outputs": [
    {
     "data": {
      "text/plain": [
       "'\\n#45 topics\\nnum_topics = 45\\nlittle_mallet_wrapper.quick_train_topic_model(path_to_mallet,\\n                                             output_directory_path,\\n                                             num_topics,\\n                                             training_data)\\n'"
      ]
     },
     "execution_count": 65,
     "metadata": {},
     "output_type": "execute_result"
    }
   ],
   "source": [
    "\"\"\"\n",
    "#45 topics\n",
    "num_topics = 45\n",
    "little_mallet_wrapper.quick_train_topic_model(path_to_mallet,\n",
    "                                             output_directory_path,\n",
    "                                             num_topics,\n",
    "                                             training_data)\n",
    "\"\"\""
   ]
  },
  {
   "cell_type": "markdown",
   "metadata": {},
   "source": [
    "### The 45 topics discovered in our corpus. "
   ]
  },
  {
   "cell_type": "code",
   "execution_count": 187,
   "metadata": {},
   "outputs": [
    {
     "name": "stdout",
     "output_type": "stream",
     "text": [
      "45\n"
     ]
    },
    {
     "data": {
      "text/html": [
       "<div>\n",
       "<style scoped>\n",
       "    .dataframe tbody tr th:only-of-type {\n",
       "        vertical-align: middle;\n",
       "    }\n",
       "\n",
       "    .dataframe tbody tr th {\n",
       "        vertical-align: top;\n",
       "    }\n",
       "\n",
       "    .dataframe thead th {\n",
       "        text-align: right;\n",
       "    }\n",
       "</style>\n",
       "<table border=\"1\" class=\"dataframe\">\n",
       "  <thead>\n",
       "    <tr style=\"text-align: right;\">\n",
       "      <th></th>\n",
       "      <th>topic_index</th>\n",
       "      <th>topic_words</th>\n",
       "    </tr>\n",
       "  </thead>\n",
       "  <tbody>\n",
       "    <tr>\n",
       "      <th>0</th>\n",
       "      <td>0</td>\n",
       "      <td>face, look, voice, something, word, mind, bit,...</td>\n",
       "    </tr>\n",
       "    <tr>\n",
       "      <th>1</th>\n",
       "      <td>1</td>\n",
       "      <td>men, oxford, town, rooms, year, life, work, ri...</td>\n",
       "    </tr>\n",
       "    <tr>\n",
       "      <th>2</th>\n",
       "      <td>2</td>\n",
       "      <td>horses, road, day, whip, men, gentleman, cours...</td>\n",
       "    </tr>\n",
       "    <tr>\n",
       "      <th>3</th>\n",
       "      <td>3</td>\n",
       "      <td>child, day, face, children, heart, life, tears...</td>\n",
       "    </tr>\n",
       "    <tr>\n",
       "      <th>4</th>\n",
       "      <td>4</td>\n",
       "      <td>board, men, guns, ships, vessel, shot, crew, b...</td>\n",
       "    </tr>\n",
       "    <tr>\n",
       "      <th>5</th>\n",
       "      <td>5</td>\n",
       "      <td>school, term, house, fellows, door, right, stu...</td>\n",
       "    </tr>\n",
       "    <tr>\n",
       "      <th>6</th>\n",
       "      <td>6</td>\n",
       "      <td>yer, money, street, shop, purse, face, door, b...</td>\n",
       "    </tr>\n",
       "    <tr>\n",
       "      <th>7</th>\n",
       "      <td>7</td>\n",
       "      <td>church, men, books, sunday, soul, minister, se...</td>\n",
       "    </tr>\n",
       "    <tr>\n",
       "      <th>8</th>\n",
       "      <td>8</td>\n",
       "      <td>boys, school, study, form, room, fellows, fell...</td>\n",
       "    </tr>\n",
       "    <tr>\n",
       "      <th>9</th>\n",
       "      <td>9</td>\n",
       "      <td>night, door, nothing, house, something, anythi...</td>\n",
       "    </tr>\n",
       "    <tr>\n",
       "      <th>10</th>\n",
       "      <td>10</td>\n",
       "      <td>gun, raft, fish, side, island, shore, new, cou...</td>\n",
       "    </tr>\n",
       "    <tr>\n",
       "      <th>11</th>\n",
       "      <td>11</td>\n",
       "      <td>men, spaniard, day, heaven, maiden, gentlemen,...</td>\n",
       "    </tr>\n",
       "    <tr>\n",
       "      <th>12</th>\n",
       "      <td>12</td>\n",
       "      <td>boys, day, christmas, gentleman, hair, tea, ch...</td>\n",
       "    </tr>\n",
       "    <tr>\n",
       "      <th>13</th>\n",
       "      <td>13</td>\n",
       "      <td>course, anything, nothing, something, sort, fr...</td>\n",
       "    </tr>\n",
       "    <tr>\n",
       "      <th>14</th>\n",
       "      <td>14</td>\n",
       "      <td>friend, men, smile, look, surprise, pipe, yout...</td>\n",
       "    </tr>\n",
       "    <tr>\n",
       "      <th>15</th>\n",
       "      <td>15</td>\n",
       "      <td>hero, fifth, paper, sixth, gentleman, match, s...</td>\n",
       "    </tr>\n",
       "    <tr>\n",
       "      <th>16</th>\n",
       "      <td>16</td>\n",
       "      <td>shore, men, island, board, vessel, boats, nigh...</td>\n",
       "    </tr>\n",
       "    <tr>\n",
       "      <th>17</th>\n",
       "      <td>17</td>\n",
       "      <td>room, house, door, window, bed, night, morning...</td>\n",
       "    </tr>\n",
       "    <tr>\n",
       "      <th>18</th>\n",
       "      <td>18</td>\n",
       "      <td>children, mrs, child, morning, basket, dear, b...</td>\n",
       "    </tr>\n",
       "    <tr>\n",
       "      <th>19</th>\n",
       "      <td>19</td>\n",
       "      <td>garden, trees, birds, day, sun, grass, summer,...</td>\n",
       "    </tr>\n",
       "    <tr>\n",
       "      <th>20</th>\n",
       "      <td>20</td>\n",
       "      <td>indians, men, river, lake, night, ice, camp, b...</td>\n",
       "    </tr>\n",
       "    <tr>\n",
       "      <th>21</th>\n",
       "      <td>21</td>\n",
       "      <td>face, moment, night, heart, voice, nothing, li...</td>\n",
       "    </tr>\n",
       "    <tr>\n",
       "      <th>22</th>\n",
       "      <td>22</td>\n",
       "      <td>turkey, kirsty, face, kind, country, lad, day,...</td>\n",
       "    </tr>\n",
       "    <tr>\n",
       "      <th>23</th>\n",
       "      <td>23</td>\n",
       "      <td>work, pride, children, genius, pleasure, model...</td>\n",
       "    </tr>\n",
       "    <tr>\n",
       "      <th>24</th>\n",
       "      <td>24</td>\n",
       "      <td>mind, manner, subject, care, nothing, pleasure...</td>\n",
       "    </tr>\n",
       "    <tr>\n",
       "      <th>25</th>\n",
       "      <td>25</td>\n",
       "      <td>tutor, lordship, rocket, blandford, dorincourt...</td>\n",
       "    </tr>\n",
       "    <tr>\n",
       "      <th>26</th>\n",
       "      <td>26</td>\n",
       "      <td>duchess, orphan, doctor-in-law, flute, dolor, ...</td>\n",
       "    </tr>\n",
       "    <tr>\n",
       "      <th>27</th>\n",
       "      <td>27</td>\n",
       "      <td>england, country, men, years, story, life, lan...</td>\n",
       "    </tr>\n",
       "    <tr>\n",
       "      <th>28</th>\n",
       "      <td>28</td>\n",
       "      <td>mrs, dear, wife, ladies, lake, drawing-room, h...</td>\n",
       "    </tr>\n",
       "    <tr>\n",
       "      <th>29</th>\n",
       "      <td>29</td>\n",
       "      <td>party, horses, day, animals, rifle, cattle, di...</td>\n",
       "    </tr>\n",
       "    <tr>\n",
       "      <th>30</th>\n",
       "      <td>30</td>\n",
       "      <td>mamma, children, course, anything, something, ...</td>\n",
       "    </tr>\n",
       "    <tr>\n",
       "      <th>31</th>\n",
       "      <td>31</td>\n",
       "      <td>men, enemy, soldiers, troops, camp, attack, gu...</td>\n",
       "    </tr>\n",
       "    <tr>\n",
       "      <th>32</th>\n",
       "      <td>32</td>\n",
       "      <td>house, work, village, houses, men, street, chi...</td>\n",
       "    </tr>\n",
       "    <tr>\n",
       "      <th>33</th>\n",
       "      <td>33</td>\n",
       "      <td>deck, schooner, craft, brig, men, cabin, crew,...</td>\n",
       "    </tr>\n",
       "    <tr>\n",
       "      <th>34</th>\n",
       "      <td>34</td>\n",
       "      <td>length, fact, course, party, feet, matter, mom...</td>\n",
       "    </tr>\n",
       "    <tr>\n",
       "      <th>35</th>\n",
       "      <td>35</td>\n",
       "      <td>prisoners, prison, prisoner, men, door, friend...</td>\n",
       "    </tr>\n",
       "    <tr>\n",
       "      <th>36</th>\n",
       "      <td>36</td>\n",
       "      <td>children, course, others, anything, carpet, so...</td>\n",
       "    </tr>\n",
       "    <tr>\n",
       "      <th>37</th>\n",
       "      <td>37</td>\n",
       "      <td>men, house, day, face, days, life, peril, hast...</td>\n",
       "    </tr>\n",
       "    <tr>\n",
       "      <th>38</th>\n",
       "      <td>38</td>\n",
       "      <td>moment, men, feet, side, fellow, body, minutes...</td>\n",
       "    </tr>\n",
       "    <tr>\n",
       "      <th>39</th>\n",
       "      <td>39</td>\n",
       "      <td>battle, france, arms, day, england, army, sold...</td>\n",
       "    </tr>\n",
       "    <tr>\n",
       "      <th>40</th>\n",
       "      <td>40</td>\n",
       "      <td>men, work, mine, flames, lad, smoke, lads, sha...</td>\n",
       "    </tr>\n",
       "    <tr>\n",
       "      <th>41</th>\n",
       "      <td>41</td>\n",
       "      <td>cuckoo, penn, louisiana, benet, tabitha, thar,...</td>\n",
       "    </tr>\n",
       "    <tr>\n",
       "      <th>42</th>\n",
       "      <td>42</td>\n",
       "      <td>girls, school, room, course, dear, sort, face,...</td>\n",
       "    </tr>\n",
       "    <tr>\n",
       "      <th>43</th>\n",
       "      <td>43</td>\n",
       "      <td>day, letter, money, nothing, friend, days, bus...</td>\n",
       "    </tr>\n",
       "    <tr>\n",
       "      <th>44</th>\n",
       "      <td>44</td>\n",
       "      <td>river, trees, birds, hut, ground, savages, day...</td>\n",
       "    </tr>\n",
       "  </tbody>\n",
       "</table>\n",
       "</div>"
      ],
      "text/plain": [
       "    topic_index                                        topic_words\n",
       "0             0  face, look, voice, something, word, mind, bit,...\n",
       "1             1  men, oxford, town, rooms, year, life, work, ri...\n",
       "2             2  horses, road, day, whip, men, gentleman, cours...\n",
       "3             3  child, day, face, children, heart, life, tears...\n",
       "4             4  board, men, guns, ships, vessel, shot, crew, b...\n",
       "5             5  school, term, house, fellows, door, right, stu...\n",
       "6             6  yer, money, street, shop, purse, face, door, b...\n",
       "7             7  church, men, books, sunday, soul, minister, se...\n",
       "8             8  boys, school, study, form, room, fellows, fell...\n",
       "9             9  night, door, nothing, house, something, anythi...\n",
       "10           10  gun, raft, fish, side, island, shore, new, cou...\n",
       "11           11  men, spaniard, day, heaven, maiden, gentlemen,...\n",
       "12           12  boys, day, christmas, gentleman, hair, tea, ch...\n",
       "13           13  course, anything, nothing, something, sort, fr...\n",
       "14           14  friend, men, smile, look, surprise, pipe, yout...\n",
       "15           15  hero, fifth, paper, sixth, gentleman, match, s...\n",
       "16           16  shore, men, island, board, vessel, boats, nigh...\n",
       "17           17  room, house, door, window, bed, night, morning...\n",
       "18           18  children, mrs, child, morning, basket, dear, b...\n",
       "19           19  garden, trees, birds, day, sun, grass, summer,...\n",
       "20           20  indians, men, river, lake, night, ice, camp, b...\n",
       "21           21  face, moment, night, heart, voice, nothing, li...\n",
       "22           22  turkey, kirsty, face, kind, country, lad, day,...\n",
       "23           23  work, pride, children, genius, pleasure, model...\n",
       "24           24  mind, manner, subject, care, nothing, pleasure...\n",
       "25           25  tutor, lordship, rocket, blandford, dorincourt...\n",
       "26           26  duchess, orphan, doctor-in-law, flute, dolor, ...\n",
       "27           27  england, country, men, years, story, life, lan...\n",
       "28           28  mrs, dear, wife, ladies, lake, drawing-room, h...\n",
       "29           29  party, horses, day, animals, rifle, cattle, di...\n",
       "30           30  mamma, children, course, anything, something, ...\n",
       "31           31  men, enemy, soldiers, troops, camp, attack, gu...\n",
       "32           32  house, work, village, houses, men, street, chi...\n",
       "33           33  deck, schooner, craft, brig, men, cabin, crew,...\n",
       "34           34  length, fact, course, party, feet, matter, mom...\n",
       "35           35  prisoners, prison, prisoner, men, door, friend...\n",
       "36           36  children, course, others, anything, carpet, so...\n",
       "37           37  men, house, day, face, days, life, peril, hast...\n",
       "38           38  moment, men, feet, side, fellow, body, minutes...\n",
       "39           39  battle, france, arms, day, england, army, sold...\n",
       "40           40  men, work, mine, flames, lad, smoke, lads, sha...\n",
       "41           41  cuckoo, penn, louisiana, benet, tabitha, thar,...\n",
       "42           42  girls, school, room, course, dear, sort, face,...\n",
       "43           43  day, letter, money, nothing, friend, days, bus...\n",
       "44           44  river, trees, birds, hut, ground, savages, day..."
      ]
     },
     "execution_count": 187,
     "metadata": {},
     "output_type": "execute_result"
    }
   ],
   "source": [
    "num_topics = 45\n",
    "path_to_model = f\"{output_directory_path}/mallet.model.{str(num_topics)}\"\n",
    "path_to_topic_keys = f\"{output_directory_path}/mallet.topic_keys.{str(num_topics)}\"\n",
    "path_to_topic_distributions = f\"{output_directory_path}/mallet.topic_distributions.{str(num_topics)}\"\n",
    "\n",
    "topic_keys = little_mallet_wrapper.load_topic_keys(path_to_topic_keys) # list of lists of strings\n",
    "print(len(topic_keys))\n",
    "topics_data = []\n",
    "\n",
    "for idx, topic in enumerate(topic_keys):\n",
    "    topic_dict = {}\n",
    "    topic_dict['topic_index'] = idx\n",
    "    topic_dict['topic_words'] = \", \".join(topic)\n",
    "    topics_data.append(topic_dict)\n",
    "\n",
    "with open('45_topic_keys.csv', 'w') as csv_file:\n",
    "    \n",
    "    fields = ['topic_index', 'topic_words']\n",
    "    writer = csv.DictWriter(csv_file, fieldnames=fields)\n",
    "    writer.writeheader()\n",
    "    for row in topics_data:\n",
    "        writer.writerow(row)\n",
    "    \n",
    "\n",
    "topics_df = pd.DataFrame(topics_data)\n",
    "topics_df"
   ]
  },
  {
   "cell_type": "markdown",
   "metadata": {},
   "source": [
    "## The topics distribution in our corpus"
   ]
  },
  {
   "cell_type": "markdown",
   "metadata": {},
   "source": [
    "To preserve significant contextual information, we have trained our topic model on the set of *chunked* the books, where each book was divided in chunks of up to 1000 tokens, and each chunk represented a document. \n",
    "\n",
    "Now we need to apply the model trained in this way to the very same content (the nouns in each book), but divided in units that are significant for the interpretation of the results: we need to map the topics to each of our book (not to each chunk).\n",
    "\n",
    "In order to do so, we first pre-process the books, removing stopwords and extracting the nouns only, without chunking them. Then we apply our best model to the new training data (a list of strings where each string consists in the *whole*, cleaned, book).\n"
   ]
  },
  {
   "cell_type": "markdown",
   "metadata": {},
   "source": [
    "Preprocess the **whole** texts, repeating the criteria chosen above, but without chunking them into equally sized sections: each document in the new model will be a string of all the nouns - separated by one whitespace character - in each of the original books. Let's also save the output of this second preprocessing phase in files inside the dedicated folder (`new_training_data`), as we did earlier for the text chunks."
   ]
  },
  {
   "cell_type": "markdown",
   "metadata": {},
   "source": [
    "```\n",
    "new_training_data = []\n",
    "\n",
    "for file in tqdm(files):\n",
    "\n",
    "    whole_text = open(file, 'r', encoding='utf-8').read() \n",
    "\n",
    "    # create list of pos tagged sentences of the text\n",
    "    pos_tagged_sentences = [nltk.pos_tag(nltk.word_tokenize(sent)) for sent in nltk.sent_tokenize(whole_text)]\n",
    "    \n",
    "    # return all the nouns in the book, except custom stopwords\n",
    "    nouns_in_book_list = []\n",
    "    for l in pos_tagged_sentences:\n",
    "        for (w, pos) in l:\n",
    "            word = w.lower() # <-- re-define word as lowercase word!!\n",
    "            if pos[0] == 'N' and word not in custom_stopwords and word.isascii() and not word.isnumeric():\n",
    "                nouns_in_book_list.append(word)\n",
    "    \n",
    "    nouns_in_book = \" \".join(nouns_in_book_list) #transform list of nouns into string\n",
    "    new_training_data.append(nouns_in_book) # append all the nouns in the current book to new_training_data\n",
    "    \n",
    "    #write the the nouns in the current book to a file\n",
    "    with open(f\"new_training_data/{Path(file).stem}.txt\", 'w', encoding='utf-8') as f:\n",
    "        f.write(nouns_in_book)\n",
    "```"
   ]
  },
  {
   "cell_type": "code",
   "execution_count": 79,
   "metadata": {},
   "outputs": [],
   "source": [
    "#re-create the training data variable from saved files\n",
    "\n",
    "new_training_data = []\n",
    "processed_files_paths = glob.glob(\"new_training_data/*.txt\") #creates a list with the file paths of the processed texts\n",
    "for processed_text in processed_files_paths:\n",
    "    ready_text = open(processed_text, 'r', encoding='utf-8').read()\n",
    "    new_training_data.append(ready_text)"
   ]
  },
  {
   "cell_type": "markdown",
   "metadata": {},
   "source": [
    "Set the output paths where to store the results of the inferred model."
   ]
  },
  {
   "cell_type": "code",
   "execution_count": 80,
   "metadata": {},
   "outputs": [],
   "source": [
    "num_topics = 45 \n",
    "\n",
    "path_to_topic_keys = f\"{output_directory_path}/mallet.topic_keys.{str(num_topics)}\" #topics keys are the same for both chunked texts and whole books\n",
    "\n",
    "\n",
    "path_to_new_training_data = f\"{output_directory_path}/results_on_whole_books/training.txt\"\n",
    "path_to_new_formatted_training_data = f\"{output_directory_path}/results_on_whole_books/mallet.training\"\n",
    "new_training_data = new_training_data\n",
    "\n",
    "path_to_new_topic_distributions = f\"{output_directory_path}/results_on_whole_books/mallet.topic_distributions.{str(num_topics)}\"\n"
   ]
  },
  {
   "cell_type": "markdown",
   "metadata": {},
   "source": [
    "Import the training data to feed to the inferring function."
   ]
  },
  {
   "cell_type": "code",
   "execution_count": 81,
   "metadata": {},
   "outputs": [
    {
     "name": "stdout",
     "output_type": "stream",
     "text": [
      "Importing data using pipe...\n",
      "Complete\n"
     ]
    }
   ],
   "source": [
    "little_mallet_wrapper.import_data(path_to_mallet, path_to_new_training_data, path_to_new_formatted_training_data, new_training_data, training_ids=None, use_pipe_from=path_to_formatted_training_data)"
   ]
  },
  {
   "cell_type": "markdown",
   "metadata": {},
   "source": [
    "Infer the new topic model: we are getting *topic distributions* for a  new set of documents (the *whole* books) using a model that has been trained on another set of documents (the books' *chunks*); nevertheless, the overall content of each of these two dataset is the same."
   ]
  },
  {
   "cell_type": "code",
   "execution_count": 82,
   "metadata": {},
   "outputs": [
    {
     "name": "stdout",
     "output_type": "stream",
     "text": [
      "Inferring topics using pre-trained model...\n",
      "Complete\n"
     ]
    }
   ],
   "source": [
    "# apply the model trained on the chunked documents to the actual (whole) books\n",
    "little_mallet_wrapper.infer_topics(path_to_mallet, path_to_model, path_to_new_formatted_training_data, path_to_new_topic_distributions)"
   ]
  },
  {
   "cell_type": "markdown",
   "metadata": {},
   "source": [
    "## Topic distributions over the corpus: results"
   ]
  },
  {
   "cell_type": "code",
   "execution_count": 248,
   "metadata": {},
   "outputs": [],
   "source": [
    "topic_distributions = little_mallet_wrapper.load_topic_distributions(path_to_new_topic_distributions)\n",
    "\n",
    "#column_names = [f\"topic {topic_keys.index(l)}: \" + ', '.join(l) for l in topic_keys]\n",
    "column_names = [f\"topic {topic_keys.index(l)}\" for l in topic_keys]\n",
    "topic_distributions_df = pd.DataFrame(topic_distributions, columns=column_names)\n"
   ]
  },
  {
   "cell_type": "markdown",
   "metadata": {},
   "source": [
    "Let's import metadata of our corpus."
   ]
  },
  {
   "cell_type": "code",
   "execution_count": 249,
   "metadata": {},
   "outputs": [],
   "source": [
    "corpus_data = pd.read_csv('whole_balanced_corpus.csv')"
   ]
  },
  {
   "cell_type": "markdown",
   "metadata": {},
   "source": [
    "Now merge the metadata and the topic distributions in one big single DataFrame object, in order to use it for the visualizations."
   ]
  },
  {
   "cell_type": "code",
   "execution_count": 250,
   "metadata": {},
   "outputs": [],
   "source": [
    "complete_data_df = pd.concat([corpus_data, topic_distributions_df], axis=1)"
   ]
  },
  {
   "cell_type": "code",
   "execution_count": 251,
   "metadata": {},
   "outputs": [],
   "source": [
    "import plotly.express as px\n",
    "import chart_studio\n",
    "import chart_studio.plotly as csp"
   ]
  },
  {
   "cell_type": "code",
   "execution_count": 252,
   "metadata": {},
   "outputs": [],
   "source": [
    "username = 'eliarizzetto' # your username\n",
    "api_key = 'pPHUDola2xKGXkXvr0sq' # your api key - go to profile > settings > regenerate key\n",
    "chart_studio.tools.set_credentials_file(username=username, api_key=api_key)"
   ]
  },
  {
   "cell_type": "code",
   "execution_count": 253,
   "metadata": {},
   "outputs": [
    {
     "data": {
      "application/vnd.plotly.v1+json": {
       "config": {
        "plotlyServerURL": "https://plotly.com"
       },
       "data": [
        {
         "fillpattern": {
          "shape": ""
         },
         "hovertemplate": "<b>%{hovertext}</b><br><br>authors_sex=F<br>year=%{x}<br>topic 19=%{y}<extra></extra>",
         "hovertext": [
          "1835_sherwood-shanty-the-blacksmith-a-tale-of-other-times",
          "1839_sinclair-holiday-house-a-series-of-tales",
          "1841_martineau-the-settlers-at-home",
          "1850_sherwood-the-young-lord-and-other-tales-to-which-is-added-victorine-durocher",
          "1851_hall-turns-of-fortune-and.other-tales",
          "1853_yonge-the-heir-of-redclyffe",
          "1854_yonge-the-little-duke-richard-the-fearless",
          "1855_yonge-the-lances-of-lynwood",
          "1856_yonge-the-daisy-chain-or-aspirations",
          "1857_browne-grannys-wonderful-chair",
          "1857_tucker-the-rambles-of-a-rat",
          "1858_tucker-flora",
          "1860_yonge-countess-kate",
          "1860_yonge-the-pigeon-pie",
          "1861_yonge-the-stokesley-secret",
          "1862_ewing-melchiors-dream-and-other-tales",
          "1863_tucker-the-crown-of-success",
          "1866_yonge-the-prince-and-the-page-a-story-of-the-last-crusade",
          "1867_stretton-jessicas-first-prayer-and-jessicas-mother",
          "1868_stretton-little-megs-children",
          "1869_ewing-mrs-overtheways-remembrances",
          "1869_ewing-the-land-of-lost-toys",
          "1869_stretton-alone-in-london",
          "1870_ewing-the-brownies-and-other-tales",
          "1871_yonge-little-lucys-wonderful-globe",
          "1872_craik-the-adventure-of-a-brownie",
          "1872_de_la_ramee-a-dog-of-flanders",
          "1872_meade-scamp-and-i-a-story-of-city-by-ways",
          "1873_ewing-a-flat-iron-for-a-farthing",
          "1875_craik-the-little-lame-prince-and-his-traveling-cloack",
          "1875_molesworth-tell-me-a-story",
          "1875_tucker-the-childrens-tabernacle-or-hand-work-and-heart-work",
          "1876_ewing-jan-of-the-windmill",
          "1876_ewing-six-to-sixteen-a-story-for-girls",
          "1876_molesworth-carrots-just-a-little-boy",
          "1877_ewing-a-great-emergency-and-other-tales",
          "1877_meade-davids-little-lad",
          "1877_molesworth-the-cuckoo-clock",
          "1877_sewell-black-beauty",
          "1878_molesworth-grandmother-dear-a-book-for-boys-and-girls",
          "1879_coleridge-the-constant-prince",
          "1879_ewing-jackanapes-daddy-darwins-dovecot-and-other-stories",
          "1879_molesworth-the-tapestry-room-a-childs-romance",
          "1880_burnett-louisiana",
          "1880_meade-mou-sete-a-negro-hero",
          "1880_molesworth-a-christmas-child-a-sketch-of-a-boy-life",
          "1882_delaramee-bimbi",
          "1882_ewing-brothers-of-pity-and-other-tales-of-beasts-and-men",
          "1882_meade-a-london-baby-the-story-of-king-roy",
          "1883_ewing-marys-meadow-and-other-tales-of-fields-and-flowers",
          "1883_meade-the-childrens-pilgrimage",
          "1883_molesworth-the-boys-and-i-a-childs-story-for-children",
          "1883_molesworth-two-little-waifs",
          "1884_molesworth-the-little-old-portrait",
          "1886_delaramee-a-houseparty",
          "1886_hodgson-burnett-little-lord-fauntleroy",
          "1886_leslie-a-sailors-lass",
          "1886_meade-a-world-of-girls",
          "1886_molesworth-christmas-tree-land",
          "1886_molesworth-us-an-old-fashioned-story",
          "1887_leslie-kates-ordeal",
          "1887_meade-the-palace-beautiful",
          "1887_molesworth-silverthorns",
          "1887_peard-prentice-hugh",
          "1888_burnett-little-saint-elizabeth-and-other-tales",
          "1888_burnett-sara-crewe",
          "1888_ewing-snap-dragons-old-father-christmas",
          "1888_meade-the-little-princess-of-towerhill",
          "1888_molesworth-a-christmas-posy",
          "1888_molesworth-the-third-miss-st-quentin",
          "1889_meade-polly-a-new-fashioned-girl",
          "1889_molesworth-the-rectory-children",
          "1889_tytler-a-house-full-of-girls",
          "1890_coleridge-maud-florence-nellie",
          "1890_meade-the-honorable-miss-a-story-of.an-old-fashioned-town",
          "1890_molesworth-robin-redbreast-a-story-for-girls",
          "1890_molesworth-the-children-of-the-castle",
          "1891_meade-a-sweet-girl-graduate",
          "1891_molesworth-nurse-heatherdales-story",
          "1892_everett_green-the-lord-of-dynevor-a-tale-of-the-times-of-edward-the-first",
          "1892_meade-the-lady-of-the-forest-a-story-for-girls",
          "1892_molesworth-the-girls-and-i-a-veracious-history",
          "1893_everett_green-in-the-days-of-chivalry-a-tale-of-the-times-of-the-black-prince",
          "1893_molesworth-blanche-a-story-for-girls",
          "1894_everett_green-the-lost-treasure-of-trevlyn-a-story-of-the-days-of-the-gunpowder-plot",
          "1894_everett_green-the-secret-chamber-at-chad",
          "1894_meade-red-rose-and-tiger-lily-or-in-a-wider-world",
          "1894_molesworth-my-new-home",
          "1895_burnett-two-little-pilgrims-process-a-story-of-the-city-beautiful",
          "1895_ewing-the-peace-egg-and-other-tales",
          "1895_meade-girls-new-and-old",
          "1895_molesworth-the-carved-lions",
          "1896_meade-a-little-mother-to-the-others",
          "1896_molesworth-philippa",
          "1897_meade-wild-kitty",
          "1897_molesworth-hoodie",
          "1897_molesworth-miss-mouse-and-her-boys",
          "1898_everett_green-a-clerk-of-oxford-and-his-adventures-in-the-barons-war",
          "1898_everett_green-tom-tuftons-travels",
          "1898_meade-a-bunch-of-cherries-a-story-of-cherry-court-school",
          "1898_meade-the-girls-of-st-wodes",
          "1899_everett_green-french-and.english-a-story-of-the-struggle-in-america",
          "1899_meade-light-o-the-morning",
          "1899_nesbit-pussy-and-doggy-tales",
          "1899_nesbit-the-story-of-the-treasure-seekers",
          "1900_everett_green-esthers-charge-a-story-for-girls",
          "1900_meade-a-plucky-girl",
          "1900_molesworth-the-house-that-grew",
          "1901_everett_green-in-the-wars-of-the-roses-a-story-for-the-young",
          "1901_meade-a-very-naughty-girl",
          "1901_meade-girls-of-the-true-blue",
          "1901_molesworth-the-wood-pigeons-and-mary",
          "1901_nesbit-the-book-of-dragons",
          "1901_nesbit-the-wouldbegoods",
          "1902_everett_green-for-the-faith-a-story-of-the-young-pioneers-of-reformation-in-oxford",
          "1902_meade-girls-of.the-forest",
          "1902_molesworth-peterkin",
          "1902_potter-the-tale-of-peter-rabbit",
          "1903_potter-the-tailor-of-gloucester",
          "1903_potter-the-tale-of-squirrel-nutkin",
          "1904_burnett-in-the-closed-room",
          "1904_everett_green-the-sign-of-the-red-cross-a-tale-of-old-london",
          "1904_meade-a-modern-tomboy-a-story-for-girls",
          "1904_nesbit-the-phoenix-and-the-carpet",
          "1904_potter-the-tale-of-benjamin-bunny",
          "1904_potter_the-tale-of-two-bad-mice",
          "1905_meade-a-bevy-of-girls",
          "1905_meade-a-plain-girl",
          "1905_nesbit-new-treasure-seekers-or-the-bastable-children-in-search-of-a-fortune",
          "1905_potter-the-tale-of-mrs-riggy-winkle",
          "1905_potter-the-tale-of-the-pie-and-the-the-patty-pan",
          "1906_burnett-racketty-packetty-house",
          "1906_everett_green-a-heroine-of-france-the-story-of-joan-of-arc",
          "1906_everett_green-fallen-fortunes",
          "1906_meade-turquoise-and-ruby",
          "1906_molesworth-jasper",
          "1906_nesbit-the-story-of-the-amulet",
          "1907_burnett-the-cozy-lion",
          "1907_meade-the-little-school-mothers",
          "1907_meade-three-girls-from-school",
          "1907_nesbit-the-enchanted-castle",
          "1908_burnett-the-good-wolf",
          "1908_potter-the-tale-of-jemina-puddle-duck",
          "1908_potter-the-tale-of-samuel-whiskers-the-roly-poly-pudding",
          "1909_burnett-barty-crusoe-and-his-man-saturday",
          "1909_potter-the-tale-of-ginger-and-pickles",
          "1909_potter-the-tale-of-the-flopsy-bunnies",
          "1910_meade-betty-vivian-a-story-of-haddo-court-school",
          "1910_meade-sue-a-little-heroine",
          "1910_meade-the-school-queens",
          "1910_potter-the-tale-pf-mrs-tittlemouse",
          "1911_burnett-the-secret-garden",
          "1911_nesbit-the-wonderful-garden-oir-the-three-cs",
          "1911_potter-the-tale-of-timmy-tiptoes",
          "1912_nesbit-the-magic-world",
          "1912_potter-the-tale-of-mr-tod",
          "1913_nesbit-wet-magic"
         ],
         "legendgroup": "F",
         "line": {
          "color": "MediumSeaGreen"
         },
         "marker": {
          "symbol": "circle"
         },
         "mode": "markers+lines",
         "name": "F",
         "orientation": "v",
         "showlegend": true,
         "stackgroup": "1",
         "type": "scatter",
         "x": [
          1835,
          1839,
          1841,
          1850,
          1851,
          1853,
          1854,
          1855,
          1856,
          1857,
          1857,
          1858,
          1860,
          1860,
          1861,
          1862,
          1863,
          1866,
          1867,
          1868,
          1869,
          1869,
          1869,
          1870,
          1871,
          1872,
          1872,
          1872,
          1873,
          1875,
          1875,
          1875,
          1876,
          1876,
          1876,
          1877,
          1877,
          1877,
          1877,
          1878,
          1879,
          1879,
          1879,
          1880,
          1880,
          1880,
          1882,
          1882,
          1882,
          1883,
          1883,
          1883,
          1883,
          1884,
          1886,
          1886,
          1886,
          1886,
          1886,
          1886,
          1887,
          1887,
          1887,
          1887,
          1888,
          1888,
          1888,
          1888,
          1888,
          1888,
          1889,
          1889,
          1889,
          1890,
          1890,
          1890,
          1890,
          1891,
          1891,
          1892,
          1892,
          1892,
          1893,
          1893,
          1894,
          1894,
          1894,
          1894,
          1895,
          1895,
          1895,
          1895,
          1896,
          1896,
          1897,
          1897,
          1897,
          1898,
          1898,
          1898,
          1898,
          1899,
          1899,
          1899,
          1899,
          1900,
          1900,
          1900,
          1901,
          1901,
          1901,
          1901,
          1901,
          1901,
          1902,
          1902,
          1902,
          1902,
          1903,
          1903,
          1904,
          1904,
          1904,
          1904,
          1904,
          1904,
          1905,
          1905,
          1905,
          1905,
          1905,
          1906,
          1906,
          1906,
          1906,
          1906,
          1906,
          1907,
          1907,
          1907,
          1907,
          1908,
          1908,
          1908,
          1909,
          1909,
          1909,
          1910,
          1910,
          1910,
          1910,
          1911,
          1911,
          1911,
          1912,
          1912,
          1913
         ],
         "xaxis": "x",
         "y": [
          0.009878943179074357,
          0.028901445645461182,
          0.04965285497204726,
          0.004073895923835278,
          0.015176967526398322,
          0.012416364357373085,
          0.0031636536356677166,
          0.0008844852364613017,
          0.0072243703271245895,
          0.23783171236602144,
          0.01810651193149577,
          0.0429933244327068,
          0.01031265113047934,
          0.0046603832578186,
          0.02235688915095293,
          0.04602466805077615,
          0.05053077895403637,
          0.011670393060380362,
          0.00011131510459601975,
          0.0000967428753370266,
          0.057077588496478315,
          0.06352369094116184,
          0.02333382684403927,
          0.11818630782611668,
          0.08887437917425596,
          0.05947791743460429,
          0.03470955491389742,
          0.009968744586846998,
          0.03204902554704144,
          0.061496044499510266,
          0.09149493251249666,
          0.0020931368310329363,
          0.026604197304054278,
          0.050865724875680016,
          0.018056990133201823,
          0.04071791518353507,
          0.01554815115509126,
          0.11545133435023146,
          0.009079987893005117,
          0.013066761430148946,
          0.022379570481743695,
          0.08719537237520604,
          0.1823879359430651,
          0.020083599790465062,
          0.026178271477683777,
          0.1161426585606836,
          0.10979933934498828,
          0.0582192655556986,
          0.000279960068462783,
          0.37344908690949463,
          0.006638227469902969,
          0.024856263172682337,
          0.0017722258660802586,
          0.007919381714702876,
          0.06181287852061656,
          0.011492907553324584,
          0.00018847094934152018,
          0.006338332861533485,
          0.16355335629795498,
          0.018393144907029542,
          0.000326957755258311,
          0.00027299261048208866,
          0.006792314675603418,
          0.013388661612992101,
          0.2548962233837464,
          0.0013542090720393765,
          0.0007126532836312862,
          0.009646749643673451,
          0.0531937901568212,
          0.0034373682078842516,
          0.008710685518030267,
          0.008159009759314769,
          0.007369398835828776,
          0.06961869739048826,
          0.014294822049570175,
          0.0037879320617547636,
          0.10604524879790561,
          0.004558381127568645,
          0.018393250732267795,
          0.00011111625723858941,
          0.03590985026798179,
          0.014060497041209449,
          0.0019323143613639128,
          0.006820119761021304,
          0.0053122970360408635,
          0.007088159072158222,
          0.02345678906531969,
          0.011785206715804082,
          0.09433379264199258,
          0.012893224636093818,
          0.0033036085268188724,
          0.008141006307438973,
          0.02727795419907533,
          0.0017836408251347645,
          0.0020043231747581816,
          0.058021713069498014,
          0.03814258669472069,
          0.00037114985210734885,
          0.0017663160961236392,
          0.01319996567479874,
          0.00008023627322774532,
          0.000310940847617804,
          0.007247207621587373,
          0.030040811560477824,
          0.021393646511933654,
          0.01735621854559649,
          0.0020699950268120923,
          0.003142300376889133,
          0.001034585980371681,
          0.0004687184403432071,
          0.002872216444972209,
          0.23016219809619656,
          0.13443499860203426,
          0.03321264175952701,
          0.010217920451769249,
          0.017448463656277523,
          0.003679867349843969,
          0.15574374941331048,
          0.03572643196703406,
          0.501525597586681,
          0.09247205400962673,
          0.001052351527706103,
          0.022789238824186146,
          0.01645052464255444,
          0.08322061639916524,
          0.0013344526078425721,
          0.018374108570111524,
          0.0017052304972653776,
          0.017062509761731945,
          0.019515906097394748,
          0.0019476784575755395,
          0.011816253726534623,
          0.0048607566678975506,
          0.022332007069918124,
          0.007308690937803711,
          0.014625158186099415,
          0.03861840269701651,
          0.09848281969178523,
          0.006131594702504274,
          0.007465617338899959,
          0.07922777877533435,
          0.1340302189482179,
          0.02622395208715936,
          0.0004051847333952153,
          0.03205443237902847,
          0.000779419454680253,
          0.1272819451619788,
          0.02427176465613157,
          0.0010693224600926005,
          0.0015367804044539948,
          0.059002999681703125,
          0.28855618377552134,
          0.06195274300700507,
          0.17998560975323222,
          0.06836239318069506,
          0.019917180404894437,
          0.024316494317704593
         ],
         "yaxis": "y"
        },
        {
         "fillpattern": {
          "shape": ""
         },
         "hovertemplate": "<b>%{hovertext}</b><br><br>authors_sex=M<br>year=%{x}<br>topic 19=%{y}<extra></extra>",
         "hovertext": [
          "1836_marryat-mr-midshipman-easy",
          "1841_marryat-masterman-ready",
          "1844_marryat-the-settlers-in-canada",
          "1845_dickens-the-cricket-on-the-hearth-a-fairy-tale-of-home",
          "1847_marryat-the-children-of-the-new-forest",
          "1848_marryat-the-little-savage",
          "1851_ruskin-the-king-of-the-golden-river",
          "1855_kingsley-westward-ho",
          "1856_ballantyne-the-young-fur-traders",
          "1857_ballantyne-the-coral-island-a-tale-of-the-pacific-ocean",
          "1857_hughes-tom-browns-school-days",
          "1858_ballantyne-martin-rattler",
          "1858_farrar-eric-or-little-by-little",
          "1861_hughes-tom-brown-at-oxford",
          "1862_farrar-st-winfreds-the-world-of-school",
          "1863_ballantyne-fighting-the-whales",
          "1863_kingsley-the-water-babies",
          "1865_ballantyne-the-lighthouse",
          "1865_carroll-alices-adventures-in-wonderland",
          "1869_dickens-david-copperfield",
          "1870_hemyng-jack-harkaways-boy-tinker-among-the-turks",
          "1871_carroll-through-the-looking-glass",
          "1871_macdonald-at-the-back-of-the-north-wind",
          "1871_macdonald-ranald-bannermans-boyhood",
          "1872_ballantyne-the-pioneers",
          "1872_macdonald-the-princess-and-the-goblin",
          "1873_ballantyne-life-in-the-red-brigade",
          "1873_macdonald-gutta-percha-willie-the-working-genius",
          "1874_ballantyne-the-pirate-city-an-algerine-tale",
          "1875_ballantyne-rivers-of-ice",
          "1875_macdonald-a-double-story",
          "1876_adams-hair-breadth-escapes-the-adventures-of-the-three-boys-in-south-africa",
          "1877_ballantyne-the-settler-and-the-savage",
          "1878_kingston-the-three-admirals",
          "1879_hemyng-jack-harkaway-in-new-york",
          "1879_hemyng-the-slave-of-the-mine",
          "1881_ballantyne-my-doggie-and-i",
          "1881_reed-the-fifth-form-at-st-dominics",
          "1882_ballantyne-the-life-of-a-ship",
          "1882_henty-facing-death",
          "1882_jefferies-bevis-the-story-of-a-boy",
          "1883_ballantyne-battles-with-the-sea",
          "1883_ballantyne-the-thorogood-family",
          "1883_fenn-nat-the-naturalist-a-boys-adventures-in-the-eastern-seas",
          "1883_kingston-adventures-in-africa",
          "1883_macdonald-the-princess-and-curdie",
          "1883_reed-the-adventures-of-a-three-guinea-watch",
          "1883_stevenson-treasure-island",
          "1884_collingwood-the-pirate-island-a-story-of-the-south-pacific",
          "1884_collingwood-under-the-meteor-flag-log-of-a-midshipman-during-the-french-revolutionary-ear",
          "1884_fenn-through-forest-and-stream",
          "1884_lang-the-princess-nobody-a-tale-of-fairyland",
          "1885_collingwood-the-congo-rovers-a-story-of-the-slave-squadron",
          "1885_collingwood-the-voyage-of-the-aurora",
          "1885_fenn-the-new-forest-spy",
          "1885_henty-the-dragon-and-the-raven",
          "1885_henty-the-young-colonists",
          "1885_kingston-adventures-in-australia",
          "1885_reed-follow-my-leader",
          "1885_reed-reginald-cruden",
          "1886_ballantyne-the-lively-poll",
          "1886_ballantyne-the-prairie-chief",
          "1886_fenn-son-phillip",
          "1886_henty-for-name-and-fame",
          "1886_henty-within-the-enemy-lines",
          "1886_stevenson-kidnapped",
          "1887_adams-perils-in-the-transvaal-and-zululand",
          "1887_collingwood-the-rovers-secret-a-tale-of-the-pirate-cays-and-lagoons-of-cuba",
          "1887_fenn-the-bag-of-diamonds",
          "1887_reed-the-master-of-the-shell",
          "1888_henty-sturdy-and-strong",
          "1888_in-the-reign-of-terror",
          "1888_lang-the-gold-of-fairnilee",
          "1888_macdonald-a-rough-shaking",
          "1888_wilde-the-happy-prince-and-other-tales",
          "1889_fenn-three-boys",
          "1889_lang-prince-prigio",
          "1889_reed-sir-ludar",
          "1890_ballantyne-the-eagle-cliff",
          "1891_reed-roger-ingleton-minor",
          "1893_reed-the-cock-house-at-fellsgarth",
          "1893_stevenson-catriona",
          "1894_collingwood-the-cruise-of-the-esmeralda",
          "1894_kipling-the-jungle-book",
          "1894_reed-a-dog-with-a-bad-name",
          "1894_reed-tom-dick-and-harry",
          "1895_collingwood-the-pirate-slaver-a-story-of-the-west-african-coast",
          "1895_kipling-the-second-jungle-book",
          "1895_reed-kilgorman-a-story-of-ireland-in-1798",
          "1896_collingswood-the-log-of-privateersman",
          "1897_kipling-captains-courageous-a-story-of-the-grand-banks",
          "1898_collingwood-a-pirate-of-the-caribbees",
          "1898_farrow-the-wallypug-in-london",
          "1899_collingwood-the-castaways",
          "1899_kipling-stalky-and-co",
          "1900_farrow-the-jungle-baby",
          "1900_hemyng-jack-harkaway-and-his-sons-escape-from-the-brigands-of-greece",
          "1906_collingwood-across-the-spanish-main-a-tale-of-the-sea-in-the-days-of-queen-bess",
          "1907_collingwood-with-airship-and-submarine-a-tale-of-adventure",
          "1908_collingwood-a-middy-in-command-a-tale-of-the-slave-squadron",
          "1908_collingwood-under-the-chilian-flag-a-tale-of-war-between-chili-and-peru",
          "1909_collingwood-harry-escombe-a-tale-of-adventure-in-peru",
          "1909_collingwood-the-cruise-of-the-thetis-a-tale-of-the-cuban-insurrection",
          "1910_collingwood-a-middy-of-the-slave-squadron-a-west-african-story",
          "1910_kipling-rewards-and-fairies",
          "1911_collingwood-a-middy-of-the-king-a-romance-of-the-old-british-navy",
          "1911_collingwood-the-adventures-of-dick-maitland-a-tale-of-unknown-africa",
          "1912_collingwood-two-gallant-sons-of-davon-a-tale-of-the-days-of-queen-bess",
          "1914_collingwood-the-first-mate-the-story-of-a-strange-cruise"
         ],
         "legendgroup": "M",
         "line": {
          "color": "Tomato"
         },
         "marker": {
          "symbol": "circle"
         },
         "mode": "markers+lines",
         "name": "M",
         "orientation": "v",
         "showlegend": true,
         "stackgroup": "1",
         "type": "scatter",
         "x": [
          1836,
          1841,
          1844,
          1845,
          1847,
          1848,
          1851,
          1855,
          1856,
          1857,
          1857,
          1858,
          1858,
          1861,
          1862,
          1863,
          1863,
          1865,
          1865,
          1869,
          1870,
          1871,
          1871,
          1871,
          1872,
          1872,
          1873,
          1873,
          1874,
          1875,
          1875,
          1876,
          1877,
          1878,
          1879,
          1879,
          1881,
          1881,
          1882,
          1882,
          1882,
          1883,
          1883,
          1883,
          1883,
          1883,
          1883,
          1883,
          1884,
          1884,
          1884,
          1884,
          1885,
          1885,
          1885,
          1885,
          1885,
          1885,
          1885,
          1885,
          1886,
          1886,
          1886,
          1886,
          1886,
          1886,
          1887,
          1887,
          1887,
          1887,
          1888,
          1888,
          1888,
          1888,
          1888,
          1889,
          1889,
          1889,
          1890,
          1891,
          1893,
          1893,
          1894,
          1894,
          1894,
          1894,
          1895,
          1895,
          1895,
          1896,
          1897,
          1898,
          1898,
          1899,
          1899,
          1900,
          1900,
          1906,
          1907,
          1908,
          1908,
          1909,
          1909,
          1910,
          1910,
          1911,
          1911,
          1912,
          1914
         ],
         "xaxis": "x",
         "y": [
          0.0001430861310325659,
          0.009919038161002688,
          0.0032790103239234256,
          0.006911756520258174,
          0.0009666555835577004,
          0.011014324897249371,
          0.07771184828639002,
          0.01627285601993593,
          0.0013886616994430335,
          0.006607500507543444,
          0.018716320643265075,
          0.008266893178260163,
          0.013266756594166334,
          0.017260509201355554,
          0.012897723961334328,
          0.0017306822213303302,
          0.06258763972394965,
          0.005644782694481733,
          0.04188316962841829,
          0.006925091976938276,
          0.000056069692646067395,
          0.05686251584387715,
          0.06380685790651583,
          0.024683979914837704,
          0.0020096693474961403,
          0.019486112754031566,
          0.0001231957426291173,
          0.06952815108247828,
          0.007452171842359622,
          0.0046799937768545975,
          0.04618685893521838,
          0.003972347842049316,
          0.0035442736774006977,
          0.003374025045888962,
          0.00006431680270876258,
          0.00047273882782189236,
          0.000148763774125267,
          0.0006983280699768786,
          0.0022998959596962666,
          0.00009093318764006507,
          0.05105294358958533,
          0.0006483899908523745,
          0.00041818410745248245,
          0.040623219472471266,
          0.00251984743035242,
          0.032824619357802884,
          0.00009947804700378725,
          0.003095794990185375,
          0.0003692418317548686,
          0.00919561977168603,
          0.0051295441410125035,
          0.43807037347990974,
          0.0017639470644838422,
          0.004144487778402853,
          0.053719396579548016,
          0.00003995555709463822,
          0.00045280085837511426,
          0.0021150555449946907,
          0.001248981486267782,
          0.00041013800575473853,
          0.00018140797402159802,
          0.0000873863689045228,
          0.011881357021833074,
          0.0005865017500124259,
          0.0004460970269946655,
          0.0036956331798104324,
          0.001429332487308386,
          0.0016975188014934732,
          0.0004179036692463145,
          0.0004413486324227507,
          0.000156418638217863,
          0.00009959656682447676,
          0.179555883584757,
          0.01114284050172214,
          0.23876692314757728,
          0.001477349901063123,
          0.04086478952172538,
          0.004657563117288187,
          0.010913290878478013,
          0.0017011032490867023,
          0.00003920489120425739,
          0.002006809066692501,
          0.00009910878379033442,
          0.029900929905434238,
          0.0021038642114996928,
          0.001890665009316481,
          0.0020434833617826707,
          0.033584870560525684,
          0.0021433357936952793,
          0.00006742182399119115,
          0.0006919155967372669,
          0.000021123528570689758,
          0.00036542651486620297,
          0.00037218959385933317,
          0.00916635436750808,
          0.12455716286501933,
          0.007023415104944733,
          0.0008773002398527011,
          0.001109070182675036,
          0.00017211690768265486,
          0.000012007099009735806,
          0.007848677884359558,
          0.003611343667113771,
          0.00009536835176978431,
          0.044762610655777954,
          0.0011303489017653822,
          0.0020039740904544963,
          0.006460860031184613,
          0.0002798473484348754
         ],
         "yaxis": "y"
        }
       ],
       "layout": {
        "legend": {
         "title": {
          "text": "authors_sex"
         },
         "tracegroupgap": 0
        },
        "template": {
         "data": {
          "bar": [
           {
            "error_x": {
             "color": "#2a3f5f"
            },
            "error_y": {
             "color": "#2a3f5f"
            },
            "marker": {
             "line": {
              "color": "#E5ECF6",
              "width": 0.5
             },
             "pattern": {
              "fillmode": "overlay",
              "size": 10,
              "solidity": 0.2
             }
            },
            "type": "bar"
           }
          ],
          "barpolar": [
           {
            "marker": {
             "line": {
              "color": "#E5ECF6",
              "width": 0.5
             },
             "pattern": {
              "fillmode": "overlay",
              "size": 10,
              "solidity": 0.2
             }
            },
            "type": "barpolar"
           }
          ],
          "carpet": [
           {
            "aaxis": {
             "endlinecolor": "#2a3f5f",
             "gridcolor": "white",
             "linecolor": "white",
             "minorgridcolor": "white",
             "startlinecolor": "#2a3f5f"
            },
            "baxis": {
             "endlinecolor": "#2a3f5f",
             "gridcolor": "white",
             "linecolor": "white",
             "minorgridcolor": "white",
             "startlinecolor": "#2a3f5f"
            },
            "type": "carpet"
           }
          ],
          "choropleth": [
           {
            "colorbar": {
             "outlinewidth": 0,
             "ticks": ""
            },
            "type": "choropleth"
           }
          ],
          "contour": [
           {
            "colorbar": {
             "outlinewidth": 0,
             "ticks": ""
            },
            "colorscale": [
             [
              0,
              "#0d0887"
             ],
             [
              0.1111111111111111,
              "#46039f"
             ],
             [
              0.2222222222222222,
              "#7201a8"
             ],
             [
              0.3333333333333333,
              "#9c179e"
             ],
             [
              0.4444444444444444,
              "#bd3786"
             ],
             [
              0.5555555555555556,
              "#d8576b"
             ],
             [
              0.6666666666666666,
              "#ed7953"
             ],
             [
              0.7777777777777778,
              "#fb9f3a"
             ],
             [
              0.8888888888888888,
              "#fdca26"
             ],
             [
              1,
              "#f0f921"
             ]
            ],
            "type": "contour"
           }
          ],
          "contourcarpet": [
           {
            "colorbar": {
             "outlinewidth": 0,
             "ticks": ""
            },
            "type": "contourcarpet"
           }
          ],
          "heatmap": [
           {
            "colorbar": {
             "outlinewidth": 0,
             "ticks": ""
            },
            "colorscale": [
             [
              0,
              "#0d0887"
             ],
             [
              0.1111111111111111,
              "#46039f"
             ],
             [
              0.2222222222222222,
              "#7201a8"
             ],
             [
              0.3333333333333333,
              "#9c179e"
             ],
             [
              0.4444444444444444,
              "#bd3786"
             ],
             [
              0.5555555555555556,
              "#d8576b"
             ],
             [
              0.6666666666666666,
              "#ed7953"
             ],
             [
              0.7777777777777778,
              "#fb9f3a"
             ],
             [
              0.8888888888888888,
              "#fdca26"
             ],
             [
              1,
              "#f0f921"
             ]
            ],
            "type": "heatmap"
           }
          ],
          "heatmapgl": [
           {
            "colorbar": {
             "outlinewidth": 0,
             "ticks": ""
            },
            "colorscale": [
             [
              0,
              "#0d0887"
             ],
             [
              0.1111111111111111,
              "#46039f"
             ],
             [
              0.2222222222222222,
              "#7201a8"
             ],
             [
              0.3333333333333333,
              "#9c179e"
             ],
             [
              0.4444444444444444,
              "#bd3786"
             ],
             [
              0.5555555555555556,
              "#d8576b"
             ],
             [
              0.6666666666666666,
              "#ed7953"
             ],
             [
              0.7777777777777778,
              "#fb9f3a"
             ],
             [
              0.8888888888888888,
              "#fdca26"
             ],
             [
              1,
              "#f0f921"
             ]
            ],
            "type": "heatmapgl"
           }
          ],
          "histogram": [
           {
            "marker": {
             "pattern": {
              "fillmode": "overlay",
              "size": 10,
              "solidity": 0.2
             }
            },
            "type": "histogram"
           }
          ],
          "histogram2d": [
           {
            "colorbar": {
             "outlinewidth": 0,
             "ticks": ""
            },
            "colorscale": [
             [
              0,
              "#0d0887"
             ],
             [
              0.1111111111111111,
              "#46039f"
             ],
             [
              0.2222222222222222,
              "#7201a8"
             ],
             [
              0.3333333333333333,
              "#9c179e"
             ],
             [
              0.4444444444444444,
              "#bd3786"
             ],
             [
              0.5555555555555556,
              "#d8576b"
             ],
             [
              0.6666666666666666,
              "#ed7953"
             ],
             [
              0.7777777777777778,
              "#fb9f3a"
             ],
             [
              0.8888888888888888,
              "#fdca26"
             ],
             [
              1,
              "#f0f921"
             ]
            ],
            "type": "histogram2d"
           }
          ],
          "histogram2dcontour": [
           {
            "colorbar": {
             "outlinewidth": 0,
             "ticks": ""
            },
            "colorscale": [
             [
              0,
              "#0d0887"
             ],
             [
              0.1111111111111111,
              "#46039f"
             ],
             [
              0.2222222222222222,
              "#7201a8"
             ],
             [
              0.3333333333333333,
              "#9c179e"
             ],
             [
              0.4444444444444444,
              "#bd3786"
             ],
             [
              0.5555555555555556,
              "#d8576b"
             ],
             [
              0.6666666666666666,
              "#ed7953"
             ],
             [
              0.7777777777777778,
              "#fb9f3a"
             ],
             [
              0.8888888888888888,
              "#fdca26"
             ],
             [
              1,
              "#f0f921"
             ]
            ],
            "type": "histogram2dcontour"
           }
          ],
          "mesh3d": [
           {
            "colorbar": {
             "outlinewidth": 0,
             "ticks": ""
            },
            "type": "mesh3d"
           }
          ],
          "parcoords": [
           {
            "line": {
             "colorbar": {
              "outlinewidth": 0,
              "ticks": ""
             }
            },
            "type": "parcoords"
           }
          ],
          "pie": [
           {
            "automargin": true,
            "type": "pie"
           }
          ],
          "scatter": [
           {
            "fillpattern": {
             "fillmode": "overlay",
             "size": 10,
             "solidity": 0.2
            },
            "type": "scatter"
           }
          ],
          "scatter3d": [
           {
            "line": {
             "colorbar": {
              "outlinewidth": 0,
              "ticks": ""
             }
            },
            "marker": {
             "colorbar": {
              "outlinewidth": 0,
              "ticks": ""
             }
            },
            "type": "scatter3d"
           }
          ],
          "scattercarpet": [
           {
            "marker": {
             "colorbar": {
              "outlinewidth": 0,
              "ticks": ""
             }
            },
            "type": "scattercarpet"
           }
          ],
          "scattergeo": [
           {
            "marker": {
             "colorbar": {
              "outlinewidth": 0,
              "ticks": ""
             }
            },
            "type": "scattergeo"
           }
          ],
          "scattergl": [
           {
            "marker": {
             "colorbar": {
              "outlinewidth": 0,
              "ticks": ""
             }
            },
            "type": "scattergl"
           }
          ],
          "scattermapbox": [
           {
            "marker": {
             "colorbar": {
              "outlinewidth": 0,
              "ticks": ""
             }
            },
            "type": "scattermapbox"
           }
          ],
          "scatterpolar": [
           {
            "marker": {
             "colorbar": {
              "outlinewidth": 0,
              "ticks": ""
             }
            },
            "type": "scatterpolar"
           }
          ],
          "scatterpolargl": [
           {
            "marker": {
             "colorbar": {
              "outlinewidth": 0,
              "ticks": ""
             }
            },
            "type": "scatterpolargl"
           }
          ],
          "scatterternary": [
           {
            "marker": {
             "colorbar": {
              "outlinewidth": 0,
              "ticks": ""
             }
            },
            "type": "scatterternary"
           }
          ],
          "surface": [
           {
            "colorbar": {
             "outlinewidth": 0,
             "ticks": ""
            },
            "colorscale": [
             [
              0,
              "#0d0887"
             ],
             [
              0.1111111111111111,
              "#46039f"
             ],
             [
              0.2222222222222222,
              "#7201a8"
             ],
             [
              0.3333333333333333,
              "#9c179e"
             ],
             [
              0.4444444444444444,
              "#bd3786"
             ],
             [
              0.5555555555555556,
              "#d8576b"
             ],
             [
              0.6666666666666666,
              "#ed7953"
             ],
             [
              0.7777777777777778,
              "#fb9f3a"
             ],
             [
              0.8888888888888888,
              "#fdca26"
             ],
             [
              1,
              "#f0f921"
             ]
            ],
            "type": "surface"
           }
          ],
          "table": [
           {
            "cells": {
             "fill": {
              "color": "#EBF0F8"
             },
             "line": {
              "color": "white"
             }
            },
            "header": {
             "fill": {
              "color": "#C8D4E3"
             },
             "line": {
              "color": "white"
             }
            },
            "type": "table"
           }
          ]
         },
         "layout": {
          "annotationdefaults": {
           "arrowcolor": "#2a3f5f",
           "arrowhead": 0,
           "arrowwidth": 1
          },
          "autotypenumbers": "strict",
          "coloraxis": {
           "colorbar": {
            "outlinewidth": 0,
            "ticks": ""
           }
          },
          "colorscale": {
           "diverging": [
            [
             0,
             "#8e0152"
            ],
            [
             0.1,
             "#c51b7d"
            ],
            [
             0.2,
             "#de77ae"
            ],
            [
             0.3,
             "#f1b6da"
            ],
            [
             0.4,
             "#fde0ef"
            ],
            [
             0.5,
             "#f7f7f7"
            ],
            [
             0.6,
             "#e6f5d0"
            ],
            [
             0.7,
             "#b8e186"
            ],
            [
             0.8,
             "#7fbc41"
            ],
            [
             0.9,
             "#4d9221"
            ],
            [
             1,
             "#276419"
            ]
           ],
           "sequential": [
            [
             0,
             "#0d0887"
            ],
            [
             0.1111111111111111,
             "#46039f"
            ],
            [
             0.2222222222222222,
             "#7201a8"
            ],
            [
             0.3333333333333333,
             "#9c179e"
            ],
            [
             0.4444444444444444,
             "#bd3786"
            ],
            [
             0.5555555555555556,
             "#d8576b"
            ],
            [
             0.6666666666666666,
             "#ed7953"
            ],
            [
             0.7777777777777778,
             "#fb9f3a"
            ],
            [
             0.8888888888888888,
             "#fdca26"
            ],
            [
             1,
             "#f0f921"
            ]
           ],
           "sequentialminus": [
            [
             0,
             "#0d0887"
            ],
            [
             0.1111111111111111,
             "#46039f"
            ],
            [
             0.2222222222222222,
             "#7201a8"
            ],
            [
             0.3333333333333333,
             "#9c179e"
            ],
            [
             0.4444444444444444,
             "#bd3786"
            ],
            [
             0.5555555555555556,
             "#d8576b"
            ],
            [
             0.6666666666666666,
             "#ed7953"
            ],
            [
             0.7777777777777778,
             "#fb9f3a"
            ],
            [
             0.8888888888888888,
             "#fdca26"
            ],
            [
             1,
             "#f0f921"
            ]
           ]
          },
          "colorway": [
           "#636efa",
           "#EF553B",
           "#00cc96",
           "#ab63fa",
           "#FFA15A",
           "#19d3f3",
           "#FF6692",
           "#B6E880",
           "#FF97FF",
           "#FECB52"
          ],
          "font": {
           "color": "#2a3f5f"
          },
          "geo": {
           "bgcolor": "white",
           "lakecolor": "white",
           "landcolor": "#E5ECF6",
           "showlakes": true,
           "showland": true,
           "subunitcolor": "white"
          },
          "hoverlabel": {
           "align": "left"
          },
          "hovermode": "closest",
          "mapbox": {
           "style": "light"
          },
          "paper_bgcolor": "white",
          "plot_bgcolor": "#E5ECF6",
          "polar": {
           "angularaxis": {
            "gridcolor": "white",
            "linecolor": "white",
            "ticks": ""
           },
           "bgcolor": "#E5ECF6",
           "radialaxis": {
            "gridcolor": "white",
            "linecolor": "white",
            "ticks": ""
           }
          },
          "scene": {
           "xaxis": {
            "backgroundcolor": "#E5ECF6",
            "gridcolor": "white",
            "gridwidth": 2,
            "linecolor": "white",
            "showbackground": true,
            "ticks": "",
            "zerolinecolor": "white"
           },
           "yaxis": {
            "backgroundcolor": "#E5ECF6",
            "gridcolor": "white",
            "gridwidth": 2,
            "linecolor": "white",
            "showbackground": true,
            "ticks": "",
            "zerolinecolor": "white"
           },
           "zaxis": {
            "backgroundcolor": "#E5ECF6",
            "gridcolor": "white",
            "gridwidth": 2,
            "linecolor": "white",
            "showbackground": true,
            "ticks": "",
            "zerolinecolor": "white"
           }
          },
          "shapedefaults": {
           "line": {
            "color": "#2a3f5f"
           }
          },
          "ternary": {
           "aaxis": {
            "gridcolor": "white",
            "linecolor": "white",
            "ticks": ""
           },
           "baxis": {
            "gridcolor": "white",
            "linecolor": "white",
            "ticks": ""
           },
           "bgcolor": "#E5ECF6",
           "caxis": {
            "gridcolor": "white",
            "linecolor": "white",
            "ticks": ""
           }
          },
          "title": {
           "x": 0.05
          },
          "xaxis": {
           "automargin": true,
           "gridcolor": "white",
           "linecolor": "white",
           "ticks": "",
           "title": {
            "standoff": 15
           },
           "zerolinecolor": "white",
           "zerolinewidth": 2
          },
          "yaxis": {
           "automargin": true,
           "gridcolor": "white",
           "linecolor": "white",
           "ticks": "",
           "title": {
            "standoff": 15
           },
           "zerolinecolor": "white",
           "zerolinewidth": 2
          }
         }
        },
        "title": {
         "text": "topic 19"
        },
        "xaxis": {
         "anchor": "y",
         "domain": [
          0,
          1
         ],
         "title": {
          "text": "year"
         }
        },
        "yaxis": {
         "anchor": "x",
         "domain": [
          0,
          1
         ],
         "title": {
          "text": "topic 19"
         }
        }
       }
      }
     },
     "metadata": {},
     "output_type": "display_data"
    },
    {
     "name": "stdout",
     "output_type": "stream",
     "text": [
      "https://plotly.com/~eliarizzetto/20/\n"
     ]
    }
   ],
   "source": [
    "topic_to_visualize = 'topic 19'\n",
    "\n",
    "fig = px.area(\n",
    "    complete_data_df,\n",
    "    x='year',\n",
    "    y=f\"{topic_to_visualize}\",\n",
    "    color='authors_sex',\n",
    "    markers=True,\n",
    "    hover_name='book_title',\n",
    "    labels={},\n",
    "    title=f\"{topic_to_visualize}\",\n",
    "    color_discrete_sequence=['MediumSeaGreen', 'Tomato'],\n",
    ")\n",
    "fig.show()\n",
    "print(csp.plot(fig, filename = f\"{topic_to_visualize}\", auto_open=False)) #create a file on plotly chart studio account and a link in this notebook\n"
   ]
  },
  {
   "cell_type": "code",
   "execution_count": 245,
   "metadata": {},
   "outputs": [
    {
     "data": {
      "application/vnd.plotly.v1+json": {
       "config": {
        "plotlyServerURL": "https://plotly.com"
       },
       "data": [
        {
         "alignmentgroup": "True",
         "hovertemplate": "<b>%{hovertext}</b><br><br>authors_sex=F<br>decade=%{x}<br>topic 31=%{y}<extra></extra>",
         "hovertext": [
          "1835_sherwood-shanty-the-blacksmith-a-tale-of-other-times",
          "1839_sinclair-holiday-house-a-series-of-tales",
          "1841_martineau-the-settlers-at-home",
          "1850_sherwood-the-young-lord-and-other-tales-to-which-is-added-victorine-durocher",
          "1851_hall-turns-of-fortune-and.other-tales",
          "1853_yonge-the-heir-of-redclyffe",
          "1854_yonge-the-little-duke-richard-the-fearless",
          "1855_yonge-the-lances-of-lynwood",
          "1856_yonge-the-daisy-chain-or-aspirations",
          "1857_browne-grannys-wonderful-chair",
          "1857_tucker-the-rambles-of-a-rat",
          "1858_tucker-flora",
          "1860_yonge-countess-kate",
          "1860_yonge-the-pigeon-pie",
          "1861_yonge-the-stokesley-secret",
          "1862_ewing-melchiors-dream-and-other-tales",
          "1863_tucker-the-crown-of-success",
          "1866_yonge-the-prince-and-the-page-a-story-of-the-last-crusade",
          "1867_stretton-jessicas-first-prayer-and-jessicas-mother",
          "1868_stretton-little-megs-children",
          "1869_ewing-mrs-overtheways-remembrances",
          "1869_ewing-the-land-of-lost-toys",
          "1869_stretton-alone-in-london",
          "1870_ewing-the-brownies-and-other-tales",
          "1871_yonge-little-lucys-wonderful-globe",
          "1872_craik-the-adventure-of-a-brownie",
          "1872_de_la_ramee-a-dog-of-flanders",
          "1872_meade-scamp-and-i-a-story-of-city-by-ways",
          "1873_ewing-a-flat-iron-for-a-farthing",
          "1875_craik-the-little-lame-prince-and-his-traveling-cloack",
          "1875_molesworth-tell-me-a-story",
          "1875_tucker-the-childrens-tabernacle-or-hand-work-and-heart-work",
          "1876_ewing-jan-of-the-windmill",
          "1876_ewing-six-to-sixteen-a-story-for-girls",
          "1876_molesworth-carrots-just-a-little-boy",
          "1877_ewing-a-great-emergency-and-other-tales",
          "1877_meade-davids-little-lad",
          "1877_molesworth-the-cuckoo-clock",
          "1877_sewell-black-beauty",
          "1878_molesworth-grandmother-dear-a-book-for-boys-and-girls",
          "1879_coleridge-the-constant-prince",
          "1879_ewing-jackanapes-daddy-darwins-dovecot-and-other-stories",
          "1879_molesworth-the-tapestry-room-a-childs-romance",
          "1880_burnett-louisiana",
          "1880_meade-mou-sete-a-negro-hero",
          "1880_molesworth-a-christmas-child-a-sketch-of-a-boy-life",
          "1882_delaramee-bimbi",
          "1882_ewing-brothers-of-pity-and-other-tales-of-beasts-and-men",
          "1882_meade-a-london-baby-the-story-of-king-roy",
          "1883_ewing-marys-meadow-and-other-tales-of-fields-and-flowers",
          "1883_meade-the-childrens-pilgrimage",
          "1883_molesworth-the-boys-and-i-a-childs-story-for-children",
          "1883_molesworth-two-little-waifs",
          "1884_molesworth-the-little-old-portrait",
          "1886_delaramee-a-houseparty",
          "1886_hodgson-burnett-little-lord-fauntleroy",
          "1886_leslie-a-sailors-lass",
          "1886_meade-a-world-of-girls",
          "1886_molesworth-christmas-tree-land",
          "1886_molesworth-us-an-old-fashioned-story",
          "1887_leslie-kates-ordeal",
          "1887_meade-the-palace-beautiful",
          "1887_molesworth-silverthorns",
          "1887_peard-prentice-hugh",
          "1888_burnett-little-saint-elizabeth-and-other-tales",
          "1888_burnett-sara-crewe",
          "1888_ewing-snap-dragons-old-father-christmas",
          "1888_meade-the-little-princess-of-towerhill",
          "1888_molesworth-a-christmas-posy",
          "1888_molesworth-the-third-miss-st-quentin",
          "1889_meade-polly-a-new-fashioned-girl",
          "1889_molesworth-the-rectory-children",
          "1889_tytler-a-house-full-of-girls",
          "1890_coleridge-maud-florence-nellie",
          "1890_meade-the-honorable-miss-a-story-of.an-old-fashioned-town",
          "1890_molesworth-robin-redbreast-a-story-for-girls",
          "1890_molesworth-the-children-of-the-castle",
          "1891_meade-a-sweet-girl-graduate",
          "1891_molesworth-nurse-heatherdales-story",
          "1892_everett_green-the-lord-of-dynevor-a-tale-of-the-times-of-edward-the-first",
          "1892_meade-the-lady-of-the-forest-a-story-for-girls",
          "1892_molesworth-the-girls-and-i-a-veracious-history",
          "1893_everett_green-in-the-days-of-chivalry-a-tale-of-the-times-of-the-black-prince",
          "1893_molesworth-blanche-a-story-for-girls",
          "1894_everett_green-the-lost-treasure-of-trevlyn-a-story-of-the-days-of-the-gunpowder-plot",
          "1894_everett_green-the-secret-chamber-at-chad",
          "1894_meade-red-rose-and-tiger-lily-or-in-a-wider-world",
          "1894_molesworth-my-new-home",
          "1895_burnett-two-little-pilgrims-process-a-story-of-the-city-beautiful",
          "1895_ewing-the-peace-egg-and-other-tales",
          "1895_meade-girls-new-and-old",
          "1895_molesworth-the-carved-lions",
          "1896_meade-a-little-mother-to-the-others",
          "1896_molesworth-philippa",
          "1897_meade-wild-kitty",
          "1897_molesworth-hoodie",
          "1897_molesworth-miss-mouse-and-her-boys",
          "1898_everett_green-a-clerk-of-oxford-and-his-adventures-in-the-barons-war",
          "1898_everett_green-tom-tuftons-travels",
          "1898_meade-a-bunch-of-cherries-a-story-of-cherry-court-school",
          "1898_meade-the-girls-of-st-wodes",
          "1899_everett_green-french-and.english-a-story-of-the-struggle-in-america",
          "1899_meade-light-o-the-morning",
          "1899_nesbit-pussy-and-doggy-tales",
          "1899_nesbit-the-story-of-the-treasure-seekers",
          "1900_everett_green-esthers-charge-a-story-for-girls",
          "1900_meade-a-plucky-girl",
          "1900_molesworth-the-house-that-grew",
          "1901_everett_green-in-the-wars-of-the-roses-a-story-for-the-young",
          "1901_meade-a-very-naughty-girl",
          "1901_meade-girls-of-the-true-blue",
          "1901_molesworth-the-wood-pigeons-and-mary",
          "1901_nesbit-the-book-of-dragons",
          "1901_nesbit-the-wouldbegoods",
          "1902_everett_green-for-the-faith-a-story-of-the-young-pioneers-of-reformation-in-oxford",
          "1902_meade-girls-of.the-forest",
          "1902_molesworth-peterkin",
          "1902_potter-the-tale-of-peter-rabbit",
          "1903_potter-the-tailor-of-gloucester",
          "1903_potter-the-tale-of-squirrel-nutkin",
          "1904_burnett-in-the-closed-room",
          "1904_everett_green-the-sign-of-the-red-cross-a-tale-of-old-london",
          "1904_meade-a-modern-tomboy-a-story-for-girls",
          "1904_nesbit-the-phoenix-and-the-carpet",
          "1904_potter-the-tale-of-benjamin-bunny",
          "1904_potter_the-tale-of-two-bad-mice",
          "1905_meade-a-bevy-of-girls",
          "1905_meade-a-plain-girl",
          "1905_nesbit-new-treasure-seekers-or-the-bastable-children-in-search-of-a-fortune",
          "1905_potter-the-tale-of-mrs-riggy-winkle",
          "1905_potter-the-tale-of-the-pie-and-the-the-patty-pan",
          "1906_burnett-racketty-packetty-house",
          "1906_everett_green-a-heroine-of-france-the-story-of-joan-of-arc",
          "1906_everett_green-fallen-fortunes",
          "1906_meade-turquoise-and-ruby",
          "1906_molesworth-jasper",
          "1906_nesbit-the-story-of-the-amulet",
          "1907_burnett-the-cozy-lion",
          "1907_meade-the-little-school-mothers",
          "1907_meade-three-girls-from-school",
          "1907_nesbit-the-enchanted-castle",
          "1908_burnett-the-good-wolf",
          "1908_potter-the-tale-of-jemina-puddle-duck",
          "1908_potter-the-tale-of-samuel-whiskers-the-roly-poly-pudding",
          "1909_burnett-barty-crusoe-and-his-man-saturday",
          "1909_potter-the-tale-of-ginger-and-pickles",
          "1909_potter-the-tale-of-the-flopsy-bunnies",
          "1910_meade-betty-vivian-a-story-of-haddo-court-school",
          "1910_meade-sue-a-little-heroine",
          "1910_meade-the-school-queens",
          "1910_potter-the-tale-pf-mrs-tittlemouse",
          "1911_burnett-the-secret-garden",
          "1911_nesbit-the-wonderful-garden-oir-the-three-cs",
          "1911_potter-the-tale-of-timmy-tiptoes",
          "1912_nesbit-the-magic-world",
          "1912_potter-the-tale-of-mr-tod",
          "1913_nesbit-wet-magic"
         ],
         "legendgroup": "F",
         "marker": {
          "color": "MediumSeaGreen",
          "pattern": {
           "shape": ""
          }
         },
         "name": "F",
         "offsetgroup": "F",
         "orientation": "v",
         "showlegend": true,
         "textposition": "auto",
         "type": "bar",
         "x": [
          "1830s",
          "1830s",
          "1840s",
          "1850s",
          "1850s",
          "1850s",
          "1850s",
          "1850s",
          "1850s",
          "1850s",
          "1850s",
          "1850s",
          "1860s",
          "1860s",
          "1860s",
          "1860s",
          "1860s",
          "1860s",
          "1860s",
          "1860s",
          "1860s",
          "1860s",
          "1860s",
          "1870s",
          "1870s",
          "1870s",
          "1870s",
          "1870s",
          "1870s",
          "1870s",
          "1870s",
          "1870s",
          "1870s",
          "1870s",
          "1870s",
          "1870s",
          "1870s",
          "1870s",
          "1870s",
          "1870s",
          "1870s",
          "1870s",
          "1870s",
          "1880s",
          "1880s",
          "1880s",
          "1880s",
          "1880s",
          "1880s",
          "1880s",
          "1880s",
          "1880s",
          "1880s",
          "1880s",
          "1880s",
          "1880s",
          "1880s",
          "1880s",
          "1880s",
          "1880s",
          "1880s",
          "1880s",
          "1880s",
          "1880s",
          "1880s",
          "1880s",
          "1880s",
          "1880s",
          "1880s",
          "1880s",
          "1880s",
          "1880s",
          "1880s",
          "1890s",
          "1890s",
          "1890s",
          "1890s",
          "1890s",
          "1890s",
          "1890s",
          "1890s",
          "1890s",
          "1890s",
          "1890s",
          "1890s",
          "1890s",
          "1890s",
          "1890s",
          "1890s",
          "1890s",
          "1890s",
          "1890s",
          "1890s",
          "1890s",
          "1890s",
          "1890s",
          "1890s",
          "1890s",
          "1890s",
          "1890s",
          "1890s",
          "1890s",
          "1890s",
          "1890s",
          "1890s",
          "1900s",
          "1900s",
          "1900s",
          "1900s",
          "1900s",
          "1900s",
          "1900s",
          "1900s",
          "1900s",
          "1900s",
          "1900s",
          "1900s",
          "1900s",
          "1900s",
          "1900s",
          "1900s",
          "1900s",
          "1900s",
          "1900s",
          "1900s",
          "1900s",
          "1900s",
          "1900s",
          "1900s",
          "1900s",
          "1900s",
          "1900s",
          "1900s",
          "1900s",
          "1900s",
          "1900s",
          "1900s",
          "1900s",
          "1900s",
          "1900s",
          "1900s",
          "1900s",
          "1900s",
          "1900s",
          "1900s",
          "1900s",
          "1900s",
          "1910s",
          "1910s",
          "1910s",
          "1910s",
          "1910s",
          "1910s",
          "1910s",
          "1910s",
          "1910s",
          "1910s"
         ],
         "xaxis": "x",
         "y": [
          0.0003079762359780997,
          0.007415716055140487,
          0.0004274012711366469,
          0.00002573327287068056,
          0.0005007578853718788,
          0.00005817164798105092,
          0.00003874055258058312,
          0.025316254553053558,
          0.0008213829178510976,
          0.00009541478523794542,
          0.004285247140509511,
          0.00009199692677677475,
          0.0011748989427081077,
          0.013082419436406388,
          0.0013679092847125318,
          0.0027709145888720906,
          0.000033802382613255965,
          0.0024029986712239696,
          0.0001541347057828412,
          0.00011003641258519302,
          0.000011663607910523129,
          0.0027525606784043533,
          0.0005357414790132261,
          0.002480794165947926,
          0.0015508572967965948,
          0.00012778559390366304,
          0.00023142770307427272,
          0.00008760271846353413,
          0.00005821227253063203,
          0.00013904150501620348,
          0.00014789152775604108,
          0.0012171579726213736,
          0.0009613509905389934,
          0.0006322763718749281,
          0.000021846669323273564,
          0.00011065192340274963,
          0.000041854985269346086,
          0.00016162526633900623,
          0.008044043493215214,
          0.0007652501748905608,
          0.02876098733504733,
          0.01365586019507657,
          0.000016493557343570244,
          0.0003132041562129779,
          0.021213628086751285,
          0.00024244343932088938,
          0.005330573829465253,
          0.00588707653419513,
          0.0000789823167364118,
          0.000032181847449282104,
          0.0005597887989632218,
          0.00045478714889933916,
          0.00038492836559405594,
          0.004505077235165798,
          0.00006085141290408938,
          0.000044902587161277476,
          0.006627112692441911,
          0.005142778976233658,
          0.0003836091856992586,
          0.001308231346028589,
          0.0002281878881747823,
          0.0009296909077251461,
          0.00020693940555744112,
          0.00000985401442753228,
          0.0000282371455490016,
          0.00010553912754295079,
          0.001230116228739411,
          0.006493605663009902,
          0.00012014378371687854,
          0.000024725363348248764,
          0.0008552800392664081,
          0.00008669791617023168,
          0.00329756656175297,
          0.000015063949234537256,
          0.0015503395840385029,
          0.00048169780525369766,
          0.000024081383815799573,
          0.00006669684807088072,
          0.00002132172857191272,
          0.010273473433454037,
          0.000011291146930512856,
          0.0002610492805280726,
          0.023868753222014753,
          0.00006028492848069948,
          0.00006745228789853084,
          0.00007548644172030962,
          0.0005122915014589976,
          0.00012443850462178586,
          0.00009440959493405076,
          0.005366028669980844,
          0.00007362593557943997,
          0.000044553490152017334,
          0.00008521600207173226,
          0.0014133405601149801,
          0.00034815990070053923,
          0.00014107882530146857,
          0.00002199244534414565,
          0.013980531285908655,
          0.009942645838080782,
          0.00001239520650515094,
          0.000019613491846653253,
          0.2738905355469903,
          0.00004798992270516721,
          0.00018875604202412153,
          0.00003216657900996726,
          0.0011115846159299742,
          0.00009496263004175443,
          0.0009400191274278453,
          0.017774654622281037,
          0.00010129497146631975,
          0.014578188328576202,
          0.00002289261026347414,
          0.0009512242462200929,
          0.03708528799581512,
          0.002001795898940097,
          0.00008924459634362582,
          0.00005123054984966054,
          0.0008010174084356928,
          0.0001574264694097442,
          0.00035740307020246803,
          0.00020235824628519198,
          0.0037232533804848022,
          0.002198596343485688,
          0.00003665067593960171,
          0.0005552320682495232,
          0.0004453698192313601,
          0.003697475371421844,
          0.000009602798935844311,
          0.000022674611904107736,
          0.00039069073886991703,
          0.0004761035627755252,
          0.002007613749488431,
          0.067085814755955,
          0.007608050917224922,
          0.00006216557289658851,
          0.000017490758965984756,
          0.007994144082981578,
          0.020822285749975113,
          0.00003366878014139103,
          0.00004227347861548288,
          0.00041518889141343827,
          0.00040220598666168344,
          0.0004586505904202981,
          0.00022607235678655967,
          0.00004169732044339829,
          0.00043487618985138375,
          0.0006311822103507984,
          0.000026197554470144386,
          0.000009499991694857862,
          0.0005019904716072155,
          0.0003415308120163954,
          0.0002987103683308771,
          0.00004513827364346756,
          0.0008502836231384986,
          0.00009852407176712197,
          0.0003848549080764838,
          0.04555480514106135
         ],
         "yaxis": "y"
        },
        {
         "alignmentgroup": "True",
         "hovertemplate": "<b>%{hovertext}</b><br><br>authors_sex=M<br>decade=%{x}<br>topic 31=%{y}<extra></extra>",
         "hovertext": [
          "1836_marryat-mr-midshipman-easy",
          "1841_marryat-masterman-ready",
          "1844_marryat-the-settlers-in-canada",
          "1845_dickens-the-cricket-on-the-hearth-a-fairy-tale-of-home",
          "1847_marryat-the-children-of-the-new-forest",
          "1848_marryat-the-little-savage",
          "1851_ruskin-the-king-of-the-golden-river",
          "1855_kingsley-westward-ho",
          "1856_ballantyne-the-young-fur-traders",
          "1857_ballantyne-the-coral-island-a-tale-of-the-pacific-ocean",
          "1857_hughes-tom-browns-school-days",
          "1858_ballantyne-martin-rattler",
          "1858_farrar-eric-or-little-by-little",
          "1861_hughes-tom-brown-at-oxford",
          "1862_farrar-st-winfreds-the-world-of-school",
          "1863_ballantyne-fighting-the-whales",
          "1863_kingsley-the-water-babies",
          "1865_ballantyne-the-lighthouse",
          "1865_carroll-alices-adventures-in-wonderland",
          "1869_dickens-david-copperfield",
          "1870_hemyng-jack-harkaways-boy-tinker-among-the-turks",
          "1871_carroll-through-the-looking-glass",
          "1871_macdonald-at-the-back-of-the-north-wind",
          "1871_macdonald-ranald-bannermans-boyhood",
          "1872_ballantyne-the-pioneers",
          "1872_macdonald-the-princess-and-the-goblin",
          "1873_ballantyne-life-in-the-red-brigade",
          "1873_macdonald-gutta-percha-willie-the-working-genius",
          "1874_ballantyne-the-pirate-city-an-algerine-tale",
          "1875_ballantyne-rivers-of-ice",
          "1875_macdonald-a-double-story",
          "1876_adams-hair-breadth-escapes-the-adventures-of-the-three-boys-in-south-africa",
          "1877_ballantyne-the-settler-and-the-savage",
          "1878_kingston-the-three-admirals",
          "1879_hemyng-jack-harkaway-in-new-york",
          "1879_hemyng-the-slave-of-the-mine",
          "1881_ballantyne-my-doggie-and-i",
          "1881_reed-the-fifth-form-at-st-dominics",
          "1882_ballantyne-the-life-of-a-ship",
          "1882_henty-facing-death",
          "1882_jefferies-bevis-the-story-of-a-boy",
          "1883_ballantyne-battles-with-the-sea",
          "1883_ballantyne-the-thorogood-family",
          "1883_fenn-nat-the-naturalist-a-boys-adventures-in-the-eastern-seas",
          "1883_kingston-adventures-in-africa",
          "1883_macdonald-the-princess-and-curdie",
          "1883_reed-the-adventures-of-a-three-guinea-watch",
          "1883_stevenson-treasure-island",
          "1884_collingwood-the-pirate-island-a-story-of-the-south-pacific",
          "1884_collingwood-under-the-meteor-flag-log-of-a-midshipman-during-the-french-revolutionary-ear",
          "1884_fenn-through-forest-and-stream",
          "1884_lang-the-princess-nobody-a-tale-of-fairyland",
          "1885_collingwood-the-congo-rovers-a-story-of-the-slave-squadron",
          "1885_collingwood-the-voyage-of-the-aurora",
          "1885_fenn-the-new-forest-spy",
          "1885_henty-the-dragon-and-the-raven",
          "1885_henty-the-young-colonists",
          "1885_kingston-adventures-in-australia",
          "1885_reed-follow-my-leader",
          "1885_reed-reginald-cruden",
          "1886_ballantyne-the-lively-poll",
          "1886_ballantyne-the-prairie-chief",
          "1886_fenn-son-phillip",
          "1886_henty-for-name-and-fame",
          "1886_henty-within-the-enemy-lines",
          "1886_stevenson-kidnapped",
          "1887_adams-perils-in-the-transvaal-and-zululand",
          "1887_collingwood-the-rovers-secret-a-tale-of-the-pirate-cays-and-lagoons-of-cuba",
          "1887_fenn-the-bag-of-diamonds",
          "1887_reed-the-master-of-the-shell",
          "1888_henty-sturdy-and-strong",
          "1888_in-the-reign-of-terror",
          "1888_lang-the-gold-of-fairnilee",
          "1888_macdonald-a-rough-shaking",
          "1888_wilde-the-happy-prince-and-other-tales",
          "1889_fenn-three-boys",
          "1889_lang-prince-prigio",
          "1889_reed-sir-ludar",
          "1890_ballantyne-the-eagle-cliff",
          "1891_reed-roger-ingleton-minor",
          "1893_reed-the-cock-house-at-fellsgarth",
          "1893_stevenson-catriona",
          "1894_collingwood-the-cruise-of-the-esmeralda",
          "1894_kipling-the-jungle-book",
          "1894_reed-a-dog-with-a-bad-name",
          "1894_reed-tom-dick-and-harry",
          "1895_collingwood-the-pirate-slaver-a-story-of-the-west-african-coast",
          "1895_kipling-the-second-jungle-book",
          "1895_reed-kilgorman-a-story-of-ireland-in-1798",
          "1896_collingswood-the-log-of-privateersman",
          "1897_kipling-captains-courageous-a-story-of-the-grand-banks",
          "1898_collingwood-a-pirate-of-the-caribbees",
          "1898_farrow-the-wallypug-in-london",
          "1899_collingwood-the-castaways",
          "1899_kipling-stalky-and-co",
          "1900_farrow-the-jungle-baby",
          "1900_hemyng-jack-harkaway-and-his-sons-escape-from-the-brigands-of-greece",
          "1906_collingwood-across-the-spanish-main-a-tale-of-the-sea-in-the-days-of-queen-bess",
          "1907_collingwood-with-airship-and-submarine-a-tale-of-adventure",
          "1908_collingwood-a-middy-in-command-a-tale-of-the-slave-squadron",
          "1908_collingwood-under-the-chilian-flag-a-tale-of-war-between-chili-and-peru",
          "1909_collingwood-harry-escombe-a-tale-of-adventure-in-peru",
          "1909_collingwood-the-cruise-of-the-thetis-a-tale-of-the-cuban-insurrection",
          "1910_collingwood-a-middy-of-the-slave-squadron-a-west-african-story",
          "1910_kipling-rewards-and-fairies",
          "1911_collingwood-a-middy-of-the-king-a-romance-of-the-old-british-navy",
          "1911_collingwood-the-adventures-of-dick-maitland-a-tale-of-unknown-africa",
          "1912_collingwood-two-gallant-sons-of-davon-a-tale-of-the-days-of-queen-bess",
          "1914_collingwood-the-first-mate-the-story-of-a-strange-cruise"
         ],
         "legendgroup": "M",
         "marker": {
          "color": "Tomato",
          "pattern": {
           "shape": ""
          }
         },
         "name": "M",
         "offsetgroup": "M",
         "orientation": "v",
         "showlegend": true,
         "textposition": "auto",
         "type": "bar",
         "x": [
          "1830s",
          "1840s",
          "1840s",
          "1840s",
          "1840s",
          "1840s",
          "1850s",
          "1850s",
          "1850s",
          "1850s",
          "1850s",
          "1850s",
          "1850s",
          "1860s",
          "1860s",
          "1860s",
          "1860s",
          "1860s",
          "1860s",
          "1860s",
          "1870s",
          "1870s",
          "1870s",
          "1870s",
          "1870s",
          "1870s",
          "1870s",
          "1870s",
          "1870s",
          "1870s",
          "1870s",
          "1870s",
          "1870s",
          "1870s",
          "1870s",
          "1870s",
          "1880s",
          "1880s",
          "1880s",
          "1880s",
          "1880s",
          "1880s",
          "1880s",
          "1880s",
          "1880s",
          "1880s",
          "1880s",
          "1880s",
          "1880s",
          "1880s",
          "1880s",
          "1880s",
          "1880s",
          "1880s",
          "1880s",
          "1880s",
          "1880s",
          "1880s",
          "1880s",
          "1880s",
          "1880s",
          "1880s",
          "1880s",
          "1880s",
          "1880s",
          "1880s",
          "1880s",
          "1880s",
          "1880s",
          "1880s",
          "1880s",
          "1880s",
          "1880s",
          "1880s",
          "1880s",
          "1880s",
          "1880s",
          "1880s",
          "1890s",
          "1890s",
          "1890s",
          "1890s",
          "1890s",
          "1890s",
          "1890s",
          "1890s",
          "1890s",
          "1890s",
          "1890s",
          "1890s",
          "1890s",
          "1890s",
          "1890s",
          "1890s",
          "1890s",
          "1900s",
          "1900s",
          "1900s",
          "1900s",
          "1900s",
          "1900s",
          "1900s",
          "1900s",
          "1910s",
          "1910s",
          "1910s",
          "1910s",
          "1910s",
          "1910s"
         ],
         "xaxis": "x",
         "y": [
          0.015015438674216224,
          0.003801774231637591,
          0.027840676376354477,
          0.0003290741606031235,
          0.018925153054598236,
          0.00004237824491517971,
          0.00014064076126845255,
          0.007925078415308314,
          0.004913422158531178,
          0.0018731091067457322,
          0.008937058090783254,
          0.00005414830555069401,
          0.000023625464285901048,
          0.009485748467140396,
          0.0009521960403785233,
          0.00034400340538941144,
          0.0003124316565172872,
          0.010774156127990334,
          0.00006567073166349944,
          0.0016371174481804567,
          0.02425454802195373,
          0.00002756246507772052,
          0.00011307051852370539,
          0.0044089612981846145,
          0.010110267933075932,
          0.0007028934168911822,
          0.014787938623024532,
          0.00013121093931928304,
          0.016470356030979245,
          0.001693040928870401,
          0.00021794013126713184,
          0.017536001847477483,
          0.07549826676173049,
          0.10755802383121363,
          0.00007315464021889778,
          0.0013445133050484573,
          0.001585862732164101,
          0.002755840519385855,
          0.00022771364908558714,
          0.019226917461473786,
          0.012830748765759707,
          0.030642401778112525,
          0.06107144023858713,
          0.0009222570096118614,
          0.008366968187486903,
          0.015586153430186088,
          0.02990893605475924,
          0.015035408036788673,
          0.005011496904271222,
          0.044087606958516115,
          0.000023093110596425932,
          0.0006907036675265236,
          0.01324438423948274,
          0.0013894060243784061,
          0.027911240266423637,
          0.26409881182006967,
          0.38919916692374884,
          0.015022939434718642,
          0.0014130281595307798,
          0.00023172368642284137,
          0.0005947605765319939,
          0.05385493552693454,
          0.00016943513795648126,
          0.44451620896958727,
          0.026772475177087137,
          0.020301754497019115,
          0.17199147798464035,
          0.009248132159721811,
          0.00005260011823486375,
          0.00021744176434202668,
          0.010531327998430614,
          0.027896741350969707,
          0.022277583774971216,
          0.00017028801940311032,
          0.00010093045401605035,
          0.0048970305470716815,
          0.004517594723229301,
          0.022300516249515855,
          0.012860664449832518,
          0.00003475510033465049,
          0.014471287748526534,
          0.008500919537519218,
          0.00006040516761088876,
          0.017793803771687093,
          0.028492687130080407,
          0.006788651106912136,
          0.0031238889622304,
          0.0006978632206245662,
          0.019061050935813575,
          0.005846670887560378,
          0.0003531387936388669,
          0.0030712568546218894,
          0.008678124257171727,
          0.0007062613807487362,
          0.03325991826518793,
          0.011914704988281006,
          0.008729790231133584,
          0.011295562463867266,
          0.00317676090041734,
          0.0009586841915457685,
          0.09537931537857842,
          0.01632129842834033,
          0.08197980225594559,
          0.01274653739817041,
          0.00002981616257905399,
          0.029403598916217268,
          0.03960649347027573,
          0.03821435288333202,
          0.004771870721909885
         ],
         "yaxis": "y"
        }
       ],
       "layout": {
        "barmode": "group",
        "height": 400,
        "legend": {
         "title": {
          "text": "authors_sex"
         },
         "tracegroupgap": 0
        },
        "template": {
         "data": {
          "bar": [
           {
            "error_x": {
             "color": "#2a3f5f"
            },
            "error_y": {
             "color": "#2a3f5f"
            },
            "marker": {
             "line": {
              "color": "#E5ECF6",
              "width": 0.5
             },
             "pattern": {
              "fillmode": "overlay",
              "size": 10,
              "solidity": 0.2
             }
            },
            "type": "bar"
           }
          ],
          "barpolar": [
           {
            "marker": {
             "line": {
              "color": "#E5ECF6",
              "width": 0.5
             },
             "pattern": {
              "fillmode": "overlay",
              "size": 10,
              "solidity": 0.2
             }
            },
            "type": "barpolar"
           }
          ],
          "carpet": [
           {
            "aaxis": {
             "endlinecolor": "#2a3f5f",
             "gridcolor": "white",
             "linecolor": "white",
             "minorgridcolor": "white",
             "startlinecolor": "#2a3f5f"
            },
            "baxis": {
             "endlinecolor": "#2a3f5f",
             "gridcolor": "white",
             "linecolor": "white",
             "minorgridcolor": "white",
             "startlinecolor": "#2a3f5f"
            },
            "type": "carpet"
           }
          ],
          "choropleth": [
           {
            "colorbar": {
             "outlinewidth": 0,
             "ticks": ""
            },
            "type": "choropleth"
           }
          ],
          "contour": [
           {
            "colorbar": {
             "outlinewidth": 0,
             "ticks": ""
            },
            "colorscale": [
             [
              0,
              "#0d0887"
             ],
             [
              0.1111111111111111,
              "#46039f"
             ],
             [
              0.2222222222222222,
              "#7201a8"
             ],
             [
              0.3333333333333333,
              "#9c179e"
             ],
             [
              0.4444444444444444,
              "#bd3786"
             ],
             [
              0.5555555555555556,
              "#d8576b"
             ],
             [
              0.6666666666666666,
              "#ed7953"
             ],
             [
              0.7777777777777778,
              "#fb9f3a"
             ],
             [
              0.8888888888888888,
              "#fdca26"
             ],
             [
              1,
              "#f0f921"
             ]
            ],
            "type": "contour"
           }
          ],
          "contourcarpet": [
           {
            "colorbar": {
             "outlinewidth": 0,
             "ticks": ""
            },
            "type": "contourcarpet"
           }
          ],
          "heatmap": [
           {
            "colorbar": {
             "outlinewidth": 0,
             "ticks": ""
            },
            "colorscale": [
             [
              0,
              "#0d0887"
             ],
             [
              0.1111111111111111,
              "#46039f"
             ],
             [
              0.2222222222222222,
              "#7201a8"
             ],
             [
              0.3333333333333333,
              "#9c179e"
             ],
             [
              0.4444444444444444,
              "#bd3786"
             ],
             [
              0.5555555555555556,
              "#d8576b"
             ],
             [
              0.6666666666666666,
              "#ed7953"
             ],
             [
              0.7777777777777778,
              "#fb9f3a"
             ],
             [
              0.8888888888888888,
              "#fdca26"
             ],
             [
              1,
              "#f0f921"
             ]
            ],
            "type": "heatmap"
           }
          ],
          "heatmapgl": [
           {
            "colorbar": {
             "outlinewidth": 0,
             "ticks": ""
            },
            "colorscale": [
             [
              0,
              "#0d0887"
             ],
             [
              0.1111111111111111,
              "#46039f"
             ],
             [
              0.2222222222222222,
              "#7201a8"
             ],
             [
              0.3333333333333333,
              "#9c179e"
             ],
             [
              0.4444444444444444,
              "#bd3786"
             ],
             [
              0.5555555555555556,
              "#d8576b"
             ],
             [
              0.6666666666666666,
              "#ed7953"
             ],
             [
              0.7777777777777778,
              "#fb9f3a"
             ],
             [
              0.8888888888888888,
              "#fdca26"
             ],
             [
              1,
              "#f0f921"
             ]
            ],
            "type": "heatmapgl"
           }
          ],
          "histogram": [
           {
            "marker": {
             "pattern": {
              "fillmode": "overlay",
              "size": 10,
              "solidity": 0.2
             }
            },
            "type": "histogram"
           }
          ],
          "histogram2d": [
           {
            "colorbar": {
             "outlinewidth": 0,
             "ticks": ""
            },
            "colorscale": [
             [
              0,
              "#0d0887"
             ],
             [
              0.1111111111111111,
              "#46039f"
             ],
             [
              0.2222222222222222,
              "#7201a8"
             ],
             [
              0.3333333333333333,
              "#9c179e"
             ],
             [
              0.4444444444444444,
              "#bd3786"
             ],
             [
              0.5555555555555556,
              "#d8576b"
             ],
             [
              0.6666666666666666,
              "#ed7953"
             ],
             [
              0.7777777777777778,
              "#fb9f3a"
             ],
             [
              0.8888888888888888,
              "#fdca26"
             ],
             [
              1,
              "#f0f921"
             ]
            ],
            "type": "histogram2d"
           }
          ],
          "histogram2dcontour": [
           {
            "colorbar": {
             "outlinewidth": 0,
             "ticks": ""
            },
            "colorscale": [
             [
              0,
              "#0d0887"
             ],
             [
              0.1111111111111111,
              "#46039f"
             ],
             [
              0.2222222222222222,
              "#7201a8"
             ],
             [
              0.3333333333333333,
              "#9c179e"
             ],
             [
              0.4444444444444444,
              "#bd3786"
             ],
             [
              0.5555555555555556,
              "#d8576b"
             ],
             [
              0.6666666666666666,
              "#ed7953"
             ],
             [
              0.7777777777777778,
              "#fb9f3a"
             ],
             [
              0.8888888888888888,
              "#fdca26"
             ],
             [
              1,
              "#f0f921"
             ]
            ],
            "type": "histogram2dcontour"
           }
          ],
          "mesh3d": [
           {
            "colorbar": {
             "outlinewidth": 0,
             "ticks": ""
            },
            "type": "mesh3d"
           }
          ],
          "parcoords": [
           {
            "line": {
             "colorbar": {
              "outlinewidth": 0,
              "ticks": ""
             }
            },
            "type": "parcoords"
           }
          ],
          "pie": [
           {
            "automargin": true,
            "type": "pie"
           }
          ],
          "scatter": [
           {
            "fillpattern": {
             "fillmode": "overlay",
             "size": 10,
             "solidity": 0.2
            },
            "type": "scatter"
           }
          ],
          "scatter3d": [
           {
            "line": {
             "colorbar": {
              "outlinewidth": 0,
              "ticks": ""
             }
            },
            "marker": {
             "colorbar": {
              "outlinewidth": 0,
              "ticks": ""
             }
            },
            "type": "scatter3d"
           }
          ],
          "scattercarpet": [
           {
            "marker": {
             "colorbar": {
              "outlinewidth": 0,
              "ticks": ""
             }
            },
            "type": "scattercarpet"
           }
          ],
          "scattergeo": [
           {
            "marker": {
             "colorbar": {
              "outlinewidth": 0,
              "ticks": ""
             }
            },
            "type": "scattergeo"
           }
          ],
          "scattergl": [
           {
            "marker": {
             "colorbar": {
              "outlinewidth": 0,
              "ticks": ""
             }
            },
            "type": "scattergl"
           }
          ],
          "scattermapbox": [
           {
            "marker": {
             "colorbar": {
              "outlinewidth": 0,
              "ticks": ""
             }
            },
            "type": "scattermapbox"
           }
          ],
          "scatterpolar": [
           {
            "marker": {
             "colorbar": {
              "outlinewidth": 0,
              "ticks": ""
             }
            },
            "type": "scatterpolar"
           }
          ],
          "scatterpolargl": [
           {
            "marker": {
             "colorbar": {
              "outlinewidth": 0,
              "ticks": ""
             }
            },
            "type": "scatterpolargl"
           }
          ],
          "scatterternary": [
           {
            "marker": {
             "colorbar": {
              "outlinewidth": 0,
              "ticks": ""
             }
            },
            "type": "scatterternary"
           }
          ],
          "surface": [
           {
            "colorbar": {
             "outlinewidth": 0,
             "ticks": ""
            },
            "colorscale": [
             [
              0,
              "#0d0887"
             ],
             [
              0.1111111111111111,
              "#46039f"
             ],
             [
              0.2222222222222222,
              "#7201a8"
             ],
             [
              0.3333333333333333,
              "#9c179e"
             ],
             [
              0.4444444444444444,
              "#bd3786"
             ],
             [
              0.5555555555555556,
              "#d8576b"
             ],
             [
              0.6666666666666666,
              "#ed7953"
             ],
             [
              0.7777777777777778,
              "#fb9f3a"
             ],
             [
              0.8888888888888888,
              "#fdca26"
             ],
             [
              1,
              "#f0f921"
             ]
            ],
            "type": "surface"
           }
          ],
          "table": [
           {
            "cells": {
             "fill": {
              "color": "#EBF0F8"
             },
             "line": {
              "color": "white"
             }
            },
            "header": {
             "fill": {
              "color": "#C8D4E3"
             },
             "line": {
              "color": "white"
             }
            },
            "type": "table"
           }
          ]
         },
         "layout": {
          "annotationdefaults": {
           "arrowcolor": "#2a3f5f",
           "arrowhead": 0,
           "arrowwidth": 1
          },
          "autotypenumbers": "strict",
          "coloraxis": {
           "colorbar": {
            "outlinewidth": 0,
            "ticks": ""
           }
          },
          "colorscale": {
           "diverging": [
            [
             0,
             "#8e0152"
            ],
            [
             0.1,
             "#c51b7d"
            ],
            [
             0.2,
             "#de77ae"
            ],
            [
             0.3,
             "#f1b6da"
            ],
            [
             0.4,
             "#fde0ef"
            ],
            [
             0.5,
             "#f7f7f7"
            ],
            [
             0.6,
             "#e6f5d0"
            ],
            [
             0.7,
             "#b8e186"
            ],
            [
             0.8,
             "#7fbc41"
            ],
            [
             0.9,
             "#4d9221"
            ],
            [
             1,
             "#276419"
            ]
           ],
           "sequential": [
            [
             0,
             "#0d0887"
            ],
            [
             0.1111111111111111,
             "#46039f"
            ],
            [
             0.2222222222222222,
             "#7201a8"
            ],
            [
             0.3333333333333333,
             "#9c179e"
            ],
            [
             0.4444444444444444,
             "#bd3786"
            ],
            [
             0.5555555555555556,
             "#d8576b"
            ],
            [
             0.6666666666666666,
             "#ed7953"
            ],
            [
             0.7777777777777778,
             "#fb9f3a"
            ],
            [
             0.8888888888888888,
             "#fdca26"
            ],
            [
             1,
             "#f0f921"
            ]
           ],
           "sequentialminus": [
            [
             0,
             "#0d0887"
            ],
            [
             0.1111111111111111,
             "#46039f"
            ],
            [
             0.2222222222222222,
             "#7201a8"
            ],
            [
             0.3333333333333333,
             "#9c179e"
            ],
            [
             0.4444444444444444,
             "#bd3786"
            ],
            [
             0.5555555555555556,
             "#d8576b"
            ],
            [
             0.6666666666666666,
             "#ed7953"
            ],
            [
             0.7777777777777778,
             "#fb9f3a"
            ],
            [
             0.8888888888888888,
             "#fdca26"
            ],
            [
             1,
             "#f0f921"
            ]
           ]
          },
          "colorway": [
           "#636efa",
           "#EF553B",
           "#00cc96",
           "#ab63fa",
           "#FFA15A",
           "#19d3f3",
           "#FF6692",
           "#B6E880",
           "#FF97FF",
           "#FECB52"
          ],
          "font": {
           "color": "#2a3f5f"
          },
          "geo": {
           "bgcolor": "white",
           "lakecolor": "white",
           "landcolor": "#E5ECF6",
           "showlakes": true,
           "showland": true,
           "subunitcolor": "white"
          },
          "hoverlabel": {
           "align": "left"
          },
          "hovermode": "closest",
          "mapbox": {
           "style": "light"
          },
          "paper_bgcolor": "white",
          "plot_bgcolor": "#E5ECF6",
          "polar": {
           "angularaxis": {
            "gridcolor": "white",
            "linecolor": "white",
            "ticks": ""
           },
           "bgcolor": "#E5ECF6",
           "radialaxis": {
            "gridcolor": "white",
            "linecolor": "white",
            "ticks": ""
           }
          },
          "scene": {
           "xaxis": {
            "backgroundcolor": "#E5ECF6",
            "gridcolor": "white",
            "gridwidth": 2,
            "linecolor": "white",
            "showbackground": true,
            "ticks": "",
            "zerolinecolor": "white"
           },
           "yaxis": {
            "backgroundcolor": "#E5ECF6",
            "gridcolor": "white",
            "gridwidth": 2,
            "linecolor": "white",
            "showbackground": true,
            "ticks": "",
            "zerolinecolor": "white"
           },
           "zaxis": {
            "backgroundcolor": "#E5ECF6",
            "gridcolor": "white",
            "gridwidth": 2,
            "linecolor": "white",
            "showbackground": true,
            "ticks": "",
            "zerolinecolor": "white"
           }
          },
          "shapedefaults": {
           "line": {
            "color": "#2a3f5f"
           }
          },
          "ternary": {
           "aaxis": {
            "gridcolor": "white",
            "linecolor": "white",
            "ticks": ""
           },
           "baxis": {
            "gridcolor": "white",
            "linecolor": "white",
            "ticks": ""
           },
           "bgcolor": "#E5ECF6",
           "caxis": {
            "gridcolor": "white",
            "linecolor": "white",
            "ticks": ""
           }
          },
          "title": {
           "x": 0.05
          },
          "xaxis": {
           "automargin": true,
           "gridcolor": "white",
           "linecolor": "white",
           "ticks": "",
           "title": {
            "standoff": 15
           },
           "zerolinecolor": "white",
           "zerolinewidth": 2
          },
          "yaxis": {
           "automargin": true,
           "gridcolor": "white",
           "linecolor": "white",
           "ticks": "",
           "title": {
            "standoff": 15
           },
           "zerolinecolor": "white",
           "zerolinewidth": 2
          }
         }
        },
        "title": {
         "text": "topic 31"
        },
        "xaxis": {
         "anchor": "y",
         "domain": [
          0,
          1
         ],
         "title": {
          "text": "decade"
         }
        },
        "yaxis": {
         "anchor": "x",
         "domain": [
          0,
          1
         ],
         "title": {
          "text": "topic 31"
         }
        }
       }
      }
     },
     "metadata": {},
     "output_type": "display_data"
    },
    {
     "name": "stdout",
     "output_type": "stream",
     "text": [
      "https://plotly.com/~eliarizzetto/22/\n"
     ]
    }
   ],
   "source": [
    "topic_to_visualize = 'topic 31'\n",
    "\n",
    "fig = px.bar(\n",
    "    complete_data_df, \n",
    "    x=\"decade\", \n",
    "    y=f\"{topic_to_visualize}\",\n",
    "    color='authors_sex', \n",
    "    barmode='group',\n",
    "    hover_name='book_title', \n",
    "    height=400,\n",
    "    color_discrete_sequence=['MediumSeaGreen', 'Tomato'],\n",
    "    title=f\"{topic_to_visualize}\"\n",
    "    )\n",
    "fig.show()\n",
    "\n",
    "print(csp.plot(fig, filename = f\"{topic_to_visualize}\", auto_open=False)) #create a file on plotly chart studio account and a link in this notebook\n"
   ]
  },
  {
   "cell_type": "markdown",
   "metadata": {},
   "source": [
    "## Topic interpretation"
   ]
  },
  {
   "cell_type": "markdown",
   "metadata": {},
   "source": [
    "I have tried to label as much topics as I could, based on the interpretation of the set of words in each topic and on the arguably likely themes to find in XIX century literature for children."
   ]
  },
  {
   "cell_type": "raw",
   "metadata": {},
   "source": [
    "Index, Label,\n",
    "2,Topic 2: Horses\n",
    "4,Topic 4: Navy and pirates\n",
    "6,Topic 6: Street life\n",
    "7,Topic 7: Church and religion\n",
    "8,Topic 8: School and studying\n",
    "9,Topic 9: Night and sleeping\n",
    "16,Topic 16: Sea and navigation\n",
    "17,Topic 17: House and interior\n",
    "19,Topic 19: Open air\n",
    "20,Topic 20: Indian Americans and life in the wilderness\n",
    "25,Topic 25: Feelings and sentiments\n",
    "27,Topic 27: Nation\n",
    "31,Topic 31: Armed conflict\n",
    "31,Topic 32: Landscape: village\n",
    "35,Topic 35: Prison and criminality\n",
    "39,Topic 39: Battles and Nations\n",
    "40,Topic 40: Coal mines and fire\n",
    "44,Topic 44: Nature and native People\n",
    "\n",
    "\n",
    "\n"
   ]
  },
  {
   "cell_type": "code",
   "execution_count": 256,
   "metadata": {},
   "outputs": [
    {
     "name": "stdout",
     "output_type": "stream",
     "text": [
      "    Topic index                                              Label  \\\n",
      "0             2                                    Topic 2: Horses   \n",
      "1             4                          Topic 4: Navy and pirates   \n",
      "2             6                               Topic 6: Street life   \n",
      "3             7                       Topic 7: Church and religion   \n",
      "4             8                       Topic 8: School and studying   \n",
      "5             9                        Topic 9: Night and sleeping   \n",
      "6            16                       Topic 16: Sea and navigation   \n",
      "7            17                       Topic 17: House and interior   \n",
      "8            19                                 Topic 19: Open air   \n",
      "9            20  Topic 20: Indian Americans and life in the wil...   \n",
      "10           25                  Topic 25: Feelings and sentiments   \n",
      "11           27                                   Topic 27: Nation   \n",
      "12           31                           Topic 31: Armed conflict   \n",
      "13           31                       Topic 32: Landscape: village   \n",
      "14           35                   Topic 35: Prison and criminality   \n",
      "15           39                      Topic 39: Battles and Nations   \n",
      "16           40                      Topic 40: Coal mines and fire   \n",
      "17           44                 Topic 44: Nature and native People   \n",
      "\n",
      "                                       Words in topic  \n",
      "0   horses, road, day, whip, men, gentleman, cours...  \n",
      "1   board, men, guns, ships, vessel, shot, crew, b...  \n",
      "2   yer, money, street, shop, purse, face, door, b...  \n",
      "3   church, men, books, sunday, soul, minister, se...  \n",
      "4   boys, school, study, form, room, fellows, fell...  \n",
      "5   night, door, nothing, house, something, anythi...  \n",
      "6   shore, men, island, board, vessel, boats, nigh...  \n",
      "7   room, house, door, window, bed, night, morning...  \n",
      "8   garden, trees, birds, day, sun, grass, summer,...  \n",
      "9   indians, men, river, lake, night, ice, camp, b...  \n",
      "10  tutor, lordship, rocket, blandford, dorincourt...  \n",
      "11  england, country, men, years, story, life, lan...  \n",
      "12  men, enemy, soldiers, troops, camp, attack, gu...  \n",
      "13  house, work, village, houses, men, street, chi...  \n",
      "14  prisoners, prison, prisoner, men, door, friend...  \n",
      "15  battle, france, arms, day, england, army, sold...  \n",
      "16  men, work, mine, flames, lad, smoke, lads, sha...  \n",
      "17  river, trees, birds, hut, ground, savages, day...  \n"
     ]
    }
   ],
   "source": [
    "\n",
    "\n",
    "labelled_topics = pd.read_csv('labelled_topics.csv')\n",
    "pprint(labelled_topics)"
   ]
  }
 ],
 "metadata": {
  "kernelspec": {
   "display_name": "Python 3.9.0 64-bit",
   "language": "python",
   "name": "python3"
  },
  "language_info": {
   "codemirror_mode": {
    "name": "ipython",
    "version": 3
   },
   "file_extension": ".py",
   "mimetype": "text/x-python",
   "name": "python",
   "nbconvert_exporter": "python",
   "pygments_lexer": "ipython3",
   "version": "3.9.0"
  },
  "orig_nbformat": 4,
  "vscode": {
   "interpreter": {
    "hash": "11938c6bc6919ae2720b4d5011047913343b08a43b18698fd82dedb0d4417594"
   }
  }
 },
 "nbformat": 4,
 "nbformat_minor": 2
}
