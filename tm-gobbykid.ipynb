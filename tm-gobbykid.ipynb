{
 "cells": [
  {
   "cell_type": "markdown",
   "metadata": {},
   "source": [
    "# Topic Modeling"
   ]
  },
  {
   "cell_type": "markdown",
   "metadata": {},
   "source": [
    "In this notebook we analyze our corpus through **topic modelling**, a text analysis method that allows us to identify the topics within the texts. The main tool we have used is the [**Little MALLET Wrapper**](https://github.com/maria-antoniak/little-mallet-wrapper), a Python wrapper for [MALLET](http://mallet.cs.umass.edu/topics.php). Mallet is a software, originally developed in Java, that topic models texts using **[Latent Dirichlet Allocation](https://en.wikipedia.org/wiki/Latent_Dirichlet_allocation)** (**LDA**), a generative probabilistic model able to discover topics (i.e. set of words that, taken together, suggest a shared theme), and then automatically classify any individual document within the collection in terms of how \"relevant\" it is to each of the discovered topics. "
   ]
  },
  {
   "cell_type": "markdown",
   "metadata": {},
   "source": [
    "## Setup"
   ]
  },
  {
   "cell_type": "markdown",
   "metadata": {},
   "source": [
    "  \n",
    "Working in this Jupyter notebook requires having Java Development Kit and MALLET pre-installed. For set up instructions, we followed [Melanie Walsh's tutorial](http://melaniewalsh.github.io/Intro-Cultural-Analytics/Text-Analysis/Topic-Modeling-Set-Up.html)."
   ]
  },
  {
   "cell_type": "markdown",
   "metadata": {},
   "source": [
    "Once Java and MALLET are installed, we need to setup Little MALLET Wrapper and import some libraries: "
   ]
  },
  {
   "cell_type": "code",
   "execution_count": 19,
   "metadata": {},
   "outputs": [],
   "source": [
    "#specify the path to the Java-based MALLET software\n",
    "path_to_mallet = 'C:/mallet-2.0.8/bin/mallet'\n",
    "\n",
    "#install the Little MALLET Wrapper and the data visualization library Seaborn\n",
    "'''\n",
    "!pip install little_mallet_wrapper\n",
    "!pip install seaborn\n",
    "'''\n",
    "\n",
    "#import the above packages and libraries for working with files and the file system\n",
    "import little_mallet_wrapper\n",
    "import seaborn\n",
    "import glob\n",
    "from pathlib import Path"
   ]
  },
  {
   "cell_type": "markdown",
   "metadata": {},
   "source": [
    "## Get Training Data From Text Files"
   ]
  },
  {
   "cell_type": "markdown",
   "metadata": {},
   "source": [
    "Before we topic model the Gobby Kid project corpus, we need to process the text files and prepare them for analysis."
   ]
  },
  {
   "cell_type": "code",
   "execution_count": 20,
   "metadata": {},
   "outputs": [],
   "source": [
    "#assign to the \"directory\" variable the path to the directory containing our documents\n",
    "directory = \"Corpus_selected_texts/all\"\n",
    "\n",
    "#use `glob.gob()` function to make a list of all the `.txt` files in that directory.\n",
    "files = glob.glob(f\"{directory}/*.txt\")"
   ]
  },
  {
   "cell_type": "code",
   "execution_count": 21,
   "metadata": {
    "scrolled": true,
    "tags": [
     "output_scroll",
     "hide-output"
    ]
   },
   "outputs": [
    {
     "data": {
      "text/plain": [
       "['Corpus_selected_texts/all\\\\1857_browne-grannys-wonderful-chair.txt',\n",
       " 'Corpus_selected_texts/all\\\\1857_hughes-tom-browns-school-days.txt',\n",
       " 'Corpus_selected_texts/all\\\\1865_carroll-alices-adventures-in-wonderland.txt',\n",
       " 'Corpus_selected_texts/all\\\\1869_dickens-david-copperfield.txt',\n",
       " 'Corpus_selected_texts/all\\\\1869_ewing-mrs-overtheways-remembrances.txt',\n",
       " 'Corpus_selected_texts/all\\\\1871_macdonald-at-the-back-of-the-north-wind.txt',\n",
       " 'Corpus_selected_texts/all\\\\1872_de-la-ramee-a-dog-of-flanders.txt',\n",
       " 'Corpus_selected_texts/all\\\\1876_twain-the-adventures-of-tom-sawyer.txt',\n",
       " 'Corpus_selected_texts/all\\\\1877_molesworth-the-cuckoo-clock.txt',\n",
       " 'Corpus_selected_texts/all\\\\1877_sewell-black-beauty.txt',\n",
       " 'Corpus_selected_texts/all\\\\1883_stevenson-treasure-island.txt',\n",
       " 'Corpus_selected_texts/all\\\\1886_hodgson-burnett-little-lord-fauntleroy.txt',\n",
       " 'Corpus_selected_texts/all\\\\1888_wilde-the-happy-prince-and-other-tales.txt',\n",
       " 'Corpus_selected_texts/all\\\\1894_kipling-the-jungle-book.txt',\n",
       " 'Corpus_selected_texts/all\\\\1899_nesbit-the-story-of-the-treasure-seekers.txt',\n",
       " 'Corpus_selected_texts/all\\\\1902_potter-the-tale-of-peter-rabbit.txt']"
      ]
     },
     "execution_count": 21,
     "metadata": {},
     "output_type": "execute_result"
    }
   ],
   "source": [
    "files"
   ]
  },
  {
   "cell_type": "markdown",
   "metadata": {},
   "source": [
    "## Process Texts and files"
   ]
  },
  {
   "cell_type": "markdown",
   "metadata": {},
   "source": [
    "```\n",
    "little_mallet_wrapper.process_string(text, numbers='remove')\n",
    "```"
   ]
  },
  {
   "cell_type": "markdown",
   "metadata": {},
   "source": [
    "Next we process our texts with the function `little_mallet_wrapper.process_string()`, which takes every individual text file, transform all the text to lowercase, removes stopwords, punctuation, and numbers. We add the processed text to our master list `training_data`, i.e. the data we will use to train our LDA topic model."
   ]
  },
  {
   "cell_type": "code",
   "execution_count": 22,
   "metadata": {},
   "outputs": [],
   "source": [
    "#initialize training_data as empty\n",
    "training_data = []\n",
    "#process each file and add it to the training_data list\n",
    "for file in files:\n",
    "    text = open(file, encoding='utf-8').read()\n",
    "    processed_text = little_mallet_wrapper.process_string(text, numbers='remove')\n",
    "    training_data.append(processed_text)"
   ]
  },
  {
   "cell_type": "markdown",
   "metadata": {},
   "source": [
    "We're also making a master list of the original text of the novels for future reference."
   ]
  },
  {
   "cell_type": "code",
   "execution_count": 23,
   "metadata": {},
   "outputs": [],
   "source": [
    "original_texts = []\n",
    "for file in files:\n",
    "    text = open(file, encoding='utf-8').read()\n",
    "    original_texts.append(text)"
   ]
  },
  {
   "cell_type": "markdown",
   "metadata": {},
   "source": [
    "## Process Titles"
   ]
  },
  {
   "cell_type": "markdown",
   "metadata": {},
   "source": [
    "We use the [`Path().stem`](https://docs.python.org/3/library/pathlib.html#pathlib.PurePath.stem) function to extract just the last part of the file path without the \".txt\" file extension, and save the file name (formatted as *year of publication* + *author's last name* + *book's title*) as title for each document."
   ]
  },
  {
   "cell_type": "code",
   "execution_count": 24,
   "metadata": {},
   "outputs": [],
   "source": [
    "book_titles = [Path(file).stem for file in files]"
   ]
  },
  {
   "cell_type": "code",
   "execution_count": 25,
   "metadata": {
    "scrolled": true,
    "tags": [
     "output_scroll",
     "hide-output"
    ]
   },
   "outputs": [
    {
     "data": {
      "text/plain": [
       "['1857_browne-grannys-wonderful-chair',\n",
       " '1857_hughes-tom-browns-school-days',\n",
       " '1865_carroll-alices-adventures-in-wonderland',\n",
       " '1869_dickens-david-copperfield',\n",
       " '1869_ewing-mrs-overtheways-remembrances',\n",
       " '1871_macdonald-at-the-back-of-the-north-wind',\n",
       " '1872_de-la-ramee-a-dog-of-flanders',\n",
       " '1876_twain-the-adventures-of-tom-sawyer',\n",
       " '1877_molesworth-the-cuckoo-clock',\n",
       " '1877_sewell-black-beauty',\n",
       " '1883_stevenson-treasure-island',\n",
       " '1886_hodgson-burnett-little-lord-fauntleroy',\n",
       " '1888_wilde-the-happy-prince-and-other-tales',\n",
       " '1894_kipling-the-jungle-book',\n",
       " '1899_nesbit-the-story-of-the-treasure-seekers',\n",
       " '1902_potter-the-tale-of-peter-rabbit']"
      ]
     },
     "execution_count": 25,
     "metadata": {},
     "output_type": "execute_result"
    }
   ],
   "source": [
    "book_titles"
   ]
  },
  {
   "cell_type": "markdown",
   "metadata": {},
   "source": [
    "## Get Training Data Stats"
   ]
  },
  {
   "cell_type": "markdown",
   "metadata": {},
   "source": [
    "We can get training data summary statistics by using the function ```little_mallet_wrapper.print_dataset_stats()```."
   ]
  },
  {
   "cell_type": "code",
   "execution_count": 26,
   "metadata": {},
   "outputs": [
    {
     "name": "stdout",
     "output_type": "stream",
     "text": [
      "Number of Documents: 16\n",
      "Mean Number of Words per Document: 31337.7\n",
      "Vocabulary Size: 25874\n"
     ]
    }
   ],
   "source": [
    "little_mallet_wrapper.print_dataset_stats(training_data)"
   ]
  },
  {
   "cell_type": "markdown",
   "metadata": {},
   "source": [
    "## Training the Topic Model"
   ]
  },
  {
   "cell_type": "markdown",
   "metadata": {},
   "source": [
    "We are going to train the model with the function [`quick_train_topic_model(path_to_mallet, output_directory_path, num_topics, training_data)`](https://github.com/maria-antoniak/little-mallet-wrapper#quick_train_topic_modelpath_to_mallet-output_directory_path-num_topics-training_data). First of all, then, we need to set the variables the function is taking as parameters.\n",
    "The `path_to_mallet` and `training_data` variables have been already specified, we only need to create the `num_topics` and the `output_directory_path` variables. The latter specifies where Little MALLET Wrapper will find and output all the results of our topic modelling."
   ]
  },
  {
   "cell_type": "code",
   "execution_count": 27,
   "metadata": {},
   "outputs": [],
   "source": [
    "#specify the number of topics we want returned\n",
    "num_topics = 15\n",
    "\n",
    "#set desired output directory (will be created inside current directory)\n",
    "output_directory_path = 'topic-model-output/results'\n",
    "\n",
    "#set topic model output files! No need to change anything below here\n",
    "Path(f\"{output_directory_path}\").mkdir(parents=True, exist_ok=True)\n",
    "\n",
    "path_to_training_data           = f\"{output_directory_path}/training.txt\"\n",
    "path_to_formatted_training_data = f\"{output_directory_path}/mallet.training\"\n",
    "path_to_model                   = f\"{output_directory_path}/mallet.model.{str(num_topics)}\"\n",
    "path_to_topic_keys              = f\"{output_directory_path}/mallet.topic_keys.{str(num_topics)}\"\n",
    "path_to_topic_distributions     = f\"{output_directory_path}/mallet.topic_distributions.{str(num_topics)}\""
   ]
  },
  {
   "cell_type": "markdown",
   "metadata": {},
   "source": [
    "### Train Topic Model"
   ]
  },
  {
   "cell_type": "markdown",
   "metadata": {},
   "source": [
    "Then we're going to train our topic model with `little_mallet_wrapper.quick_train_topic_model()`. "
   ]
  },
  {
   "cell_type": "code",
   "execution_count": 28,
   "metadata": {
    "scrolled": true,
    "tags": [
     "output_scroll"
    ]
   },
   "outputs": [
    {
     "name": "stdout",
     "output_type": "stream",
     "text": [
      "Importing data...\n",
      "Complete\n",
      "Training topic model...\n",
      "Complete\n"
     ]
    },
    {
     "data": {
      "text/plain": [
       "([['little',\n",
       "   'great',\n",
       "   'one',\n",
       "   'patrasche',\n",
       "   'prince',\n",
       "   'old',\n",
       "   'civil',\n",
       "   'nello',\n",
       "   'king',\n",
       "   'came',\n",
       "   'people',\n",
       "   'day',\n",
       "   'miller',\n",
       "   'lady',\n",
       "   'spare',\n",
       "   'rose',\n",
       "   'dog',\n",
       "   'chair',\n",
       "   'swallow',\n",
       "   'hans'],\n",
       "  ['tom',\n",
       "   'boys',\n",
       "   'school',\n",
       "   'one',\n",
       "   'east',\n",
       "   'old',\n",
       "   'arthur',\n",
       "   'doctor',\n",
       "   'young',\n",
       "   'boy',\n",
       "   'half',\n",
       "   'first',\n",
       "   'house',\n",
       "   'get',\n",
       "   'two',\n",
       "   'form',\n",
       "   'brown',\n",
       "   'fellow',\n",
       "   'side',\n",
       "   'great'],\n",
       "  ['tom',\n",
       "   'huck',\n",
       "   'joe',\n",
       "   'boys',\n",
       "   'ain',\n",
       "   'becky',\n",
       "   'got',\n",
       "   'aunt',\n",
       "   'one',\n",
       "   'sid',\n",
       "   'presently',\n",
       "   'around',\n",
       "   'boy',\n",
       "   'reckon',\n",
       "   'get',\n",
       "   'injun',\n",
       "   'began',\n",
       "   'yes',\n",
       "   'school',\n",
       "   'away'],\n",
       "  ['one',\n",
       "   'horse',\n",
       "   'horses',\n",
       "   'master',\n",
       "   'good',\n",
       "   'man',\n",
       "   'john',\n",
       "   'little',\n",
       "   'came',\n",
       "   'jerry',\n",
       "   'men',\n",
       "   'get',\n",
       "   'used',\n",
       "   'work',\n",
       "   'sir',\n",
       "   'stable',\n",
       "   'james',\n",
       "   'ginger',\n",
       "   'lady',\n",
       "   'young'],\n",
       "  ['upon',\n",
       "   'heart',\n",
       "   'time',\n",
       "   'face',\n",
       "   'one',\n",
       "   'together',\n",
       "   'work',\n",
       "   'within',\n",
       "   'half',\n",
       "   'men',\n",
       "   'whole',\n",
       "   'life',\n",
       "   'left',\n",
       "   'eye',\n",
       "   'gone',\n",
       "   'god',\n",
       "   'ten',\n",
       "   'many',\n",
       "   'got',\n",
       "   'full'],\n",
       "  ['earl',\n",
       "   'fauntleroy',\n",
       "   'little',\n",
       "   'lord',\n",
       "   'cedric',\n",
       "   'one',\n",
       "   'hobbs',\n",
       "   'boy',\n",
       "   'havisham',\n",
       "   'dick',\n",
       "   'said',\n",
       "   'would',\n",
       "   'lordship',\n",
       "   'looked',\n",
       "   'quite',\n",
       "   'dorincourt',\n",
       "   'mother',\n",
       "   'people',\n",
       "   'mrs',\n",
       "   'great'],\n",
       "  ['ida',\n",
       "   'mrs',\n",
       "   'old',\n",
       "   'one',\n",
       "   'lady',\n",
       "   'miss',\n",
       "   'dear',\n",
       "   'father',\n",
       "   'fatima',\n",
       "   'home',\n",
       "   'project',\n",
       "   'gutenberg',\n",
       "   'young',\n",
       "   'overtheway',\n",
       "   'mother',\n",
       "   'nurse',\n",
       "   'seemed',\n",
       "   'captain',\n",
       "   'moss',\n",
       "   'story'],\n",
       "  ['griselda',\n",
       "   'cuckoo',\n",
       "   'said',\n",
       "   'little',\n",
       "   'miss',\n",
       "   'grizzel',\n",
       "   'phil',\n",
       "   'dorcas',\n",
       "   'one',\n",
       "   'like',\n",
       "   'clock',\n",
       "   'room',\n",
       "   'aunt',\n",
       "   'dear',\n",
       "   'quite',\n",
       "   'tabitha',\n",
       "   'rather',\n",
       "   'replied',\n",
       "   'eileen',\n",
       "   'way'],\n",
       "  ['said',\n",
       "   'would',\n",
       "   'could',\n",
       "   'like',\n",
       "   'see',\n",
       "   'good',\n",
       "   'well',\n",
       "   'never',\n",
       "   'time',\n",
       "   'old',\n",
       "   'come',\n",
       "   'came',\n",
       "   'went',\n",
       "   'back',\n",
       "   'say',\n",
       "   'know',\n",
       "   'day',\n",
       "   'long',\n",
       "   'great',\n",
       "   'think'],\n",
       "  ['micawber',\n",
       "   'aunt',\n",
       "   'peggotty',\n",
       "   'miss',\n",
       "   'said',\n",
       "   'mrs',\n",
       "   'copperfield',\n",
       "   'dora',\n",
       "   'traddles',\n",
       "   'agnes',\n",
       "   'dear',\n",
       "   'sir',\n",
       "   'steerforth',\n",
       "   'returned',\n",
       "   'murdstone',\n",
       "   'mother',\n",
       "   'upon',\n",
       "   'think',\n",
       "   'doctor',\n",
       "   'dick'],\n",
       "  ['diamond',\n",
       "   'wind',\n",
       "   'north',\n",
       "   'little',\n",
       "   'one',\n",
       "   'mother',\n",
       "   'father',\n",
       "   'know',\n",
       "   'baby',\n",
       "   'got',\n",
       "   'horse',\n",
       "   'nanny',\n",
       "   'raymond',\n",
       "   'quite',\n",
       "   'bed',\n",
       "   'yes',\n",
       "   'like',\n",
       "   'moment',\n",
       "   'answered',\n",
       "   'moon'],\n",
       "  ['little',\n",
       "   'one',\n",
       "   'said',\n",
       "   'quite',\n",
       "   'room',\n",
       "   'much',\n",
       "   'know',\n",
       "   'eyes',\n",
       "   'face',\n",
       "   'may',\n",
       "   'head',\n",
       "   'seemed',\n",
       "   'life',\n",
       "   'upon',\n",
       "   'house',\n",
       "   'really',\n",
       "   'looked',\n",
       "   'looking',\n",
       "   'love',\n",
       "   'cried'],\n",
       "  ['mowgli',\n",
       "   'little',\n",
       "   'one',\n",
       "   'jungle',\n",
       "   'bagheera',\n",
       "   'man',\n",
       "   'wolf',\n",
       "   'big',\n",
       "   'nag',\n",
       "   'rikki',\n",
       "   'tikki',\n",
       "   'thou',\n",
       "   'head',\n",
       "   'baloo',\n",
       "   'sea',\n",
       "   'said',\n",
       "   'men',\n",
       "   'khan',\n",
       "   'shere',\n",
       "   'toomai'],\n",
       "  ['captain',\n",
       "   'silver',\n",
       "   'man',\n",
       "   'one',\n",
       "   'doctor',\n",
       "   'ship',\n",
       "   'sea',\n",
       "   'sir',\n",
       "   'squire',\n",
       "   'cried',\n",
       "   'jim',\n",
       "   'island',\n",
       "   'upon',\n",
       "   'john',\n",
       "   'hand',\n",
       "   'lay',\n",
       "   'men',\n",
       "   'hands',\n",
       "   'cap',\n",
       "   'still'],\n",
       "  ['said',\n",
       "   'alice',\n",
       "   'oswald',\n",
       "   'one',\n",
       "   'noel',\n",
       "   'dicky',\n",
       "   'dora',\n",
       "   'uncle',\n",
       "   'father',\n",
       "   'got',\n",
       "   'albert',\n",
       "   'quite',\n",
       "   'thought',\n",
       "   'think',\n",
       "   'like',\n",
       "   'little',\n",
       "   'things',\n",
       "   'went',\n",
       "   'door',\n",
       "   'queen']],\n",
       " [[0.5127321777245061,\n",
       "   0.00020090009752254454,\n",
       "   2.531784988382402e-06,\n",
       "   0.0007492440326822316,\n",
       "   0.02160589823194652,\n",
       "   0.00027727791727417945,\n",
       "   5.077958596920809e-06,\n",
       "   7.799481393003512e-07,\n",
       "   0.43637036466825474,\n",
       "   7.867006557504623e-07,\n",
       "   0.001195472713796262,\n",
       "   0.023008603781566293,\n",
       "   9.835861358347314e-06,\n",
       "   0.003834191450858787,\n",
       "   6.857127853719819e-06],\n",
       "  [0.006191372791024385,\n",
       "   0.4024349893708971,\n",
       "   0.003947102487903639,\n",
       "   0.020738924556956632,\n",
       "   0.101014516790826,\n",
       "   0.0003740538860832663,\n",
       "   0.00991657236978595,\n",
       "   1.6849180886154033e-07,\n",
       "   0.3577652682533771,\n",
       "   1.699505516339343e-07,\n",
       "   3.0075148634504214e-06,\n",
       "   0.08828016504295,\n",
       "   0.0013569125615533863,\n",
       "   0.00797529458949669,\n",
       "   1.48134192191871e-06],\n",
       "  [0.005746595301739252,\n",
       "   0.00018061062055960372,\n",
       "   2.2760927620949574e-06,\n",
       "   0.0001833190900913695,\n",
       "   0.01370419582095032,\n",
       "   4.14650569376517e-06,\n",
       "   4.5651209963346255e-06,\n",
       "   7.011789400825797e-07,\n",
       "   0.42661803491693867,\n",
       "   7.072495005324403e-07,\n",
       "   1.2515778057612887e-05,\n",
       "   0.22847200446424953,\n",
       "   9.05519493720711e-05,\n",
       "   1.516898701389466e-05,\n",
       "   0.3249646069231349],\n",
       "  [0.0028350574431317524,\n",
       "   0.0036608531414073007,\n",
       "   1.7575776520137695e-07,\n",
       "   0.005591777523145562,\n",
       "   0.09539827169499597,\n",
       "   3.201893113794573e-07,\n",
       "   0.00858761864682792,\n",
       "   5.41443853113237e-08,\n",
       "   0.34944784636966764,\n",
       "   0.29056007861362165,\n",
       "   0.0009663240748563839,\n",
       "   0.23749786097499054,\n",
       "   6.828103567665975e-07,\n",
       "   0.005257007255941483,\n",
       "   0.00019607135959511923],\n",
       "  [0.016448179992839776,\n",
       "   0.0037613821685368895,\n",
       "   1.015176885525519e-06,\n",
       "   0.0017946234444432922,\n",
       "   0.08406565878374132,\n",
       "   0.00022051238558224887,\n",
       "   0.34075183424738,\n",
       "   3.127379799468037e-07,\n",
       "   0.33736634232377516,\n",
       "   3.154455552941334e-07,\n",
       "   0.0004793520270841911,\n",
       "   0.21119752253185214,\n",
       "   3.943912751693616e-06,\n",
       "   0.003906255299918999,\n",
       "   2.749521673496134e-06],\n",
       "  [0.004277617153118793,\n",
       "   0.0017437316245085565,\n",
       "   7.121094782786618e-07,\n",
       "   0.005911513245114552,\n",
       "   0.026962841682810497,\n",
       "   1.2972959869829012e-06,\n",
       "   1.4282660114373625e-06,\n",
       "   2.193742616810622e-07,\n",
       "   0.5207174780748706,\n",
       "   2.2127352681946123e-07,\n",
       "   0.3520715126369605,\n",
       "   0.0843651281083463,\n",
       "   0.00041179073008445875,\n",
       "   0.0034303236811057537,\n",
       "   0.00010418474381490374],\n",
       "  [0.34084749362583955,\n",
       "   0.0017587932304362688,\n",
       "   0.002596742825958041,\n",
       "   0.0331644142788742,\n",
       "   0.22106176259200538,\n",
       "   0.003320242962952629,\n",
       "   8.047572930302841e-06,\n",
       "   1.2360655198487944e-06,\n",
       "   0.3134553062293477,\n",
       "   1.246766940027425e-06,\n",
       "   2.2063300573849846e-05,\n",
       "   0.07362661433521954,\n",
       "   0.00923418504365405,\n",
       "   0.0008909839609202063,\n",
       "   1.086720882850117e-05],\n",
       "  [0.0034371747567818415,\n",
       "   0.009585637118162408,\n",
       "   0.34366076303158777,\n",
       "   0.0016476562007777273,\n",
       "   0.14643759113072546,\n",
       "   1.486633505909729e-06,\n",
       "   0.004073645296598488,\n",
       "   2.5139145655398863e-07,\n",
       "   0.3942864300412009,\n",
       "   2.535679152956185e-07,\n",
       "   0.0008833380144135461,\n",
       "   0.07828075832567169,\n",
       "   0.004250949009565225,\n",
       "   0.013451855304739451,\n",
       "   2.210176897748482e-06],\n",
       "  [0.013444573447031307,\n",
       "   0.00040238210878892054,\n",
       "   1.3651866180025543e-06,\n",
       "   0.00030598898061255414,\n",
       "   0.014149761371123086,\n",
       "   2.487048937051821e-06,\n",
       "   2.738131853651803e-06,\n",
       "   0.40143171332700917,\n",
       "   0.4182981558271302,\n",
       "   4.242039559175034e-07,\n",
       "   0.006525680729414126,\n",
       "   0.1452696037163212,\n",
       "   5.303683513631782e-06,\n",
       "   9.098266303067119e-06,\n",
       "   0.00015072397138817483],\n",
       "  [0.00020318484719039726,\n",
       "   0.003019783729693303,\n",
       "   1.061967812714432e-06,\n",
       "   0.3738871935889563,\n",
       "   0.02377838475611775,\n",
       "   1.9346555884491783e-06,\n",
       "   0.00011650069863074174,\n",
       "   3.271525122884492e-07,\n",
       "   0.553255421693346,\n",
       "   3.2998488358291063e-07,\n",
       "   0.00023458100350145274,\n",
       "   0.04392414989750132,\n",
       "   4.125693224668423e-06,\n",
       "   0.0015701440800554287,\n",
       "   2.876250985661567e-06],\n",
       "  [0.0002966075205257106,\n",
       "   0.0044575642391666845,\n",
       "   8.855948941065663e-07,\n",
       "   0.006811223518205496,\n",
       "   0.10474558146373472,\n",
       "   1.6133456122422486e-06,\n",
       "   1.7762227940180758e-06,\n",
       "   2.7281862125014763e-07,\n",
       "   0.3950838335447192,\n",
       "   2.751805888414041e-07,\n",
       "   0.0003545813302122788,\n",
       "   0.07338068534147882,\n",
       "   0.0023242539800259416,\n",
       "   0.4125384473397312,\n",
       "   2.398559689450601e-06],\n",
       "  [1.2414101601116612e-05,\n",
       "   7.923663893004163e-06,\n",
       "   1.0490499013884691e-06,\n",
       "   0.010478606365478114,\n",
       "   0.03433517419257072,\n",
       "   0.4095526261148915,\n",
       "   2.1040617547693218e-06,\n",
       "   3.2317298758608934e-07,\n",
       "   0.3831571845229639,\n",
       "   3.2597090555646126e-07,\n",
       "   0.0006459857248623812,\n",
       "   0.16145343638599918,\n",
       "   4.075507768389698e-06,\n",
       "   0.0003459299005189412,\n",
       "   2.841263903436335e-06],\n",
       "  [0.34739002806060415,\n",
       "   0.0015127749885321777,\n",
       "   3.7589877942076195e-06,\n",
       "   0.000707584774318482,\n",
       "   0.016830016602609736,\n",
       "   6.847991677250192e-06,\n",
       "   7.539338637722388e-06,\n",
       "   1.15800336489796e-06,\n",
       "   0.3844766635248934,\n",
       "   1.1680289504167252e-06,\n",
       "   0.02201652225629094,\n",
       "   0.22699610133452197,\n",
       "   1.460348448276743e-05,\n",
       "   2.5051719325903758e-05,\n",
       "   1.0180903996086373e-05],\n",
       "  [0.00017110833480059133,\n",
       "   0.004711224036290539,\n",
       "   1.1008732854303498e-06,\n",
       "   0.01020584784141791,\n",
       "   0.03583374101963798,\n",
       "   2.005532209482275e-06,\n",
       "   2.2080030450939523e-06,\n",
       "   3.391378314180835e-07,\n",
       "   0.38995255125606043,\n",
       "   3.420739673867646e-07,\n",
       "   0.005064644611431025,\n",
       "   0.030831792317568087,\n",
       "   0.5157829708633932,\n",
       "   0.007279061503050923,\n",
       "   0.00016106259601048365],\n",
       "  [0.010199634519195066,\n",
       "   0.0031331366905969996,\n",
       "   1.1921318242820656e-06,\n",
       "   0.0026637956230189733,\n",
       "   0.015095064182969931,\n",
       "   2.171783803993318e-06,\n",
       "   2.3910387625940317e-06,\n",
       "   3.672511695961967e-07,\n",
       "   0.4513797580821591,\n",
       "   3.7043070095099344e-07,\n",
       "   6.555294044517955e-06,\n",
       "   0.06210397928079025,\n",
       "   0.0049690059925789854,\n",
       "   0.0021049652581456085,\n",
       "   0.44833761244023923],\n",
       "  [0.2592966562956784,\n",
       "   0.006695476942003681,\n",
       "   5.809516276487809e-05,\n",
       "   0.0005079344656052042,\n",
       "   0.05363770461295934,\n",
       "   0.00010583572304103281,\n",
       "   0.00011652049149320128,\n",
       "   1.7896943977761623e-05,\n",
       "   0.3799046094510638,\n",
       "   1.8051889419037962e-05,\n",
       "   0.03577393771258811,\n",
       "   0.10042354811361644,\n",
       "   0.03776573881558386,\n",
       "   0.00038717436487053304,\n",
       "   0.12529081901533473]])"
      ]
     },
     "execution_count": 28,
     "metadata": {},
     "output_type": "execute_result"
    }
   ],
   "source": [
    "little_mallet_wrapper.quick_train_topic_model(path_to_mallet,\n",
    "                                             output_directory_path,\n",
    "                                             num_topics,\n",
    "                                             training_data)"
   ]
  },
  {
   "cell_type": "markdown",
   "metadata": {},
   "source": [
    "## Display Topics and Top Words"
   ]
  },
  {
   "cell_type": "markdown",
   "metadata": {},
   "source": [
    "To examine the `num_topics` topics that the topic model extracted from our corpus we use the [`little_mallet_wrapper.load_topic_keys()`](https://github.com/maria-antoniak/little-mallet-wrapper#load_topic_keystopic_keys_path) function, reading and processing the output from the file in input."
   ]
  },
  {
   "cell_type": "code",
   "execution_count": 29,
   "metadata": {},
   "outputs": [
    {
     "name": "stdout",
     "output_type": "stream",
     "text": [
      "Topic: 0\n",
      "\n",
      "['little', 'great', 'one', 'patrasche', 'prince', 'old', 'civil', 'nello', 'king', 'came', 'people', 'day', 'miller', 'lady', 'spare', 'rose', 'dog', 'chair', 'swallow', 'hans']\n",
      "\n",
      "Topic: 1\n",
      "\n",
      "['tom', 'boys', 'school', 'one', 'east', 'old', 'arthur', 'doctor', 'young', 'boy', 'half', 'first', 'house', 'get', 'two', 'form', 'brown', 'fellow', 'side', 'great']\n",
      "\n",
      "Topic: 2\n",
      "\n",
      "['tom', 'huck', 'joe', 'boys', 'ain', 'becky', 'got', 'aunt', 'one', 'sid', 'presently', 'around', 'boy', 'reckon', 'get', 'injun', 'began', 'yes', 'school', 'away']\n",
      "\n",
      "Topic: 3\n",
      "\n",
      "['one', 'horse', 'horses', 'master', 'good', 'man', 'john', 'little', 'came', 'jerry', 'men', 'get', 'used', 'work', 'sir', 'stable', 'james', 'ginger', 'lady', 'young']\n",
      "\n",
      "Topic: 4\n",
      "\n",
      "['upon', 'heart', 'time', 'face', 'one', 'together', 'work', 'within', 'half', 'men', 'whole', 'life', 'left', 'eye', 'gone', 'god', 'ten', 'many', 'got', 'full']\n",
      "\n",
      "Topic: 5\n",
      "\n",
      "['earl', 'fauntleroy', 'little', 'lord', 'cedric', 'one', 'hobbs', 'boy', 'havisham', 'dick', 'said', 'would', 'lordship', 'looked', 'quite', 'dorincourt', 'mother', 'people', 'mrs', 'great']\n",
      "\n",
      "Topic: 6\n",
      "\n",
      "['ida', 'mrs', 'old', 'one', 'lady', 'miss', 'dear', 'father', 'fatima', 'home', 'project', 'gutenberg', 'young', 'overtheway', 'mother', 'nurse', 'seemed', 'captain', 'moss', 'story']\n",
      "\n",
      "Topic: 7\n",
      "\n",
      "['griselda', 'cuckoo', 'said', 'little', 'miss', 'grizzel', 'phil', 'dorcas', 'one', 'like', 'clock', 'room', 'aunt', 'dear', 'quite', 'tabitha', 'rather', 'replied', 'eileen', 'way']\n",
      "\n",
      "Topic: 8\n",
      "\n",
      "['said', 'would', 'could', 'like', 'see', 'good', 'well', 'never', 'time', 'old', 'come', 'came', 'went', 'back', 'say', 'know', 'day', 'long', 'great', 'think']\n",
      "\n",
      "Topic: 9\n",
      "\n",
      "['micawber', 'aunt', 'peggotty', 'miss', 'said', 'mrs', 'copperfield', 'dora', 'traddles', 'agnes', 'dear', 'sir', 'steerforth', 'returned', 'murdstone', 'mother', 'upon', 'think', 'doctor', 'dick']\n",
      "\n",
      "Topic: 10\n",
      "\n",
      "['diamond', 'wind', 'north', 'little', 'one', 'mother', 'father', 'know', 'baby', 'got', 'horse', 'nanny', 'raymond', 'quite', 'bed', 'yes', 'like', 'moment', 'answered', 'moon']\n",
      "\n",
      "Topic: 11\n",
      "\n",
      "['little', 'one', 'said', 'quite', 'room', 'much', 'know', 'eyes', 'face', 'may', 'head', 'seemed', 'life', 'upon', 'house', 'really', 'looked', 'looking', 'love', 'cried']\n",
      "\n",
      "Topic: 12\n",
      "\n",
      "['mowgli', 'little', 'one', 'jungle', 'bagheera', 'man', 'wolf', 'big', 'nag', 'rikki', 'tikki', 'thou', 'head', 'baloo', 'sea', 'said', 'men', 'khan', 'shere', 'toomai']\n",
      "\n",
      "Topic: 13\n",
      "\n",
      "['captain', 'silver', 'man', 'one', 'doctor', 'ship', 'sea', 'sir', 'squire', 'cried', 'jim', 'island', 'upon', 'john', 'hand', 'lay', 'men', 'hands', 'cap', 'still']\n",
      "\n",
      "Topic: 14\n",
      "\n",
      "['said', 'alice', 'oswald', 'one', 'noel', 'dicky', 'dora', 'uncle', 'father', 'got', 'albert', 'quite', 'thought', 'think', 'like', 'little', 'things', 'went', 'door', 'queen']\n",
      "\n"
     ]
    }
   ],
   "source": [
    "topics = little_mallet_wrapper.load_topic_keys(path_to_topic_keys)\n",
    "\n",
    "for topic_number, topic in enumerate(topics):\n",
    "    print(f\"Topic: {topic_number}\\n\\n{topic}\\n\")"
   ]
  },
  {
   "cell_type": "markdown",
   "metadata": {},
   "source": [
    "## Load Topic Distributions"
   ]
  },
  {
   "cell_type": "markdown",
   "metadata": {},
   "source": [
    "MALLET also calculates the probability distribution of these topics over every single document in the corpus, that is, the probability that each topic exists in a specified document. Therefore, we can use these probability distributions to examine how strongly the extracted topics are associated with a given document (book) in our corpus.\n",
    "\n",
    "To get the topic distributions, we're going to use the [`little_mallet_wrapper.load_topic_distributions()`](https://github.com/maria-antoniak/little-mallet-wrapper#load_topic_distributionstopic_distributions_path) function, which will read and process the MALLET topic model output (contained in the file whose path is stored in the `path_to_topic_distributions` variable) and return a list of the probability distributions of each topic over each document."
   ]
  },
  {
   "cell_type": "code",
   "execution_count": 30,
   "metadata": {},
   "outputs": [],
   "source": [
    "#store the probability distributions (list of lists) in a variable\n",
    "topic_distributions = little_mallet_wrapper.load_topic_distributions(path_to_topic_distributions)"
   ]
  },
  {
   "cell_type": "markdown",
   "metadata": {},
   "source": [
    "Of course, we can analyze the probability distribution of the topics over one specific book."
   ]
  },
  {
   "cell_type": "code",
   "execution_count": 31,
   "metadata": {
    "scrolled": true,
    "tags": [
     "output_scroll"
    ]
   },
   "outputs": [
    {
     "name": "stdout",
     "output_type": "stream",
     "text": [
      "Topic Distributions for 1865_carroll-alices-adventures-in-wonderland\n",
      "\n",
      "Topic 0 ['little', 'great', 'one', 'patrasche', 'prince', 'old', 'civil', 'nello', 'king', 'came', 'people', 'day', 'miller', 'lady', 'spare', 'rose', 'dog', 'chair', 'swallow', 'hans'] \n",
      "Probability: 0.006\n",
      "\n",
      "Topic 1 ['tom', 'boys', 'school', 'one', 'east', 'old', 'arthur', 'doctor', 'young', 'boy', 'half', 'first', 'house', 'get', 'two', 'form', 'brown', 'fellow', 'side', 'great'] \n",
      "Probability: 0.0\n",
      "\n",
      "Topic 2 ['tom', 'huck', 'joe', 'boys', 'ain', 'becky', 'got', 'aunt', 'one', 'sid', 'presently', 'around', 'boy', 'reckon', 'get', 'injun', 'began', 'yes', 'school', 'away'] \n",
      "Probability: 0.0\n",
      "\n",
      "Topic 3 ['one', 'horse', 'horses', 'master', 'good', 'man', 'john', 'little', 'came', 'jerry', 'men', 'get', 'used', 'work', 'sir', 'stable', 'james', 'ginger', 'lady', 'young'] \n",
      "Probability: 0.0\n",
      "\n",
      "Topic 4 ['upon', 'heart', 'time', 'face', 'one', 'together', 'work', 'within', 'half', 'men', 'whole', 'life', 'left', 'eye', 'gone', 'god', 'ten', 'many', 'got', 'full'] \n",
      "Probability: 0.014\n",
      "\n",
      "Topic 5 ['earl', 'fauntleroy', 'little', 'lord', 'cedric', 'one', 'hobbs', 'boy', 'havisham', 'dick', 'said', 'would', 'lordship', 'looked', 'quite', 'dorincourt', 'mother', 'people', 'mrs', 'great'] \n",
      "Probability: 0.0\n",
      "\n",
      "Topic 6 ['ida', 'mrs', 'old', 'one', 'lady', 'miss', 'dear', 'father', 'fatima', 'home', 'project', 'gutenberg', 'young', 'overtheway', 'mother', 'nurse', 'seemed', 'captain', 'moss', 'story'] \n",
      "Probability: 0.0\n",
      "\n",
      "Topic 7 ['griselda', 'cuckoo', 'said', 'little', 'miss', 'grizzel', 'phil', 'dorcas', 'one', 'like', 'clock', 'room', 'aunt', 'dear', 'quite', 'tabitha', 'rather', 'replied', 'eileen', 'way'] \n",
      "Probability: 0.0\n",
      "\n",
      "Topic 8 ['said', 'would', 'could', 'like', 'see', 'good', 'well', 'never', 'time', 'old', 'come', 'came', 'went', 'back', 'say', 'know', 'day', 'long', 'great', 'think'] \n",
      "Probability: 0.427\n",
      "\n",
      "Topic 9 ['micawber', 'aunt', 'peggotty', 'miss', 'said', 'mrs', 'copperfield', 'dora', 'traddles', 'agnes', 'dear', 'sir', 'steerforth', 'returned', 'murdstone', 'mother', 'upon', 'think', 'doctor', 'dick'] \n",
      "Probability: 0.0\n",
      "\n",
      "Topic 10 ['diamond', 'wind', 'north', 'little', 'one', 'mother', 'father', 'know', 'baby', 'got', 'horse', 'nanny', 'raymond', 'quite', 'bed', 'yes', 'like', 'moment', 'answered', 'moon'] \n",
      "Probability: 0.0\n",
      "\n",
      "Topic 11 ['little', 'one', 'said', 'quite', 'room', 'much', 'know', 'eyes', 'face', 'may', 'head', 'seemed', 'life', 'upon', 'house', 'really', 'looked', 'looking', 'love', 'cried'] \n",
      "Probability: 0.228\n",
      "\n",
      "Topic 12 ['mowgli', 'little', 'one', 'jungle', 'bagheera', 'man', 'wolf', 'big', 'nag', 'rikki', 'tikki', 'thou', 'head', 'baloo', 'sea', 'said', 'men', 'khan', 'shere', 'toomai'] \n",
      "Probability: 0.0\n",
      "\n",
      "Topic 13 ['captain', 'silver', 'man', 'one', 'doctor', 'ship', 'sea', 'sir', 'squire', 'cried', 'jim', 'island', 'upon', 'john', 'hand', 'lay', 'men', 'hands', 'cap', 'still'] \n",
      "Probability: 0.0\n",
      "\n",
      "Topic 14 ['said', 'alice', 'oswald', 'one', 'noel', 'dicky', 'dora', 'uncle', 'father', 'got', 'albert', 'quite', 'thought', 'think', 'like', 'little', 'things', 'went', 'door', 'queen'] \n",
      "Probability: 0.325\n",
      "\n"
     ]
    }
   ],
   "source": [
    "#specify the title/label of the desidered document in a variable\n",
    "book_to_check = \"1865_carroll-alices-adventures-in-wonderland\"\n",
    "#get document's index in the list and store it in a variable\n",
    "book_number = book_titles.index(book_to_check)\n",
    "\n",
    "print(f\"Topic Distributions for {book_titles[book_number]}\\n\")\n",
    "for topic_number, (topic, topic_distribution) in enumerate(zip(topics, topic_distributions[book_number])):\n",
    "    print(f\"Topic {topic_number} {topic} \\nProbability: {round(topic_distribution, 3)}\\n\")"
   ]
  },
  {
   "cell_type": "markdown",
   "metadata": {},
   "source": [
    "## Explore Heatmap of Topics and Texts"
   ]
  },
  {
   "cell_type": "markdown",
   "metadata": {},
   "source": [
    "We can visualize and compare these topic probability distributions with a heatmap by using the [`little_mallet_wrapper.plot_categories_by_topics_heatmap()`](https://github.com/maria-antoniak/little-mallet-wrapper#plot_categories_by_topics_heatmaplabels-topic_distributions-topic_keys-output_pathnone-target_labelsnone-dimnone) function.\n",
    "\n",
    "First, we only need to specify the `target_labels` parameter, telling the function which documents we'd like to be plotted in the graph. "
   ]
  },
  {
   "cell_type": "code",
   "execution_count": 32,
   "metadata": {},
   "outputs": [],
   "source": [
    "target_labels = ['1857_browne-grannys-wonderful-chair',\n",
    " '1857_hughes-tom-browns-school-days',\n",
    " '1865_carroll-alices-adventures-in-wonderland',\n",
    " '1869_dickens-david-copperfield',\n",
    " '1869_ewing-mrs-overtheways-remembrances',\n",
    " '1871_macdonald-at-the-back-of-the-north-wind',\n",
    " '1872_de-la-ramee-a-dog-of-flanders',\n",
    " '1876_twain-the-adventures-of-tom-sawyer',\n",
    " '1877_molesworth-the-cuckoo-clock',\n",
    " '1877_sewell-black-beauty',\n",
    " '1883_stevenson-treasure-island',\n",
    " '1886_hodgson-burnett-little-lord-fauntleroy',\n",
    " '1888_wilde-the-happy-prince-and-other-tales',\n",
    " '1894_kipling-the-jungle-book',\n",
    " '1899_nesbit-the-story-of-the-treasure-seekers',\n",
    " '1902_potter-the-tale-of-peter-rabbit']"
   ]
  },
  {
   "cell_type": "code",
   "execution_count": 33,
   "metadata": {},
   "outputs": [
    {
     "data": {
      "image/png": "[encoded data removed]",
      "text/plain": [
       "<Figure size 936x648 with 2 Axes>"
      ]
     },
     "metadata": {
      "needs_background": "light"
     },
     "output_type": "display_data"
    }
   ],
   "source": [
    "little_mallet_wrapper.plot_categories_by_topics_heatmap(book_titles,\n",
    "                                      topic_distributions,\n",
    "                                      topics, \n",
    "                                      output_directory_path + '/categories_by_topics.pdf',\n",
    "                                      target_labels=target_labels,\n",
    "                                      dim= (13, 9)\n",
    "                                     )"
   ]
  },
  {
   "cell_type": "markdown",
   "metadata": {},
   "source": [
    "The darker squares in this heatmap represent a high probability for the corresponding topic (compared to everyone else in the heatmap) and the lighter squares in the heatmap represent a low probability for the corresponding topic."
   ]
  },
  {
   "cell_type": "markdown",
   "metadata": {},
   "source": [
    "## Display Top Titles Per Topic"
   ]
  },
  {
   "cell_type": "markdown",
   "metadata": {},
   "source": [
    "We can also display the obituaries that have the highest probability for every topic with the `little_mallet_wrapper.get_top_docs()` function.\n",
    "\n",
    "Because most of the obituaries in our corpus are pretty long, however, it will be more useful for us to simply display the title of each obituary, rather than the entire document—at least as a first step. To do so, we'll first need to make two dictionaries, which will allow us to find the corresponding obituary title and the original text from a given training document."
   ]
  },
  {
   "cell_type": "code",
   "execution_count": 34,
   "metadata": {},
   "outputs": [],
   "source": [
    "training_data_book_titles = dict(zip(training_data, book_titles))\n",
    "training_data_original_text = dict(zip(training_data, original_texts))"
   ]
  },
  {
   "cell_type": "markdown",
   "metadata": {},
   "source": [
    "Then we'll make our own function `display_top_titles_per_topic()` that will display the top text titles for every topic. This function accepts a given `topic_number` as well as a desired `number_of_documents` to display."
   ]
  },
  {
   "cell_type": "code",
   "execution_count": 35,
   "metadata": {},
   "outputs": [],
   "source": [
    "def display_top_titles_per_topic(topic_number=0, number_of_documents=5):\n",
    "    \n",
    "    print(f\"Topic {topic_number}\\n\\n{topics[topic_number]}\\n\")\n",
    "\n",
    "    for probability, document in little_mallet_wrapper.get_top_docs(training_data, topic_distributions, topic_number, n=number_of_documents):\n",
    "        print(round(probability, 4), training_data_book_titles[document] + \"\\n\")\n",
    "    return"
   ]
  },
  {
   "cell_type": "markdown",
   "metadata": {},
   "source": [
    "**Topic 0**"
   ]
  },
  {
   "cell_type": "markdown",
   "metadata": {},
   "source": [
    "To display the top 5 obituary titles with the highest probability of containing Topic 0, we will run:"
   ]
  },
  {
   "cell_type": "code",
   "execution_count": 36,
   "metadata": {},
   "outputs": [
    {
     "name": "stdout",
     "output_type": "stream",
     "text": [
      "Topic 0\n",
      "\n",
      "['little', 'great', 'one', 'patrasche', 'prince', 'old', 'civil', 'nello', 'king', 'came', 'people', 'day', 'miller', 'lady', 'spare', 'rose', 'dog', 'chair', 'swallow', 'hans']\n",
      "\n",
      "0.5127 1857_browne-grannys-wonderful-chair\n",
      "\n",
      "0.3474 1888_wilde-the-happy-prince-and-other-tales\n",
      "\n",
      "0.3408 1872_de-la-ramee-a-dog-of-flanders\n",
      "\n",
      "0.2593 1902_potter-the-tale-of-peter-rabbit\n",
      "\n",
      "0.0164 1869_ewing-mrs-overtheways-remembrances\n",
      "\n"
     ]
    }
   ],
   "source": [
    "display_top_titles_per_topic(topic_number=0, number_of_documents=5)"
   ]
  }
 ],
 "metadata": {
  "kernelspec": {
   "display_name": "Python 3.9.0 64-bit",
   "language": "python",
   "name": "python3"
  },
  "language_info": {
   "codemirror_mode": {
    "name": "ipython",
    "version": 3
   },
   "file_extension": ".py",
   "mimetype": "text/x-python",
   "name": "python",
   "nbconvert_exporter": "python",
   "pygments_lexer": "ipython3",
   "version": "3.9.0"
  },
  "vscode": {
   "interpreter": {
    "hash": "11938c6bc6919ae2720b4d5011047913343b08a43b18698fd82dedb0d4417594"
   }
  }
 },
 "nbformat": 4,
 "nbformat_minor": 4
}
