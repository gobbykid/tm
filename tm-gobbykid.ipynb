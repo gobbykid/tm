{
 "cells": [
  {
   "cell_type": "markdown",
   "metadata": {},
   "source": [
    "# Topic Modeling"
   ]
  },
  {
   "cell_type": "markdown",
   "metadata": {},
   "source": [
    "In this notebook we analyze our corpus through **topic modelling**, a text analysis method that allows us to identify the topics within the texts. The main tool we have used is the [**Little MALLET Wrapper**](https://github.com/maria-antoniak/little-mallet-wrapper), a Python wrapper for [MALLET](http://mallet.cs.umass.edu/topics.php). Mallet is a software, originally developed in Java, that topic models texts using **[Latent Dirichlet Allocation](https://en.wikipedia.org/wiki/Latent_Dirichlet_allocation)** (**LDA**), a generative probabilistic model able to discover topics (i.e. set of words that, taken together, suggest a shared theme), and then automatically classify any individual document within the collection in terms of how \"relevant\" it is to each of the discovered topics. "
   ]
  },
  {
   "cell_type": "markdown",
   "metadata": {},
   "source": [
    "## Setup"
   ]
  },
  {
   "cell_type": "markdown",
   "metadata": {},
   "source": [
    "  \n",
    "Working in this Jupyter notebook requires having Java Development Kit and MALLET pre-installed. For set up instructions, we followed [Melanie Walsh's tutorial](http://melaniewalsh.github.io/Intro-Cultural-Analytics/Text-Analysis/Topic-Modeling-Set-Up.html)."
   ]
  },
  {
   "cell_type": "markdown",
   "metadata": {},
   "source": [
    "Once Java and MALLET are installed, we need to setup Little MALLET Wrapper and import some libraries: "
   ]
  },
  {
   "cell_type": "code",
   "execution_count": 47,
   "metadata": {},
   "outputs": [],
   "source": [
    "#specify the path to the Java-based MALLET software\n",
    "path_to_mallet = 'C:/mallet-2.0.8/bin/mallet'\n",
    "\n",
    "#install the Little MALLET Wrapper and the data visualization library Seaborn\n",
    "'''\n",
    "!pip install little_mallet_wrapper\n",
    "!pip install seaborn\n",
    "'''\n",
    "\n",
    "#import the above packages and libraries for working with files and the file system\n",
    "import little_mallet_wrapper\n",
    "import seaborn\n",
    "import glob\n",
    "from pathlib import Path"
   ]
  },
  {
   "cell_type": "markdown",
   "metadata": {},
   "source": [
    "## Get Training Data From Text Files"
   ]
  },
  {
   "cell_type": "markdown",
   "metadata": {},
   "source": [
    "Before we topic model the Gobby Kid project corpus, we need to process the text files and prepare them for analysis."
   ]
  },
  {
   "cell_type": "code",
   "execution_count": 48,
   "metadata": {},
   "outputs": [],
   "source": [
    "#assign to the \"directory\" variable the path to the directory containing our documents\n",
    "directory = \"Corpus_selected_texts/all\"\n",
    "\n",
    "#use `glob.gob()` function to make a list of all the `.txt` files in that directory.\n",
    "files = glob.glob(f\"{directory}/*.txt\")"
   ]
  },
  {
   "cell_type": "code",
   "execution_count": 49,
   "metadata": {
    "scrolled": true,
    "tags": [
     "output_scroll",
     "hide-output"
    ]
   },
   "outputs": [
    {
     "data": {
      "text/plain": [
       "['Corpus_selected_texts/all\\\\1857_browne-grannys-wonderful-chair.txt',\n",
       " 'Corpus_selected_texts/all\\\\1857_hughes-tom-browns-school-days.txt',\n",
       " 'Corpus_selected_texts/all\\\\1857_tucker-the-rambles-of-a-rat.txt',\n",
       " 'Corpus_selected_texts/all\\\\1865_carroll-alices-adventures-in-wonderland.txt',\n",
       " 'Corpus_selected_texts/all\\\\1869_alcott-little-women.txt',\n",
       " 'Corpus_selected_texts/all\\\\1869_dickens-david-copperfield.txt',\n",
       " 'Corpus_selected_texts/all\\\\1869_ewing-mrs-overtheways-remembrances.txt',\n",
       " 'Corpus_selected_texts/all\\\\1871_macdonald-at-the-back-of-the-north-wind.txt',\n",
       " 'Corpus_selected_texts/all\\\\1872_de-la-ramee-a-dog-of-flanders.txt',\n",
       " 'Corpus_selected_texts/all\\\\1876_twain-the-adventures-of-tom-sawyer.txt',\n",
       " 'Corpus_selected_texts/all\\\\1877_molesworth-the-cuckoo-clock.txt',\n",
       " 'Corpus_selected_texts/all\\\\1877_sewell-black-beauty.txt',\n",
       " 'Corpus_selected_texts/all\\\\1883_stevenson-treasure-island.txt',\n",
       " 'Corpus_selected_texts/all\\\\1886_hodgson-burnett-little-lord-fauntleroy.txt',\n",
       " 'Corpus_selected_texts/all\\\\1888_wilde-the-happy-prince-and-other-tales.txt',\n",
       " 'Corpus_selected_texts/all\\\\1894_kipling-the-jungle-book.txt',\n",
       " 'Corpus_selected_texts/all\\\\1899_nesbit-the-story-of-the-treasure-seekers.txt',\n",
       " 'Corpus_selected_texts/all\\\\1902_potter-the-tale-of-peter-rabbit.txt',\n",
       " 'Corpus_selected_texts/all\\\\1903_douglas_wiggin-rebecca-of-sunnybrook-farm.txt',\n",
       " 'Corpus_selected_texts/all\\\\1908_montgomery-anne-of-green-gables.txt',\n",
       " 'Corpus_selected_texts/all\\\\1911_hodgson_burnett-the-secret-garden.txt']"
      ]
     },
     "execution_count": 49,
     "metadata": {},
     "output_type": "execute_result"
    }
   ],
   "source": [
    "files"
   ]
  },
  {
   "cell_type": "markdown",
   "metadata": {},
   "source": [
    "## Process Texts and files"
   ]
  },
  {
   "cell_type": "markdown",
   "metadata": {},
   "source": [
    "```\n",
    "little_mallet_wrapper.process_string(text, numbers='remove')\n",
    "```"
   ]
  },
  {
   "cell_type": "markdown",
   "metadata": {},
   "source": [
    "Next we process our texts with the function `little_mallet_wrapper.process_string()`, which takes every individual text file, transform all the text to lowercase, removes stopwords, punctuation, and numbers. We add the processed text to our master list `training_data`, i.e. the data we will use to train our LDA topic model."
   ]
  },
  {
   "cell_type": "code",
   "execution_count": 50,
   "metadata": {},
   "outputs": [],
   "source": [
    "#initialize training_data as empty\n",
    "training_data = []\n",
    "#process each file and add it to the training_data list\n",
    "for file in files:\n",
    "    text = open(file, encoding='utf-8').read()\n",
    "    processed_text = little_mallet_wrapper.process_string(text, numbers='remove')\n",
    "    training_data.append(processed_text)"
   ]
  },
  {
   "cell_type": "markdown",
   "metadata": {},
   "source": [
    "We're also making a master list of the original text of the novels for future reference."
   ]
  },
  {
   "cell_type": "code",
   "execution_count": 51,
   "metadata": {},
   "outputs": [],
   "source": [
    "original_texts = []\n",
    "for file in files:\n",
    "    text = open(file, encoding='utf-8').read()\n",
    "    original_texts.append(text)"
   ]
  },
  {
   "cell_type": "markdown",
   "metadata": {},
   "source": [
    "## Process Titles"
   ]
  },
  {
   "cell_type": "markdown",
   "metadata": {},
   "source": [
    "We use the [`Path().stem`](https://docs.python.org/3/library/pathlib.html#pathlib.PurePath.stem) function to extract just the last part of the file path without the \".txt\" file extension, and save the file name (formatted as *year of publication* + *author's last name* + *book's title*) as title for each document."
   ]
  },
  {
   "cell_type": "code",
   "execution_count": 52,
   "metadata": {},
   "outputs": [],
   "source": [
    "book_titles = [Path(file).stem for file in files]"
   ]
  },
  {
   "cell_type": "code",
   "execution_count": 53,
   "metadata": {
    "scrolled": true,
    "tags": [
     "output_scroll",
     "hide-output"
    ]
   },
   "outputs": [
    {
     "data": {
      "text/plain": [
       "['1857_browne-grannys-wonderful-chair',\n",
       " '1857_hughes-tom-browns-school-days',\n",
       " '1857_tucker-the-rambles-of-a-rat',\n",
       " '1865_carroll-alices-adventures-in-wonderland',\n",
       " '1869_alcott-little-women',\n",
       " '1869_dickens-david-copperfield',\n",
       " '1869_ewing-mrs-overtheways-remembrances',\n",
       " '1871_macdonald-at-the-back-of-the-north-wind',\n",
       " '1872_de-la-ramee-a-dog-of-flanders',\n",
       " '1876_twain-the-adventures-of-tom-sawyer',\n",
       " '1877_molesworth-the-cuckoo-clock',\n",
       " '1877_sewell-black-beauty',\n",
       " '1883_stevenson-treasure-island',\n",
       " '1886_hodgson-burnett-little-lord-fauntleroy',\n",
       " '1888_wilde-the-happy-prince-and-other-tales',\n",
       " '1894_kipling-the-jungle-book',\n",
       " '1899_nesbit-the-story-of-the-treasure-seekers',\n",
       " '1902_potter-the-tale-of-peter-rabbit',\n",
       " '1903_douglas_wiggin-rebecca-of-sunnybrook-farm',\n",
       " '1908_montgomery-anne-of-green-gables',\n",
       " '1911_hodgson_burnett-the-secret-garden']"
      ]
     },
     "execution_count": 53,
     "metadata": {},
     "output_type": "execute_result"
    }
   ],
   "source": [
    "book_titles"
   ]
  },
  {
   "cell_type": "markdown",
   "metadata": {},
   "source": [
    "## Get Training Data Stats"
   ]
  },
  {
   "cell_type": "markdown",
   "metadata": {},
   "source": [
    "We can get training data summary statistics by using the function ```little_mallet_wrapper.print_dataset_stats()```."
   ]
  },
  {
   "cell_type": "code",
   "execution_count": 54,
   "metadata": {},
   "outputs": [
    {
     "name": "stdout",
     "output_type": "stream",
     "text": [
      "Number of Documents: 21\n",
      "Mean Number of Words per Document: 34714.0\n",
      "Vocabulary Size: 28427\n"
     ]
    }
   ],
   "source": [
    "little_mallet_wrapper.print_dataset_stats(training_data)"
   ]
  },
  {
   "cell_type": "markdown",
   "metadata": {},
   "source": [
    "## Training the Topic Model"
   ]
  },
  {
   "cell_type": "markdown",
   "metadata": {},
   "source": [
    "We are going to train the model with the function [`quick_train_topic_model(path_to_mallet, output_directory_path, num_topics, training_data)`](https://github.com/maria-antoniak/little-mallet-wrapper#quick_train_topic_modelpath_to_mallet-output_directory_path-num_topics-training_data). First of all, then, we need to set the variables the function is taking as parameters.\n",
    "The `path_to_mallet` and `training_data` variables have been already specified, we only need to create the `num_topics` and the `output_directory_path` variables. The latter specifies where Little MALLET Wrapper will find and output all the results of our topic modelling."
   ]
  },
  {
   "cell_type": "code",
   "execution_count": 55,
   "metadata": {},
   "outputs": [],
   "source": [
    "#specify the number of topics we want returned\n",
    "num_topics = 8\n",
    "\n",
    "#set desired output directory (will be created inside current directory)\n",
    "output_directory_path = 'topic-model-output/results'\n",
    "\n",
    "#set topic model output files! No need to change anything below here\n",
    "Path(f\"{output_directory_path}\").mkdir(parents=True, exist_ok=True)\n",
    "\n",
    "path_to_training_data           = f\"{output_directory_path}/training.txt\"\n",
    "path_to_formatted_training_data = f\"{output_directory_path}/mallet.training\"\n",
    "path_to_model                   = f\"{output_directory_path}/mallet.model.{str(num_topics)}\"\n",
    "path_to_topic_keys              = f\"{output_directory_path}/mallet.topic_keys.{str(num_topics)}\"\n",
    "path_to_topic_distributions     = f\"{output_directory_path}/mallet.topic_distributions.{str(num_topics)}\""
   ]
  },
  {
   "cell_type": "markdown",
   "metadata": {},
   "source": [
    "### Train Topic Model"
   ]
  },
  {
   "cell_type": "markdown",
   "metadata": {},
   "source": [
    "Then we're going to train our topic model with `little_mallet_wrapper.quick_train_topic_model()`. "
   ]
  },
  {
   "cell_type": "code",
   "execution_count": 38,
   "metadata": {
    "scrolled": true,
    "tags": [
     "output_scroll"
    ]
   },
   "outputs": [
    {
     "name": "stdout",
     "output_type": "stream",
     "text": [
      "Importing data...\n",
      "Complete\n",
      "Training topic model...\n",
      "Complete\n"
     ]
    },
    {
     "data": {
      "text/plain": [
       "([['said',\n",
       "   'aunt',\n",
       "   'micawber',\n",
       "   'peggotty',\n",
       "   'mrs',\n",
       "   'upon',\n",
       "   'miss',\n",
       "   'copperfield',\n",
       "   'dora',\n",
       "   'traddles',\n",
       "   'dear',\n",
       "   'agnes',\n",
       "   'sir',\n",
       "   'steerforth',\n",
       "   'returned',\n",
       "   'hand',\n",
       "   'doctor',\n",
       "   'murdstone',\n",
       "   'dick',\n",
       "   'looking'],\n",
       "  ['anne',\n",
       "   'marilla',\n",
       "   'rebecca',\n",
       "   'mrs',\n",
       "   'diana',\n",
       "   'jane',\n",
       "   'matthew',\n",
       "   'school',\n",
       "   'miss',\n",
       "   'girl',\n",
       "   'think',\n",
       "   'miranda',\n",
       "   'emma',\n",
       "   'white',\n",
       "   'lynde',\n",
       "   'things',\n",
       "   'green',\n",
       "   'aunt',\n",
       "   'barry',\n",
       "   'child'],\n",
       "  ['said',\n",
       "   'little',\n",
       "   'one',\n",
       "   'would',\n",
       "   'could',\n",
       "   'like',\n",
       "   'never',\n",
       "   'see',\n",
       "   'know',\n",
       "   'good',\n",
       "   'time',\n",
       "   'well',\n",
       "   'old',\n",
       "   'come',\n",
       "   'much',\n",
       "   'came',\n",
       "   'went',\n",
       "   'say',\n",
       "   'day',\n",
       "   'made'],\n",
       "  ['mary',\n",
       "   'said',\n",
       "   'earl',\n",
       "   'colin',\n",
       "   'tha',\n",
       "   'dickon',\n",
       "   'fauntleroy',\n",
       "   'like',\n",
       "   'things',\n",
       "   'looked',\n",
       "   'mrs',\n",
       "   'boy',\n",
       "   'garden',\n",
       "   'martha',\n",
       "   'quite',\n",
       "   'lord',\n",
       "   'answered',\n",
       "   'cedric',\n",
       "   'one',\n",
       "   'ben'],\n",
       "  ['tom',\n",
       "   'boys',\n",
       "   'school',\n",
       "   'old',\n",
       "   'master',\n",
       "   'east',\n",
       "   'one',\n",
       "   'young',\n",
       "   'horse',\n",
       "   'boy',\n",
       "   'doctor',\n",
       "   'arthur',\n",
       "   'good',\n",
       "   'ida',\n",
       "   'get',\n",
       "   'horses',\n",
       "   'half',\n",
       "   'side',\n",
       "   'two',\n",
       "   'men'],\n",
       "  ['said',\n",
       "   'diamond',\n",
       "   'alice',\n",
       "   'wind',\n",
       "   'north',\n",
       "   'father',\n",
       "   'like',\n",
       "   'oswald',\n",
       "   'thought',\n",
       "   'things',\n",
       "   'door',\n",
       "   'began',\n",
       "   'noel',\n",
       "   'got',\n",
       "   'think',\n",
       "   'people',\n",
       "   'dicky',\n",
       "   'quite',\n",
       "   'baby',\n",
       "   'came'],\n",
       "  ['tom',\n",
       "   'man',\n",
       "   'huck',\n",
       "   'captain',\n",
       "   'men',\n",
       "   'silver',\n",
       "   'sea',\n",
       "   'mowgli',\n",
       "   'upon',\n",
       "   'till',\n",
       "   'back',\n",
       "   'dead',\n",
       "   'began',\n",
       "   'big',\n",
       "   'two',\n",
       "   'doctor',\n",
       "   'rat',\n",
       "   'joe',\n",
       "   'jungle',\n",
       "   'ain'],\n",
       "  ['meg',\n",
       "   'amy',\n",
       "   'laurie',\n",
       "   'beth',\n",
       "   'girls',\n",
       "   'march',\n",
       "   'mrs',\n",
       "   'mother',\n",
       "   'dear',\n",
       "   'love',\n",
       "   'young',\n",
       "   'home',\n",
       "   'asked',\n",
       "   'till',\n",
       "   'like',\n",
       "   'face',\n",
       "   'john',\n",
       "   'happy',\n",
       "   'didn',\n",
       "   'things']],\n",
       " [[1.3117082572722677e-05,\n",
       "   3.3466689274918976e-06,\n",
       "   0.5648854404282865,\n",
       "   8.262373456232491e-06,\n",
       "   0.001383906147525886,\n",
       "   0.4220347283960961,\n",
       "   0.011652791038915247,\n",
       "   1.8407864219704668e-05],\n",
       "  [0.010527551333128984,\n",
       "   7.228371013825076e-07,\n",
       "   0.4885076808106002,\n",
       "   0.0008068469661990481,\n",
       "   0.4675492688552239,\n",
       "   0.00037833539193940556,\n",
       "   0.012982663003467457,\n",
       "   0.019246930802339614],\n",
       "  [0.06394536875496029,\n",
       "   2.544452656393751e-06,\n",
       "   0.5999964991499851,\n",
       "   6.281833830687121e-06,\n",
       "   0.05510350498837846,\n",
       "   0.0061010100938876325,\n",
       "   0.24441828268447494,\n",
       "   0.03042650804182647],\n",
       "  [0.005487558835101032,\n",
       "   3.008603030717471e-06,\n",
       "   0.6830477143410033,\n",
       "   7.427744530430802e-06,\n",
       "   1.819204865642039e-05,\n",
       "   0.310260849444912,\n",
       "   1.4510526635878769e-05,\n",
       "   0.0011607384561301112],\n",
       "  [0.008871120285318916,\n",
       "   0.0030577035691783548,\n",
       "   0.565482277913459,\n",
       "   0.001098506985279145,\n",
       "   0.004482040498633206,\n",
       "   0.0028363125622377413,\n",
       "   1.9883242511232984e-06,\n",
       "   0.4141700498616425],\n",
       "  [0.40351479935845974,\n",
       "   2.3227320111043917e-07,\n",
       "   0.5676375535670946,\n",
       "   5.734442136429972e-07,\n",
       "   0.010639452029249393,\n",
       "   0.0011058759136007904,\n",
       "   0.0016857932666226511,\n",
       "   0.01541572014755823],\n",
       "  [0.09644532541023058,\n",
       "   1.3417215963396805e-06,\n",
       "   0.5583605378992106,\n",
       "   0.019393378791227687,\n",
       "   0.20509815634176987,\n",
       "   0.005695568184579507,\n",
       "   0.00011581361766578076,\n",
       "   0.11488987803371965],\n",
       "  [0.0011797163165258328,\n",
       "   9.411404064059662e-07,\n",
       "   0.6945871138062729,\n",
       "   2.3235203962359497e-06,\n",
       "   0.006320447501076257,\n",
       "   0.2959567399082561,\n",
       "   0.0015384881340457354,\n",
       "   0.00041422967302049893],\n",
       "  [0.01731253185452172,\n",
       "   5.304594846798499e-06,\n",
       "   0.5563022364745533,\n",
       "   1.3096169536883984e-05,\n",
       "   0.04225274226426801,\n",
       "   0.02050047725494838,\n",
       "   0.30421612419053445,\n",
       "   0.059397487196790506],\n",
       "  [0.02191867746784773,\n",
       "   0.029386364154881585,\n",
       "   0.5285421734434872,\n",
       "   0.004573056041168651,\n",
       "   0.04638429525021788,\n",
       "   0.00018362910178794958,\n",
       "   0.3264074622607902,\n",
       "   0.04260434227981881],\n",
       "  [0.0056264748356974325,\n",
       "   1.7988242942601633e-06,\n",
       "   0.9331951893790298,\n",
       "   0.01217171653569837,\n",
       "   1.08769082366204e-05,\n",
       "   0.0293806848829515,\n",
       "   0.002354174648397937,\n",
       "   0.017259083985694118],\n",
       "  [5.501214221126872e-06,\n",
       "   0.0003064242567101312,\n",
       "   0.6890641094017032,\n",
       "   0.007400216836969587,\n",
       "   0.2986999944603355,\n",
       "   0.0032510539316972114,\n",
       "   6.76943374670477e-06,\n",
       "   0.001265930464616621],\n",
       "  [0.027030128505088367,\n",
       "   1.1704428675930243e-06,\n",
       "   0.5440904939357147,\n",
       "   3.468438448360835e-05,\n",
       "   0.023090068795152536,\n",
       "   0.0003264609817390305,\n",
       "   0.40542055510470654,\n",
       "   6.437850247625464e-06],\n",
       "  [0.020871151159351002,\n",
       "   1.3864949553487592e-06,\n",
       "   0.5643757186819055,\n",
       "   0.3875257350684815,\n",
       "   0.004377378554185917,\n",
       "   1.0084936567769407e-05,\n",
       "   0.00023266957411115807,\n",
       "   0.02260587553044186],\n",
       "  [1.9477541867396815e-05,\n",
       "   4.969465107057657e-06,\n",
       "   0.622537183010176,\n",
       "   1.2268789498397778e-05,\n",
       "   0.000570025282847091,\n",
       "   0.33536157517276294,\n",
       "   0.009743545433592113,\n",
       "   0.031750955304148946],\n",
       "  [5.70277463960213e-06,\n",
       "   1.4549956959586151e-06,\n",
       "   0.4571246461623214,\n",
       "   3.5921443314772246e-06,\n",
       "   0.00957373956406252,\n",
       "   0.006887855304017198,\n",
       "   0.5263950060633628,\n",
       "   8.002991569152078e-06],\n",
       "  [6.175570499407883e-06,\n",
       "   1.5756239838638195e-06,\n",
       "   0.5724080586019272,\n",
       "   3.889955673337585e-06,\n",
       "   0.005830515809541487,\n",
       "   0.4104339527429348,\n",
       "   0.004458943415767003,\n",
       "   0.006856888279672869],\n",
       "  [0.0003026546952931917,\n",
       "   7.721877626992869e-05,\n",
       "   0.5361259101810553,\n",
       "   0.021166905681811014,\n",
       "   0.042419447469911296,\n",
       "   0.3970130790190866,\n",
       "   0.002470053562465091,\n",
       "   0.00042473061410764284],\n",
       "  [0.04269054760254712,\n",
       "   0.336007016724466,\n",
       "   0.5244905330110332,\n",
       "   2.4932663845899736e-06,\n",
       "   0.0158626930540596,\n",
       "   0.0120506700505792,\n",
       "   0.005436711803461551,\n",
       "   0.06345933448746881],\n",
       "  [2.9004953773339754e-06,\n",
       "   0.44095197876205533,\n",
       "   0.5200668954022646,\n",
       "   6.213490183872792e-05,\n",
       "   4.474704873014029e-06,\n",
       "   0.0006486669619607094,\n",
       "   3.56915955282756e-06,\n",
       "   0.03825937961207742],\n",
       "  [3.838704779050734e-06,\n",
       "   9.79400254182981e-07,\n",
       "   0.5246688737488278,\n",
       "   0.4751701257936598,\n",
       "   3.2527251126019673e-05,\n",
       "   0.0001135443945658083,\n",
       "   4.7236585652576095e-06,\n",
       "   5.387048222082674e-06]])"
      ]
     },
     "execution_count": 38,
     "metadata": {},
     "output_type": "execute_result"
    }
   ],
   "source": [
    "little_mallet_wrapper.quick_train_topic_model(path_to_mallet,\n",
    "                                             output_directory_path,\n",
    "                                             num_topics,\n",
    "                                             training_data)"
   ]
  },
  {
   "cell_type": "markdown",
   "metadata": {},
   "source": [
    "## Display Topics and Top Words"
   ]
  },
  {
   "cell_type": "markdown",
   "metadata": {},
   "source": [
    "To examine the `num_topics` topics that the topic model extracted from our corpus we use the [`little_mallet_wrapper.load_topic_keys()`](https://github.com/maria-antoniak/little-mallet-wrapper#load_topic_keystopic_keys_path) function, reading and processing the output from the file in input."
   ]
  },
  {
   "cell_type": "code",
   "execution_count": 39,
   "metadata": {},
   "outputs": [
    {
     "name": "stdout",
     "output_type": "stream",
     "text": [
      "Topic: 0\n",
      "\n",
      "['said', 'aunt', 'micawber', 'peggotty', 'mrs', 'upon', 'miss', 'copperfield', 'dora', 'traddles', 'dear', 'agnes', 'sir', 'steerforth', 'returned', 'hand', 'doctor', 'murdstone', 'dick', 'looking']\n",
      "\n",
      "Topic: 1\n",
      "\n",
      "['anne', 'marilla', 'rebecca', 'mrs', 'diana', 'jane', 'matthew', 'school', 'miss', 'girl', 'think', 'miranda', 'emma', 'white', 'lynde', 'things', 'green', 'aunt', 'barry', 'child']\n",
      "\n",
      "Topic: 2\n",
      "\n",
      "['said', 'little', 'one', 'would', 'could', 'like', 'never', 'see', 'know', 'good', 'time', 'well', 'old', 'come', 'much', 'came', 'went', 'say', 'day', 'made']\n",
      "\n",
      "Topic: 3\n",
      "\n",
      "['mary', 'said', 'earl', 'colin', 'tha', 'dickon', 'fauntleroy', 'like', 'things', 'looked', 'mrs', 'boy', 'garden', 'martha', 'quite', 'lord', 'answered', 'cedric', 'one', 'ben']\n",
      "\n",
      "Topic: 4\n",
      "\n",
      "['tom', 'boys', 'school', 'old', 'master', 'east', 'one', 'young', 'horse', 'boy', 'doctor', 'arthur', 'good', 'ida', 'get', 'horses', 'half', 'side', 'two', 'men']\n",
      "\n",
      "Topic: 5\n",
      "\n",
      "['said', 'diamond', 'alice', 'wind', 'north', 'father', 'like', 'oswald', 'thought', 'things', 'door', 'began', 'noel', 'got', 'think', 'people', 'dicky', 'quite', 'baby', 'came']\n",
      "\n",
      "Topic: 6\n",
      "\n",
      "['tom', 'man', 'huck', 'captain', 'men', 'silver', 'sea', 'mowgli', 'upon', 'till', 'back', 'dead', 'began', 'big', 'two', 'doctor', 'rat', 'joe', 'jungle', 'ain']\n",
      "\n",
      "Topic: 7\n",
      "\n",
      "['meg', 'amy', 'laurie', 'beth', 'girls', 'march', 'mrs', 'mother', 'dear', 'love', 'young', 'home', 'asked', 'till', 'like', 'face', 'john', 'happy', 'didn', 'things']\n",
      "\n"
     ]
    }
   ],
   "source": [
    "topics = little_mallet_wrapper.load_topic_keys(path_to_topic_keys)\n",
    "\n",
    "for topic_number, topic in enumerate(topics):\n",
    "    print(f\"Topic: {topic_number}\\n\\n{topic}\\n\")"
   ]
  },
  {
   "cell_type": "markdown",
   "metadata": {},
   "source": [
    "## Load Topic Distributions"
   ]
  },
  {
   "cell_type": "markdown",
   "metadata": {},
   "source": [
    "MALLET also calculates the probability distribution of these topics over every single document in the corpus, that is, the probability that each topic exists in a specified document. Therefore, we can use these probability distributions to examine how strongly the extracted topics are associated with a given document (book) in our corpus.\n",
    "\n",
    "To get the topic distributions, we're going to use the [`little_mallet_wrapper.load_topic_distributions()`](https://github.com/maria-antoniak/little-mallet-wrapper#load_topic_distributionstopic_distributions_path) function, which will read and process the MALLET topic model output (contained in the file whose path is stored in the `path_to_topic_distributions` variable) and return a list of the probability distributions of each topic over each document."
   ]
  },
  {
   "cell_type": "code",
   "execution_count": 40,
   "metadata": {},
   "outputs": [],
   "source": [
    "#store the probability distributions (list of lists) in a variable\n",
    "topic_distributions = little_mallet_wrapper.load_topic_distributions(path_to_topic_distributions)"
   ]
  },
  {
   "cell_type": "markdown",
   "metadata": {},
   "source": [
    "Of course, we can analyze the probability distribution of the topics over one specific book."
   ]
  },
  {
   "cell_type": "code",
   "execution_count": 41,
   "metadata": {
    "scrolled": true,
    "tags": [
     "output_scroll"
    ]
   },
   "outputs": [
    {
     "name": "stdout",
     "output_type": "stream",
     "text": [
      "Topic Distributions for 1865_carroll-alices-adventures-in-wonderland\n",
      "\n",
      "Topic 0 ['said', 'aunt', 'micawber', 'peggotty', 'mrs', 'upon', 'miss', 'copperfield', 'dora', 'traddles', 'dear', 'agnes', 'sir', 'steerforth', 'returned', 'hand', 'doctor', 'murdstone', 'dick', 'looking'] \n",
      "Probability: 0.005\n",
      "\n",
      "Topic 1 ['anne', 'marilla', 'rebecca', 'mrs', 'diana', 'jane', 'matthew', 'school', 'miss', 'girl', 'think', 'miranda', 'emma', 'white', 'lynde', 'things', 'green', 'aunt', 'barry', 'child'] \n",
      "Probability: 0.0\n",
      "\n",
      "Topic 2 ['said', 'little', 'one', 'would', 'could', 'like', 'never', 'see', 'know', 'good', 'time', 'well', 'old', 'come', 'much', 'came', 'went', 'say', 'day', 'made'] \n",
      "Probability: 0.683\n",
      "\n",
      "Topic 3 ['mary', 'said', 'earl', 'colin', 'tha', 'dickon', 'fauntleroy', 'like', 'things', 'looked', 'mrs', 'boy', 'garden', 'martha', 'quite', 'lord', 'answered', 'cedric', 'one', 'ben'] \n",
      "Probability: 0.0\n",
      "\n",
      "Topic 4 ['tom', 'boys', 'school', 'old', 'master', 'east', 'one', 'young', 'horse', 'boy', 'doctor', 'arthur', 'good', 'ida', 'get', 'horses', 'half', 'side', 'two', 'men'] \n",
      "Probability: 0.0\n",
      "\n",
      "Topic 5 ['said', 'diamond', 'alice', 'wind', 'north', 'father', 'like', 'oswald', 'thought', 'things', 'door', 'began', 'noel', 'got', 'think', 'people', 'dicky', 'quite', 'baby', 'came'] \n",
      "Probability: 0.31\n",
      "\n",
      "Topic 6 ['tom', 'man', 'huck', 'captain', 'men', 'silver', 'sea', 'mowgli', 'upon', 'till', 'back', 'dead', 'began', 'big', 'two', 'doctor', 'rat', 'joe', 'jungle', 'ain'] \n",
      "Probability: 0.0\n",
      "\n",
      "Topic 7 ['meg', 'amy', 'laurie', 'beth', 'girls', 'march', 'mrs', 'mother', 'dear', 'love', 'young', 'home', 'asked', 'till', 'like', 'face', 'john', 'happy', 'didn', 'things'] \n",
      "Probability: 0.001\n",
      "\n"
     ]
    }
   ],
   "source": [
    "#specify the title/label of the desidered document in a variable\n",
    "book_to_check = \"1865_carroll-alices-adventures-in-wonderland\"\n",
    "#get document's index in the list and store it in a variable\n",
    "book_number = book_titles.index(book_to_check)\n",
    "\n",
    "print(f\"Topic Distributions for {book_titles[book_number]}\\n\")\n",
    "for topic_number, (topic, topic_distribution) in enumerate(zip(topics, topic_distributions[book_number])):\n",
    "    print(f\"Topic {topic_number} {topic} \\nProbability: {round(topic_distribution, 3)}\\n\")"
   ]
  },
  {
   "cell_type": "markdown",
   "metadata": {},
   "source": [
    "## Explore Heatmap of Topics and Texts"
   ]
  },
  {
   "cell_type": "markdown",
   "metadata": {},
   "source": [
    "We can visualize and compare these topic probability distributions with a heatmap by using the [`little_mallet_wrapper.plot_categories_by_topics_heatmap()`](https://github.com/maria-antoniak/little-mallet-wrapper#plot_categories_by_topics_heatmaplabels-topic_distributions-topic_keys-output_pathnone-target_labelsnone-dimnone) function.\n",
    "\n",
    "First, we only need to specify the `target_labels` parameter, telling the function which documents we'd like to be plotted in the graph. "
   ]
  },
  {
   "cell_type": "code",
   "execution_count": 42,
   "metadata": {},
   "outputs": [],
   "source": [
    "target_labels = ['1857_browne-grannys-wonderful-chair',\n",
    " '1857_hughes-tom-browns-school-days',\n",
    " '1865_carroll-alices-adventures-in-wonderland',\n",
    " '1869_dickens-david-copperfield',\n",
    " '1869_ewing-mrs-overtheways-remembrances',\n",
    " '1871_macdonald-at-the-back-of-the-north-wind',\n",
    " '1872_de-la-ramee-a-dog-of-flanders',\n",
    " '1876_twain-the-adventures-of-tom-sawyer',\n",
    " '1877_molesworth-the-cuckoo-clock',\n",
    " '1877_sewell-black-beauty',\n",
    " '1883_stevenson-treasure-island',\n",
    " '1886_hodgson-burnett-little-lord-fauntleroy',\n",
    " '1888_wilde-the-happy-prince-and-other-tales',\n",
    " '1894_kipling-the-jungle-book',\n",
    " '1899_nesbit-the-story-of-the-treasure-seekers',\n",
    " '1902_potter-the-tale-of-peter-rabbit']"
   ]
  },
  {
   "cell_type": "code",
   "execution_count": 43,
   "metadata": {},
   "outputs": [
    {
     "data": {
      "image/png": "[encoded data removed]",
      "text/plain": [
       "<Figure size 936x648 with 2 Axes>"
      ]
     },
     "metadata": {},
     "output_type": "display_data"
    }
   ],
   "source": [
    "little_mallet_wrapper.plot_categories_by_topics_heatmap(book_titles,\n",
    "                                      topic_distributions,\n",
    "                                      topics, \n",
    "                                      output_directory_path + '/categories_by_topics.pdf',\n",
    "                                      target_labels=target_labels,\n",
    "                                      dim= (13, 9)\n",
    "                                     )"
   ]
  },
  {
   "cell_type": "markdown",
   "metadata": {},
   "source": [
    "The darker squares in this heatmap represent a high probability for the corresponding topic (compared to everyone else in the heatmap) and the lighter squares in the heatmap represent a low probability for the corresponding topic."
   ]
  },
  {
   "cell_type": "markdown",
   "metadata": {},
   "source": [
    "## Display Top Titles Per Topic"
   ]
  },
  {
   "cell_type": "markdown",
   "metadata": {},
   "source": [
    "We can also display the obituaries that have the highest probability for every topic with the `little_mallet_wrapper.get_top_docs()` function.\n",
    "\n",
    "Because most of the obituaries in our corpus are pretty long, however, it will be more useful for us to simply display the title of each obituary, rather than the entire document—at least as a first step. To do so, we'll first need to make two dictionaries, which will allow us to find the corresponding obituary title and the original text from a given training document."
   ]
  },
  {
   "cell_type": "code",
   "execution_count": 44,
   "metadata": {},
   "outputs": [],
   "source": [
    "training_data_book_titles = dict(zip(training_data, book_titles))\n",
    "training_data_original_text = dict(zip(training_data, original_texts))"
   ]
  },
  {
   "cell_type": "markdown",
   "metadata": {},
   "source": [
    "Then we'll make our own function `display_top_titles_per_topic()` that will display the top text titles for every topic. This function accepts a given `topic_number` as well as a desired `number_of_documents` to display."
   ]
  },
  {
   "cell_type": "code",
   "execution_count": 45,
   "metadata": {},
   "outputs": [],
   "source": [
    "def display_top_titles_per_topic(topic_number=0, number_of_documents=5):\n",
    "    \n",
    "    print(f\"Topic {topic_number}\\n\\n{topics[topic_number]}\\n\")\n",
    "\n",
    "    for probability, document in little_mallet_wrapper.get_top_docs(training_data, topic_distributions, topic_number, n=number_of_documents):\n",
    "        print(round(probability, 4), training_data_book_titles[document] + \"\\n\")\n",
    "    return"
   ]
  },
  {
   "cell_type": "markdown",
   "metadata": {},
   "source": [
    "**Topic 0**"
   ]
  },
  {
   "cell_type": "markdown",
   "metadata": {},
   "source": [
    "To display the top 5 obituary titles with the highest probability of containing Topic 0, we will run:"
   ]
  },
  {
   "cell_type": "code",
   "execution_count": 46,
   "metadata": {},
   "outputs": [
    {
     "name": "stdout",
     "output_type": "stream",
     "text": [
      "Topic 0\n",
      "\n",
      "['said', 'aunt', 'micawber', 'peggotty', 'mrs', 'upon', 'miss', 'copperfield', 'dora', 'traddles', 'dear', 'agnes', 'sir', 'steerforth', 'returned', 'hand', 'doctor', 'murdstone', 'dick', 'looking']\n",
      "\n",
      "0.4035 1869_dickens-david-copperfield\n",
      "\n",
      "0.0964 1869_ewing-mrs-overtheways-remembrances\n",
      "\n",
      "0.0639 1857_tucker-the-rambles-of-a-rat\n",
      "\n",
      "0.0427 1903_douglas_wiggin-rebecca-of-sunnybrook-farm\n",
      "\n",
      "0.027 1883_stevenson-treasure-island\n",
      "\n"
     ]
    }
   ],
   "source": [
    "display_top_titles_per_topic(topic_number=0, number_of_documents=5)"
   ]
  }
 ],
 "metadata": {
  "kernelspec": {
   "display_name": "Python 3.9.0 64-bit",
   "language": "python",
   "name": "python3"
  },
  "language_info": {
   "codemirror_mode": {
    "name": "ipython",
    "version": 3
   },
   "file_extension": ".py",
   "mimetype": "text/x-python",
   "name": "python",
   "nbconvert_exporter": "python",
   "pygments_lexer": "ipython3",
   "version": "3.9.0"
  },
  "vscode": {
   "interpreter": {
    "hash": "11938c6bc6919ae2720b4d5011047913343b08a43b18698fd82dedb0d4417594"
   }
  }
 },
 "nbformat": 4,
 "nbformat_minor": 4
}
