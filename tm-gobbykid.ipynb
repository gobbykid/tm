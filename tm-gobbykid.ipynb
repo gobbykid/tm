{
 "cells": [
  {
   "cell_type": "markdown",
   "metadata": {},
   "source": [
    "# Topic Modeling"
   ]
  },
  {
   "cell_type": "markdown",
   "metadata": {},
   "source": [
    "In this notebook we analyze our corpus through **topic modelling**, a text analysis method that allows us to identify the topics within the texts. The main tool we have used is the [**Little MALLET Wrapper**](https://github.com/maria-antoniak/little-mallet-wrapper), a Python wrapper for [MALLET](http://mallet.cs.umass.edu/topics.php). Mallet is a software, originally developed in Java, that topic models texts using **[Latent Dirichlet Allocation](https://en.wikipedia.org/wiki/Latent_Dirichlet_allocation)** (**LDA**), a generative probabilistic model able to discover topics (i.e. set of words that, taken together, suggest a shared theme), and then automatically classify any individual document within the collection in terms of how \"relevant\" it is to each of the discovered topics. "
   ]
  },
  {
   "cell_type": "markdown",
   "metadata": {},
   "source": [
    "## Setup"
   ]
  },
  {
   "cell_type": "markdown",
   "metadata": {},
   "source": [
    "  \n",
    "Working in this Jupyter notebook requires having Java Development Kit and MALLET pre-installed. For set up instructions, we followed [Melanie Walsh's tutorial](http://melaniewalsh.github.io/Intro-Cultural-Analytics/Text-Analysis/Topic-Modeling-Set-Up.html)."
   ]
  },
  {
   "cell_type": "markdown",
   "metadata": {},
   "source": [
    "Once Java and MALLET are installed, we need to setup Little MALLET Wrapper and import some libraries: "
   ]
  },
  {
   "cell_type": "code",
   "execution_count": 19,
   "metadata": {},
   "outputs": [],
   "source": [
    "#specify the path to the Java-based MALLET software\n",
    "path_to_mallet = 'C:/mallet-2.0.8/bin/mallet'\n",
    "\n",
    "#install the Little MALLET Wrapper and the data visualization library Seaborn\n",
    "'''\n",
    "!pip install little_mallet_wrapper\n",
    "!pip install seaborn\n",
    "'''\n",
    "\n",
    "#import the above packages and libraries for working with files and the file system\n",
    "import little_mallet_wrapper\n",
    "import seaborn\n",
    "import glob\n",
    "from pathlib import Path"
   ]
  },
  {
   "cell_type": "markdown",
   "metadata": {},
   "source": [
    "## Get Training Data From Text Files"
   ]
  },
  {
   "cell_type": "markdown",
   "metadata": {},
   "source": [
    "Before we topic model the Gobby Kid project corpus, we need to process the text files and prepare them for analysis."
   ]
  },
  {
   "cell_type": "code",
   "execution_count": 20,
   "metadata": {},
   "outputs": [],
   "source": [
    "#assign to the \"directory\" variable the path to the directory containing our documents\n",
    "directory = \"Corpus_selected_texts/all\"\n",
    "\n",
    "#use `glob.gob()` function to make a list of all the `.txt` files in that directory.\n",
    "files = glob.glob(f\"{directory}/*.txt\")"
   ]
  },
  {
   "cell_type": "code",
   "execution_count": 21,
   "metadata": {
    "scrolled": true,
    "tags": [
     "output_scroll",
     "hide-output"
    ]
   },
   "outputs": [
    {
     "data": {
      "text/plain": [
       "['Corpus_selected_texts/all\\\\1857_browne-grannys-wonderful-chair.txt',\n",
       " 'Corpus_selected_texts/all\\\\1857_hughes-tom-browns-school-days.txt',\n",
       " 'Corpus_selected_texts/all\\\\1865_carroll-alices-adventures-in-wonderland.txt',\n",
       " 'Corpus_selected_texts/all\\\\1869_dickens-david-copperfield.txt',\n",
       " 'Corpus_selected_texts/all\\\\1869_ewing-mrs-overtheways-remembrances.txt',\n",
       " 'Corpus_selected_texts/all\\\\1871_macdonald-at-the-back-of-the-north-wind.txt',\n",
       " 'Corpus_selected_texts/all\\\\1872_de-la-ramee-a-dog-of-flanders.txt',\n",
       " 'Corpus_selected_texts/all\\\\1876_twain-the-adventures-of-tom-sawyer.txt',\n",
       " 'Corpus_selected_texts/all\\\\1877_molesworth-the-cuckoo-clock.txt',\n",
       " 'Corpus_selected_texts/all\\\\1877_sewell-black-beauty.txt',\n",
       " 'Corpus_selected_texts/all\\\\1883_stevenson-treasure-island.txt',\n",
       " 'Corpus_selected_texts/all\\\\1886_hodgson-burnett-little-lord-fauntleroy.txt',\n",
       " 'Corpus_selected_texts/all\\\\1888_wilde-the-happy-prince-and-other-tales.txt',\n",
       " 'Corpus_selected_texts/all\\\\1894_kipling-the-jungle-book.txt',\n",
       " 'Corpus_selected_texts/all\\\\1899_nesbit-the-story-of-the-treasure-seekers.txt',\n",
       " 'Corpus_selected_texts/all\\\\1902_potter-the-tale-of-peter-rabbit.txt']"
      ]
     },
     "execution_count": 21,
     "metadata": {},
     "output_type": "execute_result"
    }
   ],
   "source": [
    "files"
   ]
  },
  {
   "cell_type": "markdown",
   "metadata": {},
   "source": [
    "## Process Texts and files"
   ]
  },
  {
   "cell_type": "markdown",
   "metadata": {},
   "source": [
    "```\n",
    "little_mallet_wrapper.process_string(text, numbers='remove')\n",
    "```"
   ]
  },
  {
   "cell_type": "markdown",
   "metadata": {},
   "source": [
    "Next we process our texts with the function `little_mallet_wrapper.process_string()`, which takes every individual text file, transform all the text to lowercase, removes stopwords, punctuation, and numbers. We add the processed text to our master list `training_data`, i.e. the data we will use to train our LDA topic model."
   ]
  },
  {
   "cell_type": "code",
   "execution_count": 22,
   "metadata": {},
   "outputs": [],
   "source": [
    "#initialize training_data as empty\n",
    "training_data = []\n",
    "#process each file and add it to the training_data list\n",
    "for file in files:\n",
    "    text = open(file, encoding='utf-8').read()\n",
    "    processed_text = little_mallet_wrapper.process_string(text, numbers='remove')\n",
    "    training_data.append(processed_text)"
   ]
  },
  {
   "cell_type": "markdown",
   "metadata": {},
   "source": [
    "We're also making a master list of the original text of the novels for future reference."
   ]
  },
  {
   "cell_type": "code",
   "execution_count": 23,
   "metadata": {},
   "outputs": [],
   "source": [
    "original_texts = []\n",
    "for file in files:\n",
    "    text = open(file, encoding='utf-8').read()\n",
    "    original_texts.append(text)"
   ]
  },
  {
   "cell_type": "markdown",
   "metadata": {},
   "source": [
    "## Process Titles"
   ]
  },
  {
   "cell_type": "markdown",
   "metadata": {},
   "source": [
    "We use the [`Path().stem`](https://docs.python.org/3/library/pathlib.html#pathlib.PurePath.stem) function to extract just the last part of the file path without the \".txt\" file extension, and save the file name (formatted as *year of publication* + *author's last name* + *book's title*) as title for each document."
   ]
  },
  {
   "cell_type": "code",
   "execution_count": 24,
   "metadata": {},
   "outputs": [],
   "source": [
    "book_titles = [Path(file).stem for file in files]"
   ]
  },
  {
   "cell_type": "code",
   "execution_count": 25,
   "metadata": {
    "scrolled": true,
    "tags": [
     "output_scroll",
     "hide-output"
    ]
   },
   "outputs": [
    {
     "data": {
      "text/plain": [
       "['1857_browne-grannys-wonderful-chair',\n",
       " '1857_hughes-tom-browns-school-days',\n",
       " '1865_carroll-alices-adventures-in-wonderland',\n",
       " '1869_dickens-david-copperfield',\n",
       " '1869_ewing-mrs-overtheways-remembrances',\n",
       " '1871_macdonald-at-the-back-of-the-north-wind',\n",
       " '1872_de-la-ramee-a-dog-of-flanders',\n",
       " '1876_twain-the-adventures-of-tom-sawyer',\n",
       " '1877_molesworth-the-cuckoo-clock',\n",
       " '1877_sewell-black-beauty',\n",
       " '1883_stevenson-treasure-island',\n",
       " '1886_hodgson-burnett-little-lord-fauntleroy',\n",
       " '1888_wilde-the-happy-prince-and-other-tales',\n",
       " '1894_kipling-the-jungle-book',\n",
       " '1899_nesbit-the-story-of-the-treasure-seekers',\n",
       " '1902_potter-the-tale-of-peter-rabbit']"
      ]
     },
     "execution_count": 25,
     "metadata": {},
     "output_type": "execute_result"
    }
   ],
   "source": [
    "book_titles"
   ]
  },
  {
   "cell_type": "markdown",
   "metadata": {},
   "source": [
    "## Get Training Data Stats"
   ]
  },
  {
   "cell_type": "markdown",
   "metadata": {},
   "source": [
    "We can get training data summary statistics by using the function ```little_mallet_wrapper.print_dataset_stats()```."
   ]
  },
  {
   "cell_type": "code",
   "execution_count": 26,
   "metadata": {},
   "outputs": [
    {
     "name": "stdout",
     "output_type": "stream",
     "text": [
      "Number of Documents: 16\n",
      "Mean Number of Words per Document: 31341.7\n",
      "Vocabulary Size: 23896\n"
     ]
    }
   ],
   "source": [
    "little_mallet_wrapper.print_dataset_stats(training_data)"
   ]
  },
  {
   "cell_type": "markdown",
   "metadata": {},
   "source": [
    "## Training the Topic Model"
   ]
  },
  {
   "cell_type": "markdown",
   "metadata": {},
   "source": [
    "We are going to train the model with the function [`quick_train_topic_model(path_to_mallet, output_directory_path, num_topics, training_data)`](https://github.com/maria-antoniak/little-mallet-wrapper#quick_train_topic_modelpath_to_mallet-output_directory_path-num_topics-training_data). First of all, then, we need to set the variables the function is taking as parameters.\n",
    "The `path_to_mallet` and `training_data` variables have been already specified, we only need to create the `num_topics` and the `output_directory_path` variables. The latter specifies where Little MALLET Wrapper will find and output all the results of our topic modelling."
   ]
  },
  {
   "cell_type": "code",
   "execution_count": 27,
   "metadata": {},
   "outputs": [],
   "source": [
    "#specify the number of topics we want returned\n",
    "num_topics = 5\n",
    "\n",
    "#set desired output directory (will be created inside current directory)\n",
    "output_directory_path = 'topic-model-output/results'\n",
    "\n",
    "#set topic model output files! No need to change anything below here\n",
    "Path(f\"{output_directory_path}\").mkdir(parents=True, exist_ok=True)\n",
    "\n",
    "path_to_training_data           = f\"{output_directory_path}/training.txt\"\n",
    "path_to_formatted_training_data = f\"{output_directory_path}/mallet.training\"\n",
    "path_to_model                   = f\"{output_directory_path}/mallet.model.{str(num_topics)}\"\n",
    "path_to_topic_keys              = f\"{output_directory_path}/mallet.topic_keys.{str(num_topics)}\"\n",
    "path_to_topic_distributions     = f\"{output_directory_path}/mallet.topic_distributions.{str(num_topics)}\""
   ]
  },
  {
   "cell_type": "markdown",
   "metadata": {},
   "source": [
    "### Train Topic Model"
   ]
  },
  {
   "cell_type": "markdown",
   "metadata": {},
   "source": [
    "Then we're going to train our topic model with `little_mallet_wrapper.quick_train_topic_model()`. "
   ]
  },
  {
   "cell_type": "code",
   "execution_count": 28,
   "metadata": {
    "scrolled": true,
    "tags": [
     "output_scroll"
    ]
   },
   "outputs": [
    {
     "name": "stdout",
     "output_type": "stream",
     "text": [
      "Importing data...\n",
      "Complete\n",
      "Training topic model...\n",
      "Complete\n"
     ]
    },
    {
     "data": {
      "text/plain": [
       "([['tom',\n",
       "   'alice',\n",
       "   'school',\n",
       "   'boys',\n",
       "   'east',\n",
       "   'half',\n",
       "   'oswald',\n",
       "   'one',\n",
       "   'arthur',\n",
       "   'two',\n",
       "   'old',\n",
       "   'doctor',\n",
       "   'noel',\n",
       "   'get',\n",
       "   'dicky',\n",
       "   'house',\n",
       "   'time',\n",
       "   'dora',\n",
       "   'away',\n",
       "   'uncle'],\n",
       "  ['diamond',\n",
       "   'griselda',\n",
       "   'cuckoo',\n",
       "   'said',\n",
       "   'little',\n",
       "   'wind',\n",
       "   'north',\n",
       "   'night',\n",
       "   'back',\n",
       "   'mowgli',\n",
       "   'away',\n",
       "   'head',\n",
       "   'mother',\n",
       "   'big',\n",
       "   'come',\n",
       "   'could',\n",
       "   'sea',\n",
       "   'people',\n",
       "   'till',\n",
       "   'father'],\n",
       "  ['said',\n",
       "   'one',\n",
       "   'would',\n",
       "   'little',\n",
       "   'like',\n",
       "   'could',\n",
       "   'good',\n",
       "   'see',\n",
       "   'know',\n",
       "   'well',\n",
       "   'old',\n",
       "   'never',\n",
       "   'came',\n",
       "   'went',\n",
       "   'think',\n",
       "   'much',\n",
       "   'thought',\n",
       "   'great',\n",
       "   'come',\n",
       "   'way'],\n",
       "  ['said',\n",
       "   'aunt',\n",
       "   'micawber',\n",
       "   'peggotty',\n",
       "   'mrs',\n",
       "   'miss',\n",
       "   'upon',\n",
       "   'dear',\n",
       "   'copperfield',\n",
       "   'traddles',\n",
       "   'dora',\n",
       "   'agnes',\n",
       "   'little',\n",
       "   'steerforth',\n",
       "   'hand',\n",
       "   'returned',\n",
       "   'time',\n",
       "   'murdstone',\n",
       "   'made',\n",
       "   'house'],\n",
       "  ['tom',\n",
       "   'upon',\n",
       "   'captain',\n",
       "   'silver',\n",
       "   'huck',\n",
       "   'man',\n",
       "   'joe',\n",
       "   'doctor',\n",
       "   'time',\n",
       "   'still',\n",
       "   'two',\n",
       "   'dead',\n",
       "   'ain',\n",
       "   'began',\n",
       "   'men',\n",
       "   'away',\n",
       "   'lay',\n",
       "   'boy',\n",
       "   'boys',\n",
       "   'ship']],\n",
       " [[2.0089132085302375e-05,\n",
       "   0.4916993959440625,\n",
       "   0.5081514923321727,\n",
       "   0.00010762338997174524,\n",
       "   2.1399201707778098e-05],\n",
       "  [0.4590320052286849,\n",
       "   0.00033983141519448884,\n",
       "   0.4737008977888558,\n",
       "   0.01712608469130362,\n",
       "   0.04980118087596122],\n",
       "  [0.28942861888621463,\n",
       "   0.003212585284381073,\n",
       "   0.706425494013476,\n",
       "   0.0006688704374420061,\n",
       "   0.0002644313784863278],\n",
       "  [0.003900762406870281,\n",
       "   0.0003678950859573237,\n",
       "   0.5070141936376595,\n",
       "   0.4765380251980238,\n",
       "   0.012179123671489156],\n",
       "  [0.020455481703806917,\n",
       "   0.027347311071528338,\n",
       "   0.5540220319179031,\n",
       "   0.36897160563724407,\n",
       "   0.02920356966951758],\n",
       "  [8.234767774701655e-05,\n",
       "   0.2952713505818616,\n",
       "   0.6955851673159905,\n",
       "   0.003967452199515414,\n",
       "   0.005093682224885451],\n",
       "  [0.0004641685434245819,\n",
       "   0.14588204516174938,\n",
       "   0.4689676657383145,\n",
       "   0.0269747819154332,\n",
       "   0.35771133864107835],\n",
       "  [0.03768349105474887,\n",
       "   0.0031438531475847095,\n",
       "   0.4513116841469628,\n",
       "   0.024820651346646263,\n",
       "   0.48304032030405736],\n",
       "  [1.079761279192262e-05,\n",
       "   0.31456408748802905,\n",
       "   0.6608740054523987,\n",
       "   0.024539607690850024,\n",
       "   1.15017559303065e-05],\n",
       "  [0.0057658036857140575,\n",
       "   1.1692704518750661e-05,\n",
       "   0.949367599599174,\n",
       "   7.006945312611677e-06,\n",
       "   0.04484789706528053],\n",
       "  [3.882090754842557e-05,\n",
       "   0.004747246612204216,\n",
       "   0.4652369536522675,\n",
       "   0.0069054178842487155,\n",
       "   0.5230715609437312],\n",
       "  [0.004791711536714302,\n",
       "   0.0009531624668156923,\n",
       "   0.9343904795975674,\n",
       "   0.04607058129818308,\n",
       "   0.013794065100719538],\n",
       "  [0.0036749263951545417,\n",
       "   0.3997868618239399,\n",
       "   0.5625957387111428,\n",
       "   0.0339106966956092,\n",
       "   3.1776374153615156e-05],\n",
       "  [0.0030126609188684352,\n",
       "   0.642259664078679,\n",
       "   0.3329326357800703,\n",
       "   7.263679837299801e-06,\n",
       "   0.02178777554254498],\n",
       "  [0.3396887565010852,\n",
       "   0.010884918135193853,\n",
       "   0.6461126054074805,\n",
       "   7.865897841433848e-06,\n",
       "   0.0033058540583990243],\n",
       "  [0.3889451650439106,\n",
       "   0.09933918366711422,\n",
       "   0.5108354851840371,\n",
       "   0.0003859038542074088,\n",
       "   0.0004942622507306374]])"
      ]
     },
     "execution_count": 28,
     "metadata": {},
     "output_type": "execute_result"
    }
   ],
   "source": [
    "little_mallet_wrapper.quick_train_topic_model(path_to_mallet,\n",
    "                                             output_directory_path,\n",
    "                                             num_topics,\n",
    "                                             training_data)"
   ]
  },
  {
   "cell_type": "markdown",
   "metadata": {},
   "source": [
    "## Display Topics and Top Words"
   ]
  },
  {
   "cell_type": "markdown",
   "metadata": {},
   "source": [
    "To examine the `num_topics` topics that the topic model extracted from our corpus we use the [`little_mallet_wrapper.load_topic_keys()`](https://github.com/maria-antoniak/little-mallet-wrapper#load_topic_keystopic_keys_path) function, reading and processing the output from the file in input."
   ]
  },
  {
   "cell_type": "code",
   "execution_count": 29,
   "metadata": {},
   "outputs": [
    {
     "name": "stdout",
     "output_type": "stream",
     "text": [
      "Topic: 0\n",
      "\n",
      "['tom', 'alice', 'school', 'boys', 'east', 'half', 'oswald', 'one', 'arthur', 'two', 'old', 'doctor', 'noel', 'get', 'dicky', 'house', 'time', 'dora', 'away', 'uncle']\n",
      "\n",
      "Topic: 1\n",
      "\n",
      "['diamond', 'griselda', 'cuckoo', 'said', 'little', 'wind', 'north', 'night', 'back', 'mowgli', 'away', 'head', 'mother', 'big', 'come', 'could', 'sea', 'people', 'till', 'father']\n",
      "\n",
      "Topic: 2\n",
      "\n",
      "['said', 'one', 'would', 'little', 'like', 'could', 'good', 'see', 'know', 'well', 'old', 'never', 'came', 'went', 'think', 'much', 'thought', 'great', 'come', 'way']\n",
      "\n",
      "Topic: 3\n",
      "\n",
      "['said', 'aunt', 'micawber', 'peggotty', 'mrs', 'miss', 'upon', 'dear', 'copperfield', 'traddles', 'dora', 'agnes', 'little', 'steerforth', 'hand', 'returned', 'time', 'murdstone', 'made', 'house']\n",
      "\n",
      "Topic: 4\n",
      "\n",
      "['tom', 'upon', 'captain', 'silver', 'huck', 'man', 'joe', 'doctor', 'time', 'still', 'two', 'dead', 'ain', 'began', 'men', 'away', 'lay', 'boy', 'boys', 'ship']\n",
      "\n"
     ]
    }
   ],
   "source": [
    "topics = little_mallet_wrapper.load_topic_keys(path_to_topic_keys)\n",
    "\n",
    "for topic_number, topic in enumerate(topics):\n",
    "    print(f\"Topic: {topic_number}\\n\\n{topic}\\n\")"
   ]
  },
  {
   "cell_type": "markdown",
   "metadata": {},
   "source": [
    "## Load Topic Distributions"
   ]
  },
  {
   "cell_type": "markdown",
   "metadata": {},
   "source": [
    "MALLET also calculates the probability distribution of these topics over every single document in the corpus, that is, the probability that each topic exists in a specified document. Therefore, we can use these probability distributions to examine how strongly the extracted topics are associated with a given document (book) in our corpus.\n",
    "\n",
    "To get the topic distributions, we're going to use the [`little_mallet_wrapper.load_topic_distributions()`](https://github.com/maria-antoniak/little-mallet-wrapper#load_topic_distributionstopic_distributions_path) function, which will read and process the MALLET topic model output (contained in the file whose path is stored in the `path_to_topic_distributions` variable) and return a list of the probability distributions of each topic over each document."
   ]
  },
  {
   "cell_type": "code",
   "execution_count": 30,
   "metadata": {},
   "outputs": [],
   "source": [
    "#store the probability distributions (list of lists) in a variable\n",
    "topic_distributions = little_mallet_wrapper.load_topic_distributions(path_to_topic_distributions)"
   ]
  },
  {
   "cell_type": "markdown",
   "metadata": {},
   "source": [
    "Of course, we can analyze the probability distribution of the topics over one specific book."
   ]
  },
  {
   "cell_type": "code",
   "execution_count": 31,
   "metadata": {
    "scrolled": true,
    "tags": [
     "output_scroll"
    ]
   },
   "outputs": [
    {
     "name": "stdout",
     "output_type": "stream",
     "text": [
      "Topic Distributions for 1865_carroll-alices-adventures-in-wonderland\n",
      "\n",
      "Topic 0 ['tom', 'alice', 'school', 'boys', 'east', 'half', 'oswald', 'one', 'arthur', 'two', 'old', 'doctor', 'noel', 'get', 'dicky', 'house', 'time', 'dora', 'away', 'uncle'] \n",
      "Probability: 0.289\n",
      "\n",
      "Topic 1 ['diamond', 'griselda', 'cuckoo', 'said', 'little', 'wind', 'north', 'night', 'back', 'mowgli', 'away', 'head', 'mother', 'big', 'come', 'could', 'sea', 'people', 'till', 'father'] \n",
      "Probability: 0.003\n",
      "\n",
      "Topic 2 ['said', 'one', 'would', 'little', 'like', 'could', 'good', 'see', 'know', 'well', 'old', 'never', 'came', 'went', 'think', 'much', 'thought', 'great', 'come', 'way'] \n",
      "Probability: 0.706\n",
      "\n",
      "Topic 3 ['said', 'aunt', 'micawber', 'peggotty', 'mrs', 'miss', 'upon', 'dear', 'copperfield', 'traddles', 'dora', 'agnes', 'little', 'steerforth', 'hand', 'returned', 'time', 'murdstone', 'made', 'house'] \n",
      "Probability: 0.001\n",
      "\n",
      "Topic 4 ['tom', 'upon', 'captain', 'silver', 'huck', 'man', 'joe', 'doctor', 'time', 'still', 'two', 'dead', 'ain', 'began', 'men', 'away', 'lay', 'boy', 'boys', 'ship'] \n",
      "Probability: 0.0\n",
      "\n"
     ]
    }
   ],
   "source": [
    "#specify the title/label of the desidered document in a variable\n",
    "book_to_check = \"1865_carroll-alices-adventures-in-wonderland\"\n",
    "#get document's index in the list and store it in a variable\n",
    "book_number = book_titles.index(book_to_check)\n",
    "\n",
    "print(f\"Topic Distributions for {book_titles[book_number]}\\n\")\n",
    "for topic_number, (topic, topic_distribution) in enumerate(zip(topics, topic_distributions[book_number])):\n",
    "    print(f\"Topic {topic_number} {topic} \\nProbability: {round(topic_distribution, 3)}\\n\")"
   ]
  },
  {
   "cell_type": "markdown",
   "metadata": {},
   "source": [
    "## Explore Heatmap of Topics and Texts"
   ]
  },
  {
   "cell_type": "markdown",
   "metadata": {},
   "source": [
    "We can visualize and compare these topic probability distributions with a heatmap by using the [`little_mallet_wrapper.plot_categories_by_topics_heatmap()`](https://github.com/maria-antoniak/little-mallet-wrapper#plot_categories_by_topics_heatmaplabels-topic_distributions-topic_keys-output_pathnone-target_labelsnone-dimnone) function.\n",
    "\n",
    "First, we only need to specify the `target_labels` parameter, telling the function which documents we'd like to be plotted in the graph. "
   ]
  },
  {
   "cell_type": "code",
   "execution_count": 32,
   "metadata": {},
   "outputs": [],
   "source": [
    "target_labels = ['1857_browne-grannys-wonderful-chair',\n",
    " '1857_hughes-tom-browns-school-days',\n",
    " '1865_carroll-alices-adventures-in-wonderland',\n",
    " '1869_dickens-david-copperfield',\n",
    " '1869_ewing-mrs-overtheways-remembrances',\n",
    " '1871_macdonald-at-the-back-of-the-north-wind',\n",
    " '1872_de-la-ramee-a-dog-of-flanders',\n",
    " '1876_twain-the-adventures-of-tom-sawyer',\n",
    " '1877_molesworth-the-cuckoo-clock',\n",
    " '1877_sewell-black-beauty',\n",
    " '1883_stevenson-treasure-island',\n",
    " '1886_hodgson-burnett-little-lord-fauntleroy',\n",
    " '1888_wilde-the-happy-prince-and-other-tales',\n",
    " '1894_kipling-the-jungle-book',\n",
    " '1899_nesbit-the-story-of-the-treasure-seekers',\n",
    " '1902_potter-the-tale-of-peter-rabbit']"
   ]
  },
  {
   "cell_type": "code",
   "execution_count": 33,
   "metadata": {},
   "outputs": [
    {
     "data": {
      "image/png": "[encoded data removed]",
      "text/plain": [
       "<Figure size 936x648 with 2 Axes>"
      ]
     },
     "metadata": {},
     "output_type": "display_data"
    }
   ],
   "source": [
    "little_mallet_wrapper.plot_categories_by_topics_heatmap(book_titles,\n",
    "                                      topic_distributions,\n",
    "                                      topics, \n",
    "                                      output_directory_path + '/categories_by_topics.pdf',\n",
    "                                      target_labels=target_labels,\n",
    "                                      dim= (13, 9)\n",
    "                                     )"
   ]
  },
  {
   "cell_type": "markdown",
   "metadata": {},
   "source": [
    "The darker squares in this heatmap represent a high probability for the corresponding topic (compared to everyone else in the heatmap) and the lighter squares in the heatmap represent a low probability for the corresponding topic."
   ]
  },
  {
   "cell_type": "markdown",
   "metadata": {},
   "source": [
    "## Display Top Titles Per Topic"
   ]
  },
  {
   "cell_type": "markdown",
   "metadata": {},
   "source": [
    "We can also display the obituaries that have the highest probability for every topic with the `little_mallet_wrapper.get_top_docs()` function.\n",
    "\n",
    "Because most of the obituaries in our corpus are pretty long, however, it will be more useful for us to simply display the title of each obituary, rather than the entire document—at least as a first step. To do so, we'll first need to make two dictionaries, which will allow us to find the corresponding obituary title and the original text from a given training document."
   ]
  },
  {
   "cell_type": "code",
   "execution_count": 34,
   "metadata": {},
   "outputs": [],
   "source": [
    "training_data_book_titles = dict(zip(training_data, book_titles))\n",
    "training_data_original_text = dict(zip(training_data, original_texts))"
   ]
  },
  {
   "cell_type": "markdown",
   "metadata": {},
   "source": [
    "Then we'll make our own function `display_top_titles_per_topic()` that will display the top text titles for every topic. This function accepts a given `topic_number` as well as a desired `number_of_documents` to display."
   ]
  },
  {
   "cell_type": "code",
   "execution_count": 35,
   "metadata": {},
   "outputs": [],
   "source": [
    "def display_top_titles_per_topic(topic_number=0, number_of_documents=5):\n",
    "    \n",
    "    print(f\"Topic {topic_number}\\n\\n{topics[topic_number]}\\n\")\n",
    "\n",
    "    for probability, document in little_mallet_wrapper.get_top_docs(training_data, topic_distributions, topic_number, n=number_of_documents):\n",
    "        print(round(probability, 4), training_data_book_titles[document] + \"\\n\")\n",
    "    return"
   ]
  },
  {
   "cell_type": "markdown",
   "metadata": {},
   "source": [
    "**Topic 0**"
   ]
  },
  {
   "cell_type": "markdown",
   "metadata": {},
   "source": [
    "To display the top 5 obituary titles with the highest probability of containing Topic 0, we will run:"
   ]
  },
  {
   "cell_type": "code",
   "execution_count": 36,
   "metadata": {},
   "outputs": [
    {
     "name": "stdout",
     "output_type": "stream",
     "text": [
      "Topic 0\n",
      "\n",
      "['tom', 'alice', 'school', 'boys', 'east', 'half', 'oswald', 'one', 'arthur', 'two', 'old', 'doctor', 'noel', 'get', 'dicky', 'house', 'time', 'dora', 'away', 'uncle']\n",
      "\n",
      "0.459 1857_hughes-tom-browns-school-days\n",
      "\n",
      "0.3889 1902_potter-the-tale-of-peter-rabbit\n",
      "\n",
      "0.3397 1899_nesbit-the-story-of-the-treasure-seekers\n",
      "\n",
      "0.2894 1865_carroll-alices-adventures-in-wonderland\n",
      "\n",
      "0.0377 1876_twain-the-adventures-of-tom-sawyer\n",
      "\n"
     ]
    }
   ],
   "source": [
    "display_top_titles_per_topic(topic_number=0, number_of_documents=5)"
   ]
  }
 ],
 "metadata": {
  "kernelspec": {
   "display_name": "Python 3.9.0 64-bit",
   "language": "python",
   "name": "python3"
  },
  "language_info": {
   "codemirror_mode": {
    "name": "ipython",
    "version": 3
   },
   "file_extension": ".py",
   "mimetype": "text/x-python",
   "name": "python",
   "nbconvert_exporter": "python",
   "pygments_lexer": "ipython3",
   "version": "3.9.0"
  },
  "vscode": {
   "interpreter": {
    "hash": "11938c6bc6919ae2720b4d5011047913343b08a43b18698fd82dedb0d4417594"
   }
  }
 },
 "nbformat": 4,
 "nbformat_minor": 4
}
