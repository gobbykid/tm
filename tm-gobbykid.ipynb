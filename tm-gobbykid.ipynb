{
 "cells": [
  {
   "cell_type": "markdown",
   "metadata": {},
   "source": [
    "# Topic Modeling"
   ]
  },
  {
   "cell_type": "markdown",
   "metadata": {},
   "source": [
    "In this notebook we analyze our corpus through **topic modelling**, a text analysis method that allows us to identify the topics within the texts. The main tool we have used is the [**Little MALLET Wrapper**](https://github.com/maria-antoniak/little-mallet-wrapper), a Python wrapper for [MALLET](http://mallet.cs.umass.edu/topics.php). Mallet is a software, originally developed in Java, that topic models texts using **[Latent Dirichlet Allocation](https://en.wikipedia.org/wiki/Latent_Dirichlet_allocation)** (**LDA**), a generative probabilistic model able to discover topics (i.e. set of words that, taken together, suggest a shared theme), and then automatically classify any individual document within the collection in terms of how \"relevant\" it is to each of the discovered topics. "
   ]
  },
  {
   "cell_type": "markdown",
   "metadata": {},
   "source": [
    "## Setup"
   ]
  },
  {
   "cell_type": "markdown",
   "metadata": {},
   "source": [
    "  \n",
    "Working in this Jupyter notebook requires having Java Development Kit and MALLET pre-installed. For set up instructions, we followed [Melanie Walsh's tutorial](http://melaniewalsh.github.io/Intro-Cultural-Analytics/Text-Analysis/Topic-Modeling-Set-Up.html)."
   ]
  },
  {
   "cell_type": "markdown",
   "metadata": {},
   "source": [
    "Once Java and MALLET are installed, we need to setup Little MALLET Wrapper and import some libraries: "
   ]
  },
  {
   "cell_type": "code",
   "execution_count": 86,
   "metadata": {},
   "outputs": [],
   "source": [
    "#specify the path to the Java-based MALLET software\n",
    "path_to_mallet = 'C:/mallet-2.0.8/bin/mallet'\n",
    "\n",
    "#install the Little MALLET Wrapper and the data visualization library Seaborn\n",
    "'''\n",
    "!pip install little_mallet_wrapper\n",
    "!pip install seaborn\n",
    "'''\n",
    "\n",
    "#import the above packages and libraries for working with files and the file system\n",
    "import little_mallet_wrapper\n",
    "import seaborn\n",
    "import glob\n",
    "from pathlib import Path"
   ]
  },
  {
   "cell_type": "markdown",
   "metadata": {},
   "source": [
    "## Get Training Data From Text Files"
   ]
  },
  {
   "cell_type": "markdown",
   "metadata": {},
   "source": [
    "Before we topic model the Gobby Kid project corpus, we need to process the text files and prepare them for analysis."
   ]
  },
  {
   "cell_type": "code",
   "execution_count": 87,
   "metadata": {},
   "outputs": [],
   "source": [
    "#assign to the \"directory\" variable the path to the directory containing our documents\n",
    "m_directory = \"C:/Users/media/Desktop/gobbykid/corpus/gobbykidCorpus/male-writers\"\n",
    "f_directory = \"C:/Users/media/Desktop/gobbykid/corpus/gobbykidCorpus/female-writers\"\n",
    "\n",
    "#use `glob.gob()` function to make a list of all the `.txt` files in that directory.\n",
    "m_files = glob.glob(f\"{m_directory}/*.txt\")\n",
    "f_files = glob.glob(f\"{f_directory}/*.txt\")"
   ]
  },
  {
   "cell_type": "code",
   "execution_count": 88,
   "metadata": {
    "scrolled": true,
    "tags": [
     "output_scroll",
     "hide-output"
    ]
   },
   "outputs": [
    {
     "name": "stdout",
     "output_type": "stream",
     "text": [
      "Male corpus: \n",
      " ['C:/Users/media/Desktop/gobbykid/corpus/gobbykidCorpus/male-writers\\\\1841_marryat-masterman-ready.txt', 'C:/Users/media/Desktop/gobbykid/corpus/gobbykidCorpus/male-writers\\\\1845_dickens-the-cricket-on-the-hearth-a-fairy-tale-of-home.txt', 'C:/Users/media/Desktop/gobbykid/corpus/gobbykidCorpus/male-writers\\\\1847_marryat-the-children-of-the-new-forest.txt', 'C:/Users/media/Desktop/gobbykid/corpus/gobbykidCorpus/male-writers\\\\1848_marryat-the-little-savage.txt', 'C:/Users/media/Desktop/gobbykid/corpus/gobbykidCorpus/male-writers\\\\1851_ruskin-the-king-of-the-golden-river.txt', 'C:/Users/media/Desktop/gobbykid/corpus/gobbykidCorpus/male-writers\\\\1857_ballantyne-the-coral-island-a-tale-of-the-pacific-ocean.txt', 'C:/Users/media/Desktop/gobbykid/corpus/gobbykidCorpus/male-writers\\\\1857_hughes-tom-browns-school-days.txt', 'C:/Users/media/Desktop/gobbykid/corpus/gobbykidCorpus/male-writers\\\\1862_farrar-st-winfreds-the-world-of-school.txt', 'C:/Users/media/Desktop/gobbykid/corpus/gobbykidCorpus/male-writers\\\\1863_kingsley-the-water-babies.txt', 'C:/Users/media/Desktop/gobbykid/corpus/gobbykidCorpus/male-writers\\\\1865_carroll-alices-adventures-in-wonderland.txt', 'C:/Users/media/Desktop/gobbykid/corpus/gobbykidCorpus/male-writers\\\\1869_dickens-david-copperfield.txt', 'C:/Users/media/Desktop/gobbykid/corpus/gobbykidCorpus/male-writers\\\\1870_hemyng-jack-harkaways-boy-tinker-among-the-turks.txt', 'C:/Users/media/Desktop/gobbykid/corpus/gobbykidCorpus/male-writers\\\\1871_macdonald-at-the-back-of-the-north-wind.txt', 'C:/Users/media/Desktop/gobbykid/corpus/gobbykidCorpus/male-writers\\\\1871_macdonald-ranald-bannermans-boyhood.txt', 'C:/Users/media/Desktop/gobbykid/corpus/gobbykidCorpus/male-writers\\\\1872_macdonald-the-princess-and-the-goblin.txt', 'C:/Users/media/Desktop/gobbykid/corpus/gobbykidCorpus/male-writers\\\\1873_macdonald-gutta-percha-willie-the-working-genius.txt', 'C:/Users/media/Desktop/gobbykid/corpus/gobbykidCorpus/male-writers\\\\1875_macdonald-a-double-story.txt', 'C:/Users/media/Desktop/gobbykid/corpus/gobbykidCorpus/male-writers\\\\1878_kingston-the-three-admirals.txt', 'C:/Users/media/Desktop/gobbykid/corpus/gobbykidCorpus/male-writers\\\\1879_hemyng-jack-harkaway-in-new-york.txt', 'C:/Users/media/Desktop/gobbykid/corpus/gobbykidCorpus/male-writers\\\\1879_hemyng-the-slave-of-the-mine.txt', 'C:/Users/media/Desktop/gobbykid/corpus/gobbykidCorpus/male-writers\\\\1880_ballantyne-post-haste.txt', 'C:/Users/media/Desktop/gobbykid/corpus/gobbykidCorpus/male-writers\\\\1880_ballantyne-the-crew-of-the-water-wagtail.txt', 'C:/Users/media/Desktop/gobbykid/corpus/gobbykidCorpus/male-writers\\\\1880_ballantyne-the-red-mans-revenge-a-tale-of-the-red-river-flood.txt', 'C:/Users/media/Desktop/gobbykid/corpus/gobbykidCorpus/male-writers\\\\1880_henty-for-the-temple.txt', 'C:/Users/media/Desktop/gobbykid/corpus/gobbykidCorpus/male-writers\\\\1880_henty-the-young-buglers.txt', 'C:/Users/media/Desktop/gobbykid/corpus/gobbykidCorpus/male-writers\\\\1881_ballantyne-my-doggie-and-i.txt', 'C:/Users/media/Desktop/gobbykid/corpus/gobbykidCorpus/male-writers\\\\1881_ballantyne-the-giant-of-the-north-pokings-round-the-pole.txt', 'C:/Users/media/Desktop/gobbykid/corpus/gobbykidCorpus/male-writers\\\\1881_henty-in-times-of-peril.txt', 'C:/Users/media/Desktop/gobbykid/corpus/gobbykidCorpus/male-writers\\\\1881_henty-the-cornet-of-horse.txt', 'C:/Users/media/Desktop/gobbykid/corpus/gobbykidCorpus/male-writers\\\\1881_reed-the-fifth-form-at-st-dominics.txt', 'C:/Users/media/Desktop/gobbykid/corpus/gobbykidCorpus/male-writers\\\\1882_ballantyne-the-battery-and-the-boiler.txt', 'C:/Users/media/Desktop/gobbykid/corpus/gobbykidCorpus/male-writers\\\\1882_ballantyne-the-life-of-a-ship.txt', 'C:/Users/media/Desktop/gobbykid/corpus/gobbykidCorpus/male-writers\\\\1882_henty-facing-death.txt', 'C:/Users/media/Desktop/gobbykid/corpus/gobbykidCorpus/male-writers\\\\1882_henty-winning-his-spurs.txt', 'C:/Users/media/Desktop/gobbykid/corpus/gobbykidCorpus/male-writers\\\\1882_jefferies-bevis-the-story-of-a-boy.txt', 'C:/Users/media/Desktop/gobbykid/corpus/gobbykidCorpus/male-writers\\\\1883_ballantyne-battles-with-the-sea.txt', 'C:/Users/media/Desktop/gobbykid/corpus/gobbykidCorpus/male-writers\\\\1883_ballantyne-the-thorogood-family.txt', 'C:/Users/media/Desktop/gobbykid/corpus/gobbykidCorpus/male-writers\\\\1883_fenn-middy-and-ensign.txt', 'C:/Users/media/Desktop/gobbykid/corpus/gobbykidCorpus/male-writers\\\\1883_fenn-nat-the-naturalist-a-boys-adventures-in-the-eastern-seas.txt', 'C:/Users/media/Desktop/gobbykid/corpus/gobbykidCorpus/male-writers\\\\1883_fenn-the-golden-magnet.txt', 'C:/Users/media/Desktop/gobbykid/corpus/gobbykidCorpus/male-writers\\\\1883_henty-friends-though-divided.txt', 'C:/Users/media/Desktop/gobbykid/corpus/gobbykidCorpus/male-writers\\\\1883_henty-jack-archer.txt', 'C:/Users/media/Desktop/gobbykid/corpus/gobbykidCorpus/male-writers\\\\1883_henty-under-drakes-flag.txt', 'C:/Users/media/Desktop/gobbykid/corpus/gobbykidCorpus/male-writers\\\\1883_kingston-adventures-in-africa.txt', 'C:/Users/media/Desktop/gobbykid/corpus/gobbykidCorpus/male-writers\\\\1883_macdonald-the-princess-and-curdie.txt', 'C:/Users/media/Desktop/gobbykid/corpus/gobbykidCorpus/male-writers\\\\1883_stevenson-treasure-island.txt', 'C:/Users/media/Desktop/gobbykid/corpus/gobbykidCorpus/male-writers\\\\1884_ballantyne-dusty-diamonds-cut-and-polished.txt', 'C:/Users/media/Desktop/gobbykid/corpus/gobbykidCorpus/male-writers\\\\1884_ballantyne-the-young-trawler.txt', 'C:/Users/media/Desktop/gobbykid/corpus/gobbykidCorpus/male-writers\\\\1884_fenn-bunyip-land.txt', 'C:/Users/media/Desktop/gobbykid/corpus/gobbykidCorpus/male-writers\\\\1884_fenn-the-silver-canyon.txt', 'C:/Users/media/Desktop/gobbykid/corpus/gobbykidCorpus/male-writers\\\\1884_fenn-through-forest-and-stream.txt', 'C:/Users/media/Desktop/gobbykid/corpus/gobbykidCorpus/male-writers\\\\1884_henty-by-sheer-pluck.txt', 'C:/Users/media/Desktop/gobbykid/corpus/gobbykidCorpus/male-writers\\\\1884_henty-st-george-for-england.txt', 'C:/Users/media/Desktop/gobbykid/corpus/gobbykidCorpus/male-writers\\\\1884_henty-with-clive-in-india.txt', 'C:/Users/media/Desktop/gobbykid/corpus/gobbykidCorpus/male-writers\\\\1885_ballantyne-the-island-queen.txt', 'C:/Users/media/Desktop/gobbykid/corpus/gobbykidCorpus/male-writers\\\\1885_ballantyne-the-rover-of-the-andes.txt', 'C:/Users/media/Desktop/gobbykid/corpus/gobbykidCorpus/male-writers\\\\1885_ballantyne-twice-bought.txt', 'C:/Users/media/Desktop/gobbykid/corpus/gobbykidCorpus/male-writers\\\\1885_fenn-menhardoc.txt', 'C:/Users/media/Desktop/gobbykid/corpus/gobbykidCorpus/male-writers\\\\1885_fenn-the-new-forest-spy.txt', 'C:/Users/media/Desktop/gobbykid/corpus/gobbykidCorpus/male-writers\\\\1885_henty-the-dragon-and-the-raven.txt', 'C:/Users/media/Desktop/gobbykid/corpus/gobbykidCorpus/male-writers\\\\1885_henty-the-young-colonists.txt', 'C:/Users/media/Desktop/gobbykid/corpus/gobbykidCorpus/male-writers\\\\1885_kingston-adventures-in-australia.txt', 'C:/Users/media/Desktop/gobbykid/corpus/gobbykidCorpus/male-writers\\\\1885_reed-follow-my-leader.txt', 'C:/Users/media/Desktop/gobbykid/corpus/gobbykidCorpus/male-writers\\\\1885_reed-reginald-cruden.txt', 'C:/Users/media/Desktop/gobbykid/corpus/gobbykidCorpus/male-writers\\\\1886_ballantyne-red-rooney-the-last-of-the-crew.txt', 'C:/Users/media/Desktop/gobbykid/corpus/gobbykidCorpus/male-writers\\\\1886_ballantyne-the-lively-poll.txt', 'C:/Users/media/Desktop/gobbykid/corpus/gobbykidCorpus/male-writers\\\\1886_ballantyne-the-prairie-chief.txt', 'C:/Users/media/Desktop/gobbykid/corpus/gobbykidCorpus/male-writers\\\\1886_fenn-brown-smiths-boy.txt', 'C:/Users/media/Desktop/gobbykid/corpus/gobbykidCorpus/male-writers\\\\1886_fenn-patience-wins.txt', 'C:/Users/media/Desktop/gobbykid/corpus/gobbykidCorpus/male-writers\\\\1886_fenn-son-phillip.txt', 'C:/Users/media/Desktop/gobbykid/corpus/gobbykidCorpus/male-writers\\\\1886_henty-for-name-and-fame.txt', 'C:/Users/media/Desktop/gobbykid/corpus/gobbykidCorpus/male-writers\\\\1886_henty-orange-and-green.txt', 'C:/Users/media/Desktop/gobbykid/corpus/gobbykidCorpus/male-writers\\\\1886_henty-the-bravest-of-the-brave.txt', 'C:/Users/media/Desktop/gobbykid/corpus/gobbykidCorpus/male-writers\\\\1886_henty-the-lion-of-the-north.txt', 'C:/Users/media/Desktop/gobbykid/corpus/gobbykidCorpus/male-writers\\\\1886_henty-through-the-fray.txt', 'C:/Users/media/Desktop/gobbykid/corpus/gobbykidCorpus/male-writers\\\\1886_henty-within-the-enemy-lines.txt', 'C:/Users/media/Desktop/gobbykid/corpus/gobbykidCorpus/male-writers\\\\1886_stevenson-kidnapped.txt', 'C:/Users/media/Desktop/gobbykid/corpus/gobbykidCorpus/male-writers\\\\1887_ballantyne-the-bigotter.txt', 'C:/Users/media/Desktop/gobbykid/corpus/gobbykidCorpus/male-writers\\\\1887_ballantyne-the-fugitives-the-tyrant-queen-of-madagascar.txt', 'C:/Users/media/Desktop/gobbykid/corpus/gobbykidCorpus/male-writers\\\\1887_fenn-the-bag-of-diamonds.txt', 'C:/Users/media/Desktop/gobbykid/corpus/gobbykidCorpus/male-writers\\\\1887_fenn-the-devon-boys.txt', 'C:/Users/media/Desktop/gobbykid/corpus/gobbykidCorpus/male-writers\\\\1887_henty-a-final-reckoning.txt', 'C:/Users/media/Desktop/gobbykid/corpus/gobbykidCorpus/male-writers\\\\1887_henty-bonnie-prince-charlie.txt', 'C:/Users/media/Desktop/gobbykid/corpus/gobbykidCorpus/male-writers\\\\1887_henty-the-young-carthaginian.txt', 'C:/Users/media/Desktop/gobbykid/corpus/gobbykidCorpus/male-writers\\\\1887_reed-the-master-of-the-shell.txt', 'C:/Users/media/Desktop/gobbykid/corpus/gobbykidCorpus/male-writers\\\\1887_reed-the-willoughby-captains.txt', 'C:/Users/media/Desktop/gobbykid/corpus/gobbykidCorpus/male-writers\\\\1888_ballantyne-blue-lights-hot-work-in-the-soudan.txt', 'C:/Users/media/Desktop/gobbykid/corpus/gobbykidCorpus/male-writers\\\\1888_ballantyne-the-middy-and-the-moors.txt', 'C:/Users/media/Desktop/gobbykid/corpus/gobbykidCorpus/male-writers\\\\1888_fenn-dick-o-the-fens.txt', 'C:/Users/media/Desktop/gobbykid/corpus/gobbykidCorpus/male-writers\\\\1888_fenn-mother-careys-chickens.txt', 'C:/Users/media/Desktop/gobbykid/corpus/gobbykidCorpus/male-writers\\\\1888_henty-sturdy-and-strong.txt', 'C:/Users/media/Desktop/gobbykid/corpus/gobbykidCorpus/male-writers\\\\1888_henty-the-cat-of-bubastes.txt', 'C:/Users/media/Desktop/gobbykid/corpus/gobbykidCorpus/male-writers\\\\1888_in-the-reign-of-terror.txt', 'C:/Users/media/Desktop/gobbykid/corpus/gobbykidCorpus/male-writers\\\\1888_lang-the-gold-of-fairnilee.txt', 'C:/Users/media/Desktop/gobbykid/corpus/gobbykidCorpus/male-writers\\\\1888_macdonald-a-rough-shaking.txt', 'C:/Users/media/Desktop/gobbykid/corpus/gobbykidCorpus/male-writers\\\\1888_wilde-the-happy-prince-and-other-tales.txt', 'C:/Users/media/Desktop/gobbykid/corpus/gobbykidCorpus/male-writers\\\\1889_ballantyne-blown-to-bits-or-the-lonely-man-of-rakata.txt', 'C:/Users/media/Desktop/gobbykid/corpus/gobbykidCorpus/male-writers\\\\1889_fenn-crown-and-sceptre.txt', 'C:/Users/media/Desktop/gobbykid/corpus/gobbykidCorpus/male-writers\\\\1889_fenn-quicksilver.txt', 'C:/Users/media/Desktop/gobbykid/corpus/gobbykidCorpus/male-writers\\\\1889_fenn-three-boys.txt', 'C:/Users/media/Desktop/gobbykid/corpus/gobbykidCorpus/male-writers\\\\1889_henty-captain-bayleys-heir.txt', 'C:/Users/media/Desktop/gobbykid/corpus/gobbykidCorpus/male-writers\\\\1889_henty-the-curse-of-carnes-hold.txt', 'C:/Users/media/Desktop/gobbykid/corpus/gobbykidCorpus/male-writers\\\\1889_henty-the-lion-of-st-mark.txt', 'C:/Users/media/Desktop/gobbykid/corpus/gobbykidCorpus/male-writers\\\\1889_lang-prince-prigio.txt', 'C:/Users/media/Desktop/gobbykid/corpus/gobbykidCorpus/male-writers\\\\1889_reed-my-friend-smith.txt', 'C:/Users/media/Desktop/gobbykid/corpus/gobbykidCorpus/male-writers\\\\1889_reed-sir-ludar.txt', 'C:/Users/media/Desktop/gobbykid/corpus/gobbykidCorpus/male-writers\\\\1890_ballantyne-the-eagle-cliff.txt', 'C:/Users/media/Desktop/gobbykid/corpus/gobbykidCorpus/male-writers\\\\1894_kipling-the-jungle-book.txt', 'C:/Users/media/Desktop/gobbykid/corpus/gobbykidCorpus/male-writers\\\\1894_reed-a-dog-with-a-bad-name.txt', 'C:/Users/media/Desktop/gobbykid/corpus/gobbykidCorpus/male-writers\\\\1899_kipling-rewards-and-fairies.txt', 'C:/Users/media/Desktop/gobbykid/corpus/gobbykidCorpus/male-writers\\\\190x_hemyng-jack-harkaway-and-his-sons-escape-from-the-brigands-of-greece.txt']\n",
      "Female corpus: \n",
      " ['C:/Users/media/Desktop/gobbykid/corpus/gobbykidCorpus/female-writers\\\\1839_sinclair-holiday-house-a-series-of-tales.txt', 'C:/Users/media/Desktop/gobbykid/corpus/gobbykidCorpus/female-writers\\\\1841_martineau-the-settlers-at-home.txt', 'C:/Users/media/Desktop/gobbykid/corpus/gobbykidCorpus/female-writers\\\\1857_browne-grannys-wonderful-chair.txt', 'C:/Users/media/Desktop/gobbykid/corpus/gobbykidCorpus/female-writers\\\\1857_tucker-the-rambles-of-a-rat.txt', 'C:/Users/media/Desktop/gobbykid/corpus/gobbykidCorpus/female-writers\\\\1862_ewing-melchiors-dream-and-other-tales.txt', 'C:/Users/media/Desktop/gobbykid/corpus/gobbykidCorpus/female-writers\\\\1869_ewing-mrs-overtheways-remembrances.txt', 'C:/Users/media/Desktop/gobbykid/corpus/gobbykidCorpus/female-writers\\\\1869_ewing-the-land-of-lost-toys.txt', 'C:/Users/media/Desktop/gobbykid/corpus/gobbykidCorpus/female-writers\\\\1870_ewing-the-brownies-and-other-tales.txt', 'C:/Users/media/Desktop/gobbykid/corpus/gobbykidCorpus/female-writers\\\\1872_craik-the-adventure-of-a-brownie.txt', 'C:/Users/media/Desktop/gobbykid/corpus/gobbykidCorpus/female-writers\\\\1872_de-la-ramee-a-dog-of-flanders.txt', 'C:/Users/media/Desktop/gobbykid/corpus/gobbykidCorpus/female-writers\\\\1872_delaramee-a-dog-of-flanders.txt', 'C:/Users/media/Desktop/gobbykid/corpus/gobbykidCorpus/female-writers\\\\1873_ewing-a-flat-iron-for-a-farthing.txt', 'C:/Users/media/Desktop/gobbykid/corpus/gobbykidCorpus/female-writers\\\\1875_craik-the-little-lame-prince-and-his-traveling-cloack.txt', 'C:/Users/media/Desktop/gobbykid/corpus/gobbykidCorpus/female-writers\\\\1876_ewing-jan-of-the-windmill.txt', 'C:/Users/media/Desktop/gobbykid/corpus/gobbykidCorpus/female-writers\\\\1876_ewing-six-to-sixteen-a-story-for-girls.txt', 'C:/Users/media/Desktop/gobbykid/corpus/gobbykidCorpus/female-writers\\\\1877_ewing-a-great-emergency-and-other-tales.txt', 'C:/Users/media/Desktop/gobbykid/corpus/gobbykidCorpus/female-writers\\\\1877_molesworth-the-cuckoo-clock.txt', 'C:/Users/media/Desktop/gobbykid/corpus/gobbykidCorpus/female-writers\\\\1877_sewell-black-beauty.txt', 'C:/Users/media/Desktop/gobbykid/corpus/gobbykidCorpus/female-writers\\\\1879_ewing-jackanapes-daddy-darwins-dovecot-and-other-stories.txt', 'C:/Users/media/Desktop/gobbykid/corpus/gobbykidCorpus/female-writers\\\\1880_burnett-louisiana.txt', 'C:/Users/media/Desktop/gobbykid/corpus/gobbykidCorpus/female-writers\\\\1882_delaramee-bimbi.txt', 'C:/Users/media/Desktop/gobbykid/corpus/gobbykidCorpus/female-writers\\\\1882_ewing-brothers-of-pity-and-other-tales-of-beasts-and-men.txt', 'C:/Users/media/Desktop/gobbykid/corpus/gobbykidCorpus/female-writers\\\\1883_meade-the-childrens-pilgrimage.txt', 'C:/Users/media/Desktop/gobbykid/corpus/gobbykidCorpus/female-writers\\\\1886_delaramee-a-houseparty.txt', 'C:/Users/media/Desktop/gobbykid/corpus/gobbykidCorpus/female-writers\\\\1886_hodgson-burnett-little-lord-fauntleroy.txt', 'C:/Users/media/Desktop/gobbykid/corpus/gobbykidCorpus/female-writers\\\\1886_leslie-a-sailors-lass.txt', 'C:/Users/media/Desktop/gobbykid/corpus/gobbykidCorpus/female-writers\\\\1886_meade-a-world-of-girls.txt', 'C:/Users/media/Desktop/gobbykid/corpus/gobbykidCorpus/female-writers\\\\1887_leslie-kates-ordeal.txt', 'C:/Users/media/Desktop/gobbykid/corpus/gobbykidCorpus/female-writers\\\\1887_meade-the-palace-beautiful.txt', 'C:/Users/media/Desktop/gobbykid/corpus/gobbykidCorpus/female-writers\\\\1887_molesworth-four-winds-farm.txt', 'C:/Users/media/Desktop/gobbykid/corpus/gobbykidCorpus/female-writers\\\\1888_burnett-sara-crewe.txt', 'C:/Users/media/Desktop/gobbykid/corpus/gobbykidCorpus/female-writers\\\\1888_ewing-snap-dragons-old-father-christmas.txt', 'C:/Users/media/Desktop/gobbykid/corpus/gobbykidCorpus/female-writers\\\\1888_meade-the-little-princess-of-towerhill.txt', 'C:/Users/media/Desktop/gobbykid/corpus/gobbykidCorpus/female-writers\\\\1889_meade-polly-a-new-fashioned-girl.txt', 'C:/Users/media/Desktop/gobbykid/corpus/gobbykidCorpus/female-writers\\\\1889_tytler-a-house-full-of-girls.txt', 'C:/Users/media/Desktop/gobbykid/corpus/gobbykidCorpus/female-writers\\\\1899_nesbit-the-story-of-the-treasure-seekers.txt', 'C:/Users/media/Desktop/gobbykid/corpus/gobbykidCorpus/female-writers\\\\1911_burnett-the-secret-garden.txt']\n"
     ]
    }
   ],
   "source": [
    "print(f\"Male corpus: \\n\", m_files)\n",
    "print(f\"Female corpus: \\n\", f_files)"
   ]
  },
  {
   "cell_type": "markdown",
   "metadata": {},
   "source": [
    "## Process Texts and files"
   ]
  },
  {
   "cell_type": "markdown",
   "metadata": {},
   "source": [
    "Next we process our texts with the function `little_mallet_wrapper.process_string()`, which takes every individual text file, transform all the text to lowercase, removes stopwords, punctuation, and numbers. We add the processed text to our master list `training_data`, i.e. the data we will use to train our LDA topic model."
   ]
  },
  {
   "cell_type": "markdown",
   "metadata": {},
   "source": [
    "#### Stop words\n",
    "The default list of stop words in `little_mallet_wrapper` is quite limited. We want to extend it in order to get **more meaningful words** in our topics, i.e. we want to leave out of our model not only grammatical words, but also extremely common words like \"said\" or \"think\". Moreover, we expect characters' names to be highly weighting in the training phase, but not particularly relevant to get an overview of the common themes in the dataset: we want to exclude from the results also the characters' names we have previously extracted."
   ]
  },
  {
   "cell_type": "code",
   "execution_count": 89,
   "metadata": {},
   "outputs": [],
   "source": [
    "#import LMW stop words list (stored in the variable \"STOPS\"), in order to extend it\n",
    "from little_mallet_wrapper.little_mallet_wrapper import STOPS as lmw_stopwords #!important: import from little_mallet_wrapper.little_mallet_wrapper, otherwise it will look for STOPS inside __init__.py (inside little_mallet_wrapper) and it will not find it!\n",
    "\n",
    "#print(\"Default stop words in lmw: \", lmw_stopwords)\n"
   ]
  },
  {
   "cell_type": "markdown",
   "metadata": {},
   "source": [
    "##### Most common words\n",
    "First, let's calculate the most common words in our corpus. We will tokenize the texts at word level and join all their words in one list; then we'll extract the **frequency distribution** of each word in the dataset using `nltk`.\n",
    "Finally, we can examine manually if, amongst the most common ones, there is any word we don't want to be included in our model. "
   ]
  },
  {
   "cell_type": "code",
   "execution_count": 90,
   "metadata": {},
   "outputs": [
    {
     "data": {
      "text/plain": [
       "'\\n\\n\\nimport nltk\\nfrom tqdm import tqdm\\ndataset_words = [] #initialize a list to contain all the words in the whole dataset\\nfor file in tqdm(m_files + f_files): #tqdm just displays a progress bar\\n    file_text = open(file, encoding=\\'utf-8\\').read()\\n    file_words = nltk.tokenize.word_tokenize(file_text) #texts are segmented in words\\n    dataset_words.extend(file_words) \\n    \\nallWordDist = nltk.FreqDist(w.lower() for w in dataset_words) #frequency ditribution of each word in the dataset (FreqDist object) \\n\\nk = 400 #set k to the number of words you want retrieved from the frequency distribution\\nmost_common_words = [item[0] for item in allWordDist.most_common(k)] #create a list with all the k most common words in the whole corpus. allWordDist.most_common() returns a list of tuples of the form: (\"word\", frequency)\\n\\n#print(f\"These are the {k} most frequent words: \", most_common_words)\\n\\n\\n'"
      ]
     },
     "execution_count": 90,
     "metadata": {},
     "output_type": "execute_result"
    }
   ],
   "source": [
    "\"\"\"\n",
    "\n",
    "\n",
    "import nltk\n",
    "from tqdm import tqdm\n",
    "dataset_words = [] #initialize a list to contain all the words in the whole dataset\n",
    "for file in tqdm(m_files + f_files): #tqdm just displays a progress bar\n",
    "    file_text = open(file, encoding='utf-8').read()\n",
    "    file_words = nltk.tokenize.word_tokenize(file_text) #texts are segmented in words\n",
    "    dataset_words.extend(file_words) \n",
    "    \n",
    "allWordDist = nltk.FreqDist(w.lower() for w in dataset_words) #frequency ditribution of each word in the dataset (FreqDist object) \n",
    "\n",
    "k = 400 #set k to the number of words you want retrieved from the frequency distribution\n",
    "most_common_words = [item[0] for item in allWordDist.most_common(k)] #create a list with all the k most common words in the whole corpus. allWordDist.most_common() returns a list of tuples of the form: (\"word\", frequency)\n",
    "\n",
    "#print(f\"These are the {k} most frequent words: \", most_common_words)\n",
    "\n",
    "\n",
    "\"\"\""
   ]
  },
  {
   "cell_type": "markdown",
   "metadata": {},
   "source": [
    "After a manual analysis of the most common words, we decide to add some of them to the stop words list, particularly the ones carrying \"less meaning\", such as words representing *basic* actions which might be very common in the narration (such as \"went\" or \"came\"), or related to the presence of dialogues (e.g. \"said\", \"called\", \"asked\"...). \n",
    "\n",
    "Then, we add to the words to ignore the characters' names we [previously extracted](#link alla sezione della NER)."
   ]
  },
  {
   "cell_type": "markdown",
   "metadata": {},
   "source": [
    "<p align=\"center\" style=\"color:red; font-weight:bold\">\n",
    "Qui sotto importo il file in cui è salvata una LISTA contenente tutti i nomi COMPLETI dei personaggi (entrambi i corpora insieme). Questi nomi vengono poi processati più sotto da `get_characters_names`, che li divide e crea una nuova lista, `characters_names`, che contiene i nomi completi ma anche le singole parti (es. solo nome o solo cognome). <u>Se possibile, questa parte sarebbe meglio modificarla, alla fine,</u> per fare in modo che non si ripetano passaggi che il codice di Tommaso eventualmente fa già,  o in ogni caso per non ricorrere ad altri file esterni al jupyter notebook unico. Cioè quando avremo messo tutto quanto su un unico jupyter notebook, è il caso che modifichiamo la parte qui sotto e introduciamo i seguenti passaggi:\n",
    "* richiamiamo direttamente la variabile in cui è salvato l'output delle funzioni che ha fatto Tommaso per estrarre le NER, e la trasformiamo in una *unica* lista con tutti i nomi dei personaggi, da entrambi i corpora indivisi\n",
    "* passiamo questa lista in input a `get_characters_names`, che divide le stringhe\n",
    "* aggiungiamo la lista output di `get_characters_names` alla lista di stopwords per il pre-processing\n",
    "</p>"
   ]
  },
  {
   "cell_type": "code",
   "execution_count": 91,
   "metadata": {},
   "outputs": [],
   "source": [
    "import pickle\n",
    "\n",
    "with open('C:/Users/media/Desktop/gobbykid/tm/all_characters_file.txt', 'rb') as f:  #change the path to the location where the result of run.py is stored\n",
    "    retrieved_characters = pickle.load(f) #retrieves the variable from the specified file, in which all the characters' FULL names are stored in a list"
   ]
  },
  {
   "cell_type": "code",
   "execution_count": 92,
   "metadata": {},
   "outputs": [],
   "source": [
    "def get_characters_names (input_list):\n",
    "    # empty honorifics list if you don't want to include in the model character-related words\n",
    "    honorifics = []\n",
    "    #honorifics = [\"mr\",\"master\",\"mrs\",\"miss\",\"lady\",\"sir\",\"dame\",\"lord\",\"sister\",\"mother\",\"aunt\",\"uncle\",\"doctor\",\"captain\",\"father\",\"count\",\"professor\",\"major\",\"little\",\"big\",\"old\",\"king\",\"don\",\"dr\",\"queen\",\"boy\",\"girl\",\"green\",\"black\",\"grey\",\"gray\",\"golden\",\"silver\",\"blue\", \"long\"]\n",
    "    output_set = set()\n",
    "    #add to the previous list also the first names and last names taken by themselves (eg both \"john smith\" and \"john\" get in the list), excluding all the words in \"honorifics\"\n",
    "    for item in input_list:\n",
    "        if \" \" in item:\n",
    "            minilist = item.split()\n",
    "            for w in minilist:\n",
    "                if w not in honorifics:\n",
    "                    output_set.add(w)\n",
    "        else:\n",
    "            output_set.add(item)\n",
    "    \n",
    "    output_list = sorted(output_set) #convert the set to a list\n",
    "    return output_list"
   ]
  },
  {
   "cell_type": "code",
   "execution_count": 93,
   "metadata": {},
   "outputs": [],
   "source": [
    "custom_stopwords = lmw_stopwords #initialize final list of custom stop words as containing the default stop words of lmw\n",
    "\n",
    "more_stopwords = [\"one\",\"two\",\"ones\",\"say\",\"says\",\"said\",\"think\",\"thinks\",\"thought\",\"thing\",\"things\",\"go\",\"goes\",\"went\",\"come\",\"comes\",\"came\",\"coming\",\"much\",\"get\",\"gets\",\"got\",\"ask\",\"asks\",\"asked\",\"didn\",\"would\",\"could\",\"three\",\"other\",\"another\",\"until\",\"till\",\"upon\",\"shall\",\"make\",\"made\",\"might\",\"must\",\"going\",\"way\", \"thou\", \"thee\", \"seems\", \"seem\", \"seemed\", \"never\", \"tell\", \"told\", \"tells\", \"wouldn\", \"tha\", \"like\", \"however\",\"let\",\"rather\",\"yes\", \"no\",\"little\", \"old\", \"well\", \"always\", \"never\", \"time\", \"long\", \"see\", \"saw\", \"sees\"]\n",
    "\n",
    "# list of gender-related words to remove\n",
    "gendered_stopwords = ['guy','dr','spokesman','chairman',\"men's\",'men','boy',\n",
    "'boys','brother','brothers','dad','dads','dude','father',\n",
    "'fathers','gentleman','gentlemen','god','grandfather','grandpa',\n",
    "'grandson','groom','he','himself','his','husband','pastor','husbands','king','male','man',\n",
    "'mr','nephew','nephews','priest','prince','son','sons','uncle','uncles',\n",
    "'waiter','widower','widowers','lord','master',\"mrs\",\"miss\",\"lady\",\"sir\",\"dame\",\"lord\",\"sister\",\"mother\",\"aunt\",\"uncle\",\"doctor\",\"father\",\"count\",\"professor\", 'heroine','drss','spokeswoman','chairwoman',\"women's\",'actress','women',\"she's\",'her','aunt','aunts','bride','daughter','daughters','female','fiancee','girl',\n",
    "'girls','goddess','granddaughter','grandma','grandmother',\n",
    "'herself','ladies','lady','mom','moms','mother','mothers','mrs','ms','niece',\n",
    "'nieces','priestess','princess','queens','sister','sisters','waitress',\n",
    "'widow','widows','wife','wives','woman','lady','mistress','queen']\n",
    "\n",
    "characters_names = get_characters_names(retrieved_characters) #the function returns a list of strings that are (part of) a character's name\n",
    "\n",
    "custom_stopwords.extend(more_stopwords)\n",
    "custom_stopwords.extend(characters_names)\n",
    "#removes words like \"mr\", \"mrs\", \"mother\", \"father\", etc.\n",
    "custom_stopwords.extend(gendered_stopwords) "
   ]
  },
  {
   "cell_type": "markdown",
   "metadata": {},
   "source": [
    "#### Pre-process\n",
    "Now that the custom stop words list is ready, we can finally pre-process our documents."
   ]
  },
  {
   "cell_type": "code",
   "execution_count": 94,
   "metadata": {},
   "outputs": [
    {
     "name": "stderr",
     "output_type": "stream",
     "text": [
      "100%|██████████| 111/111 [1:06:36<00:00, 36.01s/it]\n",
      "100%|██████████| 37/37 [12:47<00:00, 20.74s/it]\n"
     ]
    }
   ],
   "source": [
    "\n",
    "\n",
    "from tqdm import tqdm\n",
    "#initialize training_data as empty\n",
    "from encodings.utf_8 import decode\n",
    "\n",
    "\n",
    "m_training_data = []\n",
    "f_training_data = []\n",
    "\n",
    "#process each file and add it to the training_data list\n",
    "for file in tqdm(m_files):\n",
    "    text = open(file, encoding='utf-8').read() \n",
    "    processed_text = little_mallet_wrapper.process_string(text, numbers='remove', stop_words=custom_stopwords, remove_stop_words=True, stop_words_extra=custom_stopwords)\n",
    "    m_training_data.append(processed_text)\n",
    "\n",
    "for file in tqdm(f_files):\n",
    "    text = open(file, encoding='utf-8').read()\n",
    "    processed_text = little_mallet_wrapper.process_string(text, numbers='remove', stop_words=custom_stopwords, remove_stop_words=True, stop_words_extra=custom_stopwords)\n",
    "    f_training_data.append(processed_text)\n",
    "\n"
   ]
  },
  {
   "cell_type": "markdown",
   "metadata": {},
   "source": [
    "Given that processing the texts is a time-consuming operation and we might want to train our model several times in order to chose the best parameters, we can optionally store the output of the text processing in files of choice, so as to be able to retrieve the ready-to-use texts directly, i.e. skipping the processing phase, the next time we use this program."
   ]
  },
  {
   "cell_type": "code",
   "execution_count": 95,
   "metadata": {},
   "outputs": [
    {
     "data": {
      "text/plain": [
       "'\\n\\n#re-create the training data variable from saved files\\n\\n#MALE CORPUS\\nm_training_data = []\\nm_processed_files_paths = glob.glob(\"m_preprocess/*.txt\") #creates a list with the file paths of the processed texts\\nfor processed_text in m_processed_files_paths:\\n    ready_text = open(processed_text).read()\\n    m_training_data.append(ready_text)\\n\\n#FEMALE CORPUS\\nf_training_data = []\\nf_processed_files_paths = glob.glob(\"f_preprocess/*.txt\") #creates a list with the file paths of the processed texts\\nfor processed_text in f_processed_files_paths:\\n    ready_text = open(processed_text).read()\\n    f_training_data.append(ready_text)\\n\\n\\n'"
      ]
     },
     "execution_count": 95,
     "metadata": {},
     "output_type": "execute_result"
    }
   ],
   "source": [
    "\n",
    "# stores processed texts in specific files\n",
    "\n",
    "#MALE CORPUS\n",
    "m_pointer = 0\n",
    "for processed_book in m_training_data:\n",
    "    booktitle= Path(m_files[m_pointer]).stem\n",
    "    with open(f\"m_preprocess/Processed_{booktitle}.txt\", 'w') as f:\n",
    "        f.write(processed_book)\n",
    "        m_pointer+=1\n",
    "\n",
    "\n",
    "#FEMALE CORPUS\n",
    "f_pointer = 0\n",
    "for processed_book in f_training_data:\n",
    "    booktitle= Path(f_files[f_pointer]).stem\n",
    "    with open(f\"f_preprocess/Processed_{booktitle}.txt\", 'w') as f:\n",
    "        f.write(processed_book)\n",
    "        f_pointer+=1\n",
    "\n",
    "\"\"\"\n",
    "\n",
    "#re-create the training data variable from saved files\n",
    "\n",
    "#MALE CORPUS\n",
    "m_training_data = []\n",
    "m_processed_files_paths = glob.glob(\"m_preprocess/*.txt\") #creates a list with the file paths of the processed texts\n",
    "for processed_text in m_processed_files_paths:\n",
    "    ready_text = open(processed_text).read()\n",
    "    m_training_data.append(ready_text)\n",
    "\n",
    "#FEMALE CORPUS\n",
    "f_training_data = []\n",
    "f_processed_files_paths = glob.glob(\"f_preprocess/*.txt\") #creates a list with the file paths of the processed texts\n",
    "for processed_text in f_processed_files_paths:\n",
    "    ready_text = open(processed_text).read()\n",
    "    f_training_data.append(ready_text)\n",
    "\n",
    "\n",
    "\"\"\""
   ]
  },
  {
   "cell_type": "markdown",
   "metadata": {},
   "source": [
    "We're also making a master list of the original text of the novels for future reference."
   ]
  },
  {
   "cell_type": "code",
   "execution_count": 96,
   "metadata": {},
   "outputs": [],
   "source": [
    "m_original_texts = []\n",
    "for file in m_files:\n",
    "    text = open(file, encoding='utf-8').read()\n",
    "    m_original_texts.append(text)\n",
    "\n",
    "f_original_texts = []\n",
    "for file in f_files:\n",
    "    text = open(file, encoding='utf-8').read()\n",
    "    f_original_texts.append(text)"
   ]
  },
  {
   "cell_type": "markdown",
   "metadata": {},
   "source": [
    "## Process Titles"
   ]
  },
  {
   "cell_type": "markdown",
   "metadata": {},
   "source": [
    "We use the [`Path().stem`](https://docs.python.org/3/library/pathlib.html#pathlib.PurePath.stem) function to extract just the last part of the file path without the \".txt\" file extension, and save the file name (formatted as *year of publication* + *author's last name* + *book's title*) as title for each document."
   ]
  },
  {
   "cell_type": "code",
   "execution_count": 97,
   "metadata": {},
   "outputs": [],
   "source": [
    "m_book_titles = [Path(file).stem for file in m_files]\n",
    "f_book_titles = [Path(file).stem for file in f_files]"
   ]
  },
  {
   "cell_type": "code",
   "execution_count": 98,
   "metadata": {
    "scrolled": true,
    "tags": [
     "output_scroll",
     "hide-output"
    ]
   },
   "outputs": [
    {
     "data": {
      "text/plain": [
       "['1841_marryat-masterman-ready',\n",
       " '1845_dickens-the-cricket-on-the-hearth-a-fairy-tale-of-home',\n",
       " '1847_marryat-the-children-of-the-new-forest',\n",
       " '1848_marryat-the-little-savage',\n",
       " '1851_ruskin-the-king-of-the-golden-river',\n",
       " '1857_ballantyne-the-coral-island-a-tale-of-the-pacific-ocean',\n",
       " '1857_hughes-tom-browns-school-days',\n",
       " '1862_farrar-st-winfreds-the-world-of-school',\n",
       " '1863_kingsley-the-water-babies',\n",
       " '1865_carroll-alices-adventures-in-wonderland',\n",
       " '1869_dickens-david-copperfield',\n",
       " '1870_hemyng-jack-harkaways-boy-tinker-among-the-turks',\n",
       " '1871_macdonald-at-the-back-of-the-north-wind',\n",
       " '1871_macdonald-ranald-bannermans-boyhood',\n",
       " '1872_macdonald-the-princess-and-the-goblin',\n",
       " '1873_macdonald-gutta-percha-willie-the-working-genius',\n",
       " '1875_macdonald-a-double-story',\n",
       " '1878_kingston-the-three-admirals',\n",
       " '1879_hemyng-jack-harkaway-in-new-york',\n",
       " '1879_hemyng-the-slave-of-the-mine',\n",
       " '1880_ballantyne-post-haste',\n",
       " '1880_ballantyne-the-crew-of-the-water-wagtail',\n",
       " '1880_ballantyne-the-red-mans-revenge-a-tale-of-the-red-river-flood',\n",
       " '1880_henty-for-the-temple',\n",
       " '1880_henty-the-young-buglers',\n",
       " '1881_ballantyne-my-doggie-and-i',\n",
       " '1881_ballantyne-the-giant-of-the-north-pokings-round-the-pole',\n",
       " '1881_henty-in-times-of-peril',\n",
       " '1881_henty-the-cornet-of-horse',\n",
       " '1881_reed-the-fifth-form-at-st-dominics',\n",
       " '1882_ballantyne-the-battery-and-the-boiler',\n",
       " '1882_ballantyne-the-life-of-a-ship',\n",
       " '1882_henty-facing-death',\n",
       " '1882_henty-winning-his-spurs',\n",
       " '1882_jefferies-bevis-the-story-of-a-boy',\n",
       " '1883_ballantyne-battles-with-the-sea',\n",
       " '1883_ballantyne-the-thorogood-family',\n",
       " '1883_fenn-middy-and-ensign',\n",
       " '1883_fenn-nat-the-naturalist-a-boys-adventures-in-the-eastern-seas',\n",
       " '1883_fenn-the-golden-magnet',\n",
       " '1883_henty-friends-though-divided',\n",
       " '1883_henty-jack-archer',\n",
       " '1883_henty-under-drakes-flag',\n",
       " '1883_kingston-adventures-in-africa',\n",
       " '1883_macdonald-the-princess-and-curdie',\n",
       " '1883_stevenson-treasure-island',\n",
       " '1884_ballantyne-dusty-diamonds-cut-and-polished',\n",
       " '1884_ballantyne-the-young-trawler',\n",
       " '1884_fenn-bunyip-land',\n",
       " '1884_fenn-the-silver-canyon',\n",
       " '1884_fenn-through-forest-and-stream',\n",
       " '1884_henty-by-sheer-pluck',\n",
       " '1884_henty-st-george-for-england',\n",
       " '1884_henty-with-clive-in-india',\n",
       " '1885_ballantyne-the-island-queen',\n",
       " '1885_ballantyne-the-rover-of-the-andes',\n",
       " '1885_ballantyne-twice-bought',\n",
       " '1885_fenn-menhardoc',\n",
       " '1885_fenn-the-new-forest-spy',\n",
       " '1885_henty-the-dragon-and-the-raven',\n",
       " '1885_henty-the-young-colonists',\n",
       " '1885_kingston-adventures-in-australia',\n",
       " '1885_reed-follow-my-leader',\n",
       " '1885_reed-reginald-cruden',\n",
       " '1886_ballantyne-red-rooney-the-last-of-the-crew',\n",
       " '1886_ballantyne-the-lively-poll',\n",
       " '1886_ballantyne-the-prairie-chief',\n",
       " '1886_fenn-brown-smiths-boy',\n",
       " '1886_fenn-patience-wins',\n",
       " '1886_fenn-son-phillip',\n",
       " '1886_henty-for-name-and-fame',\n",
       " '1886_henty-orange-and-green',\n",
       " '1886_henty-the-bravest-of-the-brave',\n",
       " '1886_henty-the-lion-of-the-north',\n",
       " '1886_henty-through-the-fray',\n",
       " '1886_henty-within-the-enemy-lines',\n",
       " '1886_stevenson-kidnapped',\n",
       " '1887_ballantyne-the-bigotter',\n",
       " '1887_ballantyne-the-fugitives-the-tyrant-queen-of-madagascar',\n",
       " '1887_fenn-the-bag-of-diamonds',\n",
       " '1887_fenn-the-devon-boys',\n",
       " '1887_henty-a-final-reckoning',\n",
       " '1887_henty-bonnie-prince-charlie',\n",
       " '1887_henty-the-young-carthaginian',\n",
       " '1887_reed-the-master-of-the-shell',\n",
       " '1887_reed-the-willoughby-captains',\n",
       " '1888_ballantyne-blue-lights-hot-work-in-the-soudan',\n",
       " '1888_ballantyne-the-middy-and-the-moors',\n",
       " '1888_fenn-dick-o-the-fens',\n",
       " '1888_fenn-mother-careys-chickens',\n",
       " '1888_henty-sturdy-and-strong',\n",
       " '1888_henty-the-cat-of-bubastes',\n",
       " '1888_in-the-reign-of-terror',\n",
       " '1888_lang-the-gold-of-fairnilee',\n",
       " '1888_macdonald-a-rough-shaking',\n",
       " '1888_wilde-the-happy-prince-and-other-tales',\n",
       " '1889_ballantyne-blown-to-bits-or-the-lonely-man-of-rakata',\n",
       " '1889_fenn-crown-and-sceptre',\n",
       " '1889_fenn-quicksilver',\n",
       " '1889_fenn-three-boys',\n",
       " '1889_henty-captain-bayleys-heir',\n",
       " '1889_henty-the-curse-of-carnes-hold',\n",
       " '1889_henty-the-lion-of-st-mark',\n",
       " '1889_lang-prince-prigio',\n",
       " '1889_reed-my-friend-smith',\n",
       " '1889_reed-sir-ludar',\n",
       " '1890_ballantyne-the-eagle-cliff',\n",
       " '1894_kipling-the-jungle-book',\n",
       " '1894_reed-a-dog-with-a-bad-name',\n",
       " '1899_kipling-rewards-and-fairies',\n",
       " '190x_hemyng-jack-harkaway-and-his-sons-escape-from-the-brigands-of-greece']"
      ]
     },
     "execution_count": 98,
     "metadata": {},
     "output_type": "execute_result"
    }
   ],
   "source": [
    "#MALE CORPUS\n",
    "m_book_titles"
   ]
  },
  {
   "cell_type": "code",
   "execution_count": 99,
   "metadata": {},
   "outputs": [
    {
     "data": {
      "text/plain": [
       "['1839_sinclair-holiday-house-a-series-of-tales',\n",
       " '1841_martineau-the-settlers-at-home',\n",
       " '1857_browne-grannys-wonderful-chair',\n",
       " '1857_tucker-the-rambles-of-a-rat',\n",
       " '1862_ewing-melchiors-dream-and-other-tales',\n",
       " '1869_ewing-mrs-overtheways-remembrances',\n",
       " '1869_ewing-the-land-of-lost-toys',\n",
       " '1870_ewing-the-brownies-and-other-tales',\n",
       " '1872_craik-the-adventure-of-a-brownie',\n",
       " '1872_de-la-ramee-a-dog-of-flanders',\n",
       " '1872_delaramee-a-dog-of-flanders',\n",
       " '1873_ewing-a-flat-iron-for-a-farthing',\n",
       " '1875_craik-the-little-lame-prince-and-his-traveling-cloack',\n",
       " '1876_ewing-jan-of-the-windmill',\n",
       " '1876_ewing-six-to-sixteen-a-story-for-girls',\n",
       " '1877_ewing-a-great-emergency-and-other-tales',\n",
       " '1877_molesworth-the-cuckoo-clock',\n",
       " '1877_sewell-black-beauty',\n",
       " '1879_ewing-jackanapes-daddy-darwins-dovecot-and-other-stories',\n",
       " '1880_burnett-louisiana',\n",
       " '1882_delaramee-bimbi',\n",
       " '1882_ewing-brothers-of-pity-and-other-tales-of-beasts-and-men',\n",
       " '1883_meade-the-childrens-pilgrimage',\n",
       " '1886_delaramee-a-houseparty',\n",
       " '1886_hodgson-burnett-little-lord-fauntleroy',\n",
       " '1886_leslie-a-sailors-lass',\n",
       " '1886_meade-a-world-of-girls',\n",
       " '1887_leslie-kates-ordeal',\n",
       " '1887_meade-the-palace-beautiful',\n",
       " '1887_molesworth-four-winds-farm',\n",
       " '1888_burnett-sara-crewe',\n",
       " '1888_ewing-snap-dragons-old-father-christmas',\n",
       " '1888_meade-the-little-princess-of-towerhill',\n",
       " '1889_meade-polly-a-new-fashioned-girl',\n",
       " '1889_tytler-a-house-full-of-girls',\n",
       " '1899_nesbit-the-story-of-the-treasure-seekers',\n",
       " '1911_burnett-the-secret-garden']"
      ]
     },
     "execution_count": 99,
     "metadata": {},
     "output_type": "execute_result"
    }
   ],
   "source": [
    "#FEMALE CORPUS\n",
    "f_book_titles"
   ]
  },
  {
   "cell_type": "markdown",
   "metadata": {},
   "source": [
    "## Get Training Data Stats"
   ]
  },
  {
   "cell_type": "markdown",
   "metadata": {},
   "source": [
    "We can get training data summary statistics by using the function ```little_mallet_wrapper.print_dataset_stats()```."
   ]
  },
  {
   "cell_type": "code",
   "execution_count": 100,
   "metadata": {},
   "outputs": [
    {
     "name": "stdout",
     "output_type": "stream",
     "text": [
      "----Male writers corpus statistics:\n",
      "Number of Documents: 111\n",
      "Mean Number of Words per Document: 27938.8\n",
      "Vocabulary Size: 49846\n",
      "\n",
      "----Female writers corpus statistics:\n",
      "Number of Documents: 37\n",
      "Mean Number of Words per Document: 15893.6\n",
      "Vocabulary Size: 26854\n"
     ]
    }
   ],
   "source": [
    "print(f\"----Male writers corpus statistics:\")\n",
    "little_mallet_wrapper.print_dataset_stats(m_training_data)\n",
    "\n",
    "print(f\"\\n----Female writers corpus statistics:\")\n",
    "little_mallet_wrapper.print_dataset_stats(f_training_data)"
   ]
  },
  {
   "cell_type": "markdown",
   "metadata": {},
   "source": [
    "## Training the Topic Model"
   ]
  },
  {
   "cell_type": "markdown",
   "metadata": {},
   "source": [
    "We are going to train the model with the function [`quick_train_topic_model(path_to_mallet, output_directory_path, num_topics, training_data)`](https://github.com/maria-antoniak/little-mallet-wrapper#quick_train_topic_modelpath_to_mallet-output_directory_path-num_topics-training_data). First of all, then, we need to set the variables the function is taking as parameters.\n",
    "The `path_to_mallet` and `training_data` variables have been already specified, we only need to create the `num_topics` and the `output_directory_path` variables. The latter specifies where Little MALLET Wrapper will find and output all the results of our topic modelling."
   ]
  },
  {
   "cell_type": "code",
   "execution_count": 101,
   "metadata": {},
   "outputs": [],
   "source": [
    "#specify the number of topics we want returned\n",
    "num_topics = 7\n",
    "\n",
    "#set desired output directory/ies (will be created inside current directory)\n",
    "m_output_directory_path = 'topic-model-output/m_results'#MALE CORPUS\n",
    "f_output_directory_path = 'topic-model-output/f_results'#FEMALE CORPUS\n",
    "\n",
    "\n",
    "#set topic model output files! No need to change anything below here\n",
    "#MALE CORPUS\n",
    "Path(f\"{m_output_directory_path}\").mkdir(parents=True, exist_ok=True)\n",
    "\n",
    "m_path_to_training_data           = f\"{m_output_directory_path}/training.txt\"\n",
    "m_path_to_formatted_training_data = f\"{m_output_directory_path}/mallet.training\"\n",
    "m_path_to_model                   = f\"{m_output_directory_path}/mallet.model.{str(num_topics)}\"\n",
    "m_path_to_topic_keys              = f\"{m_output_directory_path}/mallet.topic_keys.{str(num_topics)}\"\n",
    "m_path_to_topic_distributions     = f\"{m_output_directory_path}/mallet.topic_distributions.{str(num_topics)}\"\n",
    "\n",
    "#FEMALE CORPUS\n",
    "Path(f\"{f_output_directory_path}\").mkdir(parents=True, exist_ok=True)\n",
    "\n",
    "f_path_to_training_data           = f\"{f_output_directory_path}/training.txt\"\n",
    "f_path_to_formatted_training_data = f\"{f_output_directory_path}/mallet.training\"\n",
    "f_path_to_model                   = f\"{f_output_directory_path}/mallet.model.{str(num_topics)}\"\n",
    "f_path_to_topic_keys              = f\"{f_output_directory_path}/mallet.topic_keys.{str(num_topics)}\"\n",
    "f_path_to_topic_distributions     = f\"{f_output_directory_path}/mallet.topic_distributions.{str(num_topics)}\""
   ]
  },
  {
   "cell_type": "markdown",
   "metadata": {},
   "source": [
    "### Train Topic Model"
   ]
  },
  {
   "cell_type": "markdown",
   "metadata": {},
   "source": [
    "Then we're going to train our topic model with `little_mallet_wrapper.quick_train_topic_model()`. "
   ]
  },
  {
   "cell_type": "code",
   "execution_count": 102,
   "metadata": {
    "scrolled": true,
    "tags": [
     "output_scroll"
    ]
   },
   "outputs": [
    {
     "name": "stdout",
     "output_type": "stream",
     "text": [
      "Importing data...\n",
      "Complete\n",
      "Training topic model...\n",
      "Complete\n",
      "Importing data...\n",
      "Complete\n",
      "Training topic model...\n",
      "Complete\n"
     ]
    },
    {
     "data": {
      "text/plain": [
       "([['though',\n",
       "   'even',\n",
       "   'church',\n",
       "   'life',\n",
       "   'house',\n",
       "   'know',\n",
       "   'yet',\n",
       "   'ever',\n",
       "   'enough',\n",
       "   'still',\n",
       "   'marry',\n",
       "   'cannot',\n",
       "   'country',\n",
       "   'without',\n",
       "   'married',\n",
       "   'days',\n",
       "   'since',\n",
       "   'sense',\n",
       "   'friend',\n",
       "   'mind'],\n",
       "  ['dear',\n",
       "   'eyes',\n",
       "   'lake',\n",
       "   'face',\n",
       "   'less',\n",
       "   'owl',\n",
       "   'back',\n",
       "   'new',\n",
       "   'remember',\n",
       "   'kept',\n",
       "   'cheap',\n",
       "   'whilst',\n",
       "   'put',\n",
       "   'christmas',\n",
       "   'miller',\n",
       "   'sat',\n",
       "   'took',\n",
       "   'whose',\n",
       "   'cried',\n",
       "   'town'],\n",
       "  ['child',\n",
       "   'heart',\n",
       "   'night',\n",
       "   'day',\n",
       "   'yer',\n",
       "   'many',\n",
       "   'lad',\n",
       "   'children',\n",
       "   'purse',\n",
       "   'even',\n",
       "   'village',\n",
       "   'tis',\n",
       "   'france',\n",
       "   'face',\n",
       "   'without',\n",
       "   'hut',\n",
       "   'dark',\n",
       "   'life',\n",
       "   'heaven',\n",
       "   'guide'],\n",
       "  ['day',\n",
       "   'know',\n",
       "   'though',\n",
       "   'ever',\n",
       "   'heard',\n",
       "   'looked',\n",
       "   'look',\n",
       "   'quite',\n",
       "   'nothing',\n",
       "   'head',\n",
       "   'every',\n",
       "   'children',\n",
       "   'first',\n",
       "   'last',\n",
       "   'back',\n",
       "   'away',\n",
       "   'many',\n",
       "   'round',\n",
       "   'sure',\n",
       "   'put'],\n",
       "  ['know',\n",
       "   'dear',\n",
       "   'quite',\n",
       "   'face',\n",
       "   'eyes',\n",
       "   'away',\n",
       "   'child',\n",
       "   'back',\n",
       "   'room',\n",
       "   'take',\n",
       "   'give',\n",
       "   'even',\n",
       "   'day',\n",
       "   'money',\n",
       "   'night',\n",
       "   'really',\n",
       "   'look',\n",
       "   'want',\n",
       "   'put',\n",
       "   'first'],\n",
       "  ['looked',\n",
       "   'answered',\n",
       "   'garden',\n",
       "   'look',\n",
       "   'quite',\n",
       "   'face',\n",
       "   'eyes',\n",
       "   'know',\n",
       "   'want',\n",
       "   'door',\n",
       "   'new',\n",
       "   'back',\n",
       "   'room',\n",
       "   'perhaps',\n",
       "   'stood',\n",
       "   'sat',\n",
       "   'began',\n",
       "   'knew',\n",
       "   'louisiana',\n",
       "   'chair'],\n",
       "  ['room',\n",
       "   'school',\n",
       "   'without',\n",
       "   'every',\n",
       "   'many',\n",
       "   'day',\n",
       "   'life',\n",
       "   'whole',\n",
       "   'became',\n",
       "   'moment',\n",
       "   'last',\n",
       "   'place',\n",
       "   'exclaimed',\n",
       "   'eyes',\n",
       "   'still',\n",
       "   'also',\n",
       "   'side',\n",
       "   'often',\n",
       "   'several',\n",
       "   'added']],\n",
       " [[0.012703999266457263,\n",
       "   0.011857810277175947,\n",
       "   0.0061768855913545565,\n",
       "   0.4215699788569708,\n",
       "   0.16391395930487285,\n",
       "   4.660050544904306e-06,\n",
       "   0.3837727066526237],\n",
       "  [1.3799136036876093e-05,\n",
       "   0.00399108328556336,\n",
       "   0.02233183661891847,\n",
       "   0.7686516277079747,\n",
       "   0.12868453359523047,\n",
       "   7.717692220083999e-06,\n",
       "   0.07631940196405601],\n",
       "  [0.0006201722196245035,\n",
       "   0.0012177459691712319,\n",
       "   0.33848193924127584,\n",
       "   0.5984568810829464,\n",
       "   0.05993512207190883,\n",
       "   0.00016529079379063526,\n",
       "   0.0011228486212826305],\n",
       "  [0.034096601279585345,\n",
       "   0.029086764434258772,\n",
       "   0.0727286619246295,\n",
       "   0.42544824383589325,\n",
       "   0.11504076883134287,\n",
       "   0.00020125854809109888,\n",
       "   0.3233977011461991],\n",
       "  [0.0525862751294774,\n",
       "   0.20366389837714083,\n",
       "   0.03919027302447969,\n",
       "   0.32338543549470744,\n",
       "   0.2560354139066115,\n",
       "   0.004682161716941953,\n",
       "   0.12045654235064122],\n",
       "  [0.06440494153076362,\n",
       "   0.2429538669639417,\n",
       "   0.004711754974615786,\n",
       "   0.21768297131182057,\n",
       "   0.3077981129206269,\n",
       "   0.013019552728311795,\n",
       "   0.14942879956991964],\n",
       "  [3.069613279185888e-05,\n",
       "   0.31683785194753167,\n",
       "   0.0001860018895392278,\n",
       "   0.4358752103597468,\n",
       "   0.22099533948608827,\n",
       "   1.7167980995426565e-05,\n",
       "   0.026057732203306733],\n",
       "  [0.000782706562952934,\n",
       "   0.31250587630139864,\n",
       "   0.015580680103076618,\n",
       "   0.4119627904666309,\n",
       "   0.20930979946756523,\n",
       "   8.08381653280072e-06,\n",
       "   0.049850063281842764],\n",
       "  [3.462208441228424e-05,\n",
       "   0.015994450676954333,\n",
       "   0.008797617387097086,\n",
       "   0.8147394272725599,\n",
       "   0.12366307978851633,\n",
       "   1.9363718916729222e-05,\n",
       "   0.03675143907154338],\n",
       "  [4.6207992751777404e-05,\n",
       "   0.00026557229669246253,\n",
       "   0.7749647408272516,\n",
       "   0.21998190948698243,\n",
       "   0.002535774905929473,\n",
       "   2.584357928011435e-05,\n",
       "   0.002179950911112065],\n",
       "  [0.0002508803165279791,\n",
       "   6.0899972916260835e-05,\n",
       "   0.7835609784258522,\n",
       "   0.21302305047859157,\n",
       "   0.0017170856108246664,\n",
       "   2.584357928011435e-05,\n",
       "   0.0013612616160072581],\n",
       "  [0.07243338223394452,\n",
       "   0.2725820688779445,\n",
       "   0.000449308449494168,\n",
       "   0.20119083691309747,\n",
       "   0.2899487042276226,\n",
       "   0.00014994193266488654,\n",
       "   0.16324575736523192],\n",
       "  [0.027423850707730256,\n",
       "   0.0096541853583997,\n",
       "   0.05493771309159617,\n",
       "   0.5777727616970172,\n",
       "   0.2301534097781874,\n",
       "   0.014842699788136387,\n",
       "   0.08521537957893278],\n",
       "  [0.042276907888493635,\n",
       "   0.3746229952516205,\n",
       "   0.06387127119064352,\n",
       "   0.20259033373297375,\n",
       "   0.22699960012245482,\n",
       "   0.0002493545389685318,\n",
       "   0.0893895372748453],\n",
       "  [0.08717466774212129,\n",
       "   0.27379994758254633,\n",
       "   0.008085730308053115,\n",
       "   0.2337719618647984,\n",
       "   0.25790836802712586,\n",
       "   0.0011106192811871384,\n",
       "   0.1381487051941679],\n",
       "  [0.029638058530287767,\n",
       "   0.224142271323115,\n",
       "   0.005202881399400652,\n",
       "   0.36193223901974686,\n",
       "   0.26132858145385895,\n",
       "   6.234888035897849e-06,\n",
       "   0.11774973338555489],\n",
       "  [0.0068805386257093076,\n",
       "   0.0008428579501466524,\n",
       "   0.010919842092596114,\n",
       "   0.6247305958727009,\n",
       "   0.2995696691372632,\n",
       "   0.02149577074527116,\n",
       "   0.035560725576312686],\n",
       "  [0.0003709155924382282,\n",
       "   0.00013688221768972094,\n",
       "   0.025104055487933513,\n",
       "   0.7692528666096627,\n",
       "   0.1758959986615965,\n",
       "   7.522736658585348e-06,\n",
       "   0.029231758694020803],\n",
       "  [0.0278696878189978,\n",
       "   0.30495680946409,\n",
       "   0.11590098705374567,\n",
       "   0.29784610963910796,\n",
       "   0.17915612123786284,\n",
       "   0.0037918254451509456,\n",
       "   0.07047845934104476],\n",
       "  [0.022470113876307738,\n",
       "   0.011745516527887273,\n",
       "   0.0036790920930299897,\n",
       "   0.124132917309197,\n",
       "   0.23485504419982806,\n",
       "   0.5205474016121954,\n",
       "   0.0825699143815545],\n",
       "  [0.05314019465142504,\n",
       "   0.024034970408533973,\n",
       "   0.43228127137720684,\n",
       "   0.3510541127183793,\n",
       "   0.08358822130506185,\n",
       "   0.025907848911371264,\n",
       "   0.02999338062802167],\n",
       "  [0.02037696880333706,\n",
       "   0.2637034223548179,\n",
       "   0.009273466748701775,\n",
       "   0.4480256868095075,\n",
       "   0.19973135352855373,\n",
       "   8.110818221016164e-06,\n",
       "   0.05888099093686099],\n",
       "  [8.739478513546896e-06,\n",
       "   0.00016635978000409618,\n",
       "   0.26394167854558603,\n",
       "   0.1474014375049156,\n",
       "   0.5119986806466225,\n",
       "   4.887886107604563e-06,\n",
       "   0.07647821615825066],\n",
       "  [0.4160823303588106,\n",
       "   0.017019818306963898,\n",
       "   0.09900475794411857,\n",
       "   0.16896664460878644,\n",
       "   0.20030334388126247,\n",
       "   0.008725315432405269,\n",
       "   0.08989778946765282],\n",
       "  [0.02396376167280553,\n",
       "   1.7424085793997044e-05,\n",
       "   2.1550659799607967e-05,\n",
       "   0.19241246746783633,\n",
       "   0.30277169868266574,\n",
       "   0.40810353342597816,\n",
       "   0.0727095640051207],\n",
       "  [0.004048524055468764,\n",
       "   0.0005090491986556754,\n",
       "   0.17279908605664954,\n",
       "   0.3514742550428023,\n",
       "   0.3609818676742265,\n",
       "   0.011906136698819271,\n",
       "   0.09828108127337798],\n",
       "  [0.007161822678139446,\n",
       "   0.002565710860086388,\n",
       "   0.026364894698813465,\n",
       "   0.11404856431041611,\n",
       "   0.4698878045116282,\n",
       "   0.004968318967794954,\n",
       "   0.3750028839731214],\n",
       "  [0.01783787564944608,\n",
       "   0.00026842917792040637,\n",
       "   0.0002830073706910686,\n",
       "   0.1695954648140921,\n",
       "   0.6449070608224627,\n",
       "   2.6121590343119677e-05,\n",
       "   0.16708204057504453],\n",
       "  [0.012560078662531771,\n",
       "   0.005480729132855098,\n",
       "   0.01333679830710019,\n",
       "   0.06211811586258246,\n",
       "   0.7732337270779491,\n",
       "   4.23791474428715e-06,\n",
       "   0.13326631304223707],\n",
       "  [0.00011475210221640572,\n",
       "   0.0005895555238331492,\n",
       "   0.029710936484512347,\n",
       "   0.5374346142315317,\n",
       "   0.3936945487445886,\n",
       "   0.014616021077845934,\n",
       "   0.02383957183547179],\n",
       "  [4.476051698584065e-05,\n",
       "   0.001050296853564787,\n",
       "   0.00046948533470422685,\n",
       "   0.2662248525039876,\n",
       "   0.4477503612167825,\n",
       "   0.23298161173278228,\n",
       "   0.05147863184119276],\n",
       "  [0.010788782064530577,\n",
       "   0.29748075136185936,\n",
       "   0.0016270434070811124,\n",
       "   0.38396904042346014,\n",
       "   0.22034252159057316,\n",
       "   3.226178767032837e-05,\n",
       "   0.08575959936482523],\n",
       "  [0.006452404940564554,\n",
       "   0.0004195715541995565,\n",
       "   0.07022238592758395,\n",
       "   0.15321233586333882,\n",
       "   0.48729134821520476,\n",
       "   0.02271773035436892,\n",
       "   0.2596842231447395],\n",
       "  [0.012462941105539027,\n",
       "   0.005837151493232197,\n",
       "   0.033318846789054765,\n",
       "   0.1754308734929952,\n",
       "   0.6107775952336438,\n",
       "   0.004343840711705547,\n",
       "   0.1578287511738295],\n",
       "  [0.30416260413374935,\n",
       "   0.05418034322915441,\n",
       "   0.0035838522688834322,\n",
       "   0.1671348676692407,\n",
       "   0.2596212113864543,\n",
       "   4.175827138592017e-06,\n",
       "   0.2113129454853793],\n",
       "  [0.02107690000806616,\n",
       "   0.0355217705997682,\n",
       "   0.007140172455367336,\n",
       "   0.3668276676507781,\n",
       "   0.547261175529959,\n",
       "   0.014941775253095502,\n",
       "   0.007230538502965572],\n",
       "  [9.22288561104946e-06,\n",
       "   0.001115147943538436,\n",
       "   5.588567661898853e-05,\n",
       "   0.3587912602631816,\n",
       "   0.18274501846892272,\n",
       "   0.4541930048149959,\n",
       "   0.003090459947131327]])"
      ]
     },
     "execution_count": 102,
     "metadata": {},
     "output_type": "execute_result"
    }
   ],
   "source": [
    "#MALE CORPUS\n",
    "little_mallet_wrapper.quick_train_topic_model(path_to_mallet,\n",
    "                                             m_output_directory_path,\n",
    "                                             num_topics,\n",
    "                                             m_training_data)\n",
    "\n",
    "#FEMALE CORPUS\n",
    "little_mallet_wrapper.quick_train_topic_model(path_to_mallet,\n",
    "                                             f_output_directory_path,\n",
    "                                             num_topics,\n",
    "                                             f_training_data)"
   ]
  },
  {
   "cell_type": "markdown",
   "metadata": {},
   "source": [
    "## Display Topics and Top Words"
   ]
  },
  {
   "cell_type": "markdown",
   "metadata": {},
   "source": [
    "To examine the `num_topics` topics that the topic model extracted from our corpus we use the [`little_mallet_wrapper.load_topic_keys()`](https://github.com/maria-antoniak/little-mallet-wrapper#load_topic_keystopic_keys_path) function, reading and processing the output from the file in input."
   ]
  },
  {
   "cell_type": "code",
   "execution_count": 103,
   "metadata": {},
   "outputs": [
    {
     "name": "stdout",
     "output_type": "stream",
     "text": [
      "\n",
      "------------ ♂️ MALE CORPUS ------------\n",
      "\n",
      "Topic: 0\n",
      "\n",
      "['cried', 'back', 'right', 'away', 'look', 'lad', 'know', 'place', 'head', 'round', 'side', 'felt', 'began', 'half', 'looked', 'along', 'quite', 'take', 'looking', 'want']\n",
      "\n",
      "Topic: 1\n",
      "\n",
      "['know', 'back', 'away', 'night', 'head', 'house', 'looked', 'put', 'yet', 'eyes', 'day', 'door', 'knew', 'ever', 'found', 'face', 'round', 'nothing', 'heard', 'took']\n",
      "\n",
      "Topic: 2\n",
      "\n",
      "['fire', 'back', 'troops', 'enemy', 'officers', 'place', 'day', 'guns', 'horses', 'four', 'attack', 'village', 'first', 'party', 'round', 'away', 'night', 'officer', 'hundred', 'british']\n",
      "\n",
      "Topic: 3\n",
      "\n",
      "['returned', 'friend', 'eyes', 'look', 'though', 'also', 'moment', 'thus', 'many', 'know', 'almost', 'surprise', 'course', 'even', 'yet', 'among', 'face', 'exclaimed', 'found', 'indeed']\n",
      "\n",
      "Topic: 4\n",
      "\n",
      "['know', 'day', 'last', 'house', 'room', 'first', 'back', 'school', 'mind', 'better', 'fellow', 'face', 'take', 'half', 'quite', 'done', 'nothing', 'door', 'put', 'right']\n",
      "\n",
      "Topic: 5\n",
      "\n",
      "['army', 'many', 'place', 'day', 'take', 'without', 'among', 'first', 'town', 'arms', 'even', 'taken', 'city', 'country', 'indeed', 'although', 'soon', 'heard', 'back', 'news']\n",
      "\n",
      "Topic: 6\n",
      "\n",
      "['ship', 'island', 'soon', 'shore', 'board', 'replied', 'first', 'deck', 'found', 'put', 'still', 'take', 'though', 'side', 'vessel', 'day', 'away', 'without', 'seen', 'round']\n",
      "\n",
      "\n",
      "\n",
      "------------ ♀️ FEMALE CORPUS ------------\n",
      "\n",
      "Topic: 0\n",
      "\n",
      "['though', 'even', 'church', 'life', 'house', 'know', 'yet', 'ever', 'enough', 'still', 'marry', 'cannot', 'country', 'without', 'married', 'days', 'since', 'sense', 'friend', 'mind']\n",
      "\n",
      "Topic: 1\n",
      "\n",
      "['dear', 'eyes', 'lake', 'face', 'less', 'owl', 'back', 'new', 'remember', 'kept', 'cheap', 'whilst', 'put', 'christmas', 'miller', 'sat', 'took', 'whose', 'cried', 'town']\n",
      "\n",
      "Topic: 2\n",
      "\n",
      "['child', 'heart', 'night', 'day', 'yer', 'many', 'lad', 'children', 'purse', 'even', 'village', 'tis', 'france', 'face', 'without', 'hut', 'dark', 'life', 'heaven', 'guide']\n",
      "\n",
      "Topic: 3\n",
      "\n",
      "['day', 'know', 'though', 'ever', 'heard', 'looked', 'look', 'quite', 'nothing', 'head', 'every', 'children', 'first', 'last', 'back', 'away', 'many', 'round', 'sure', 'put']\n",
      "\n",
      "Topic: 4\n",
      "\n",
      "['know', 'dear', 'quite', 'face', 'eyes', 'away', 'child', 'back', 'room', 'take', 'give', 'even', 'day', 'money', 'night', 'really', 'look', 'want', 'put', 'first']\n",
      "\n",
      "Topic: 5\n",
      "\n",
      "['looked', 'answered', 'garden', 'look', 'quite', 'face', 'eyes', 'know', 'want', 'door', 'new', 'back', 'room', 'perhaps', 'stood', 'sat', 'began', 'knew', 'louisiana', 'chair']\n",
      "\n",
      "Topic: 6\n",
      "\n",
      "['room', 'school', 'without', 'every', 'many', 'day', 'life', 'whole', 'became', 'moment', 'last', 'place', 'exclaimed', 'eyes', 'still', 'also', 'side', 'often', 'several', 'added']\n",
      "\n"
     ]
    }
   ],
   "source": [
    "#MALE CORPUS\n",
    "m_topics = little_mallet_wrapper.load_topic_keys(m_path_to_topic_keys) #list of lists of strings\n",
    "print(f\"\\n------------ ♂️ MALE CORPUS ------------\\n\")\n",
    "for topic_number, topic in enumerate(m_topics):\n",
    "    print(f\"Topic: {topic_number}\\n\\n{topic}\\n\")\n",
    "\n",
    "#FEMALE CORPUS\n",
    "f_topics = little_mallet_wrapper.load_topic_keys(f_path_to_topic_keys) #list of lists of strings\n",
    "print(f\"\\n\\n------------ ♀️ FEMALE CORPUS ------------\\n\")\n",
    "for topic_number, topic in enumerate(f_topics):\n",
    "    print(f\"Topic: {topic_number}\\n\\n{topic}\\n\")"
   ]
  },
  {
   "cell_type": "markdown",
   "metadata": {},
   "source": [
    "## Load Topic Distributions"
   ]
  },
  {
   "cell_type": "markdown",
   "metadata": {},
   "source": [
    "MALLET also calculates the probability distribution of these topics over every single document in the corpus, that is, the probability that each topic exists in a specified document. Therefore, we can use these probability distributions to examine how strongly the extracted topics are associated with a given document (book) in our corpus.\n",
    "\n",
    "To get the topic distributions, we're going to use the [`little_mallet_wrapper.load_topic_distributions()`](https://github.com/maria-antoniak/little-mallet-wrapper#load_topic_distributionstopic_distributions_path) function, which will read and process the MALLET topic model output (contained in the file whose path is stored in the `path_to_topic_distributions` variable) and return a list of the probability distributions of each topic over each document."
   ]
  },
  {
   "cell_type": "code",
   "execution_count": 104,
   "metadata": {},
   "outputs": [],
   "source": [
    "#store the probability distributions (list of lists) in a variable\n",
    "m_topic_distributions = little_mallet_wrapper.load_topic_distributions(m_path_to_topic_distributions) #list of lists of integers\n",
    "f_topic_distributions = little_mallet_wrapper.load_topic_distributions(f_path_to_topic_distributions) #list of lists of integers"
   ]
  },
  {
   "cell_type": "markdown",
   "metadata": {},
   "source": [
    "Of course, we can analyze the probability distribution of the topics extracted from a specific dataset over one specific book."
   ]
  },
  {
   "cell_type": "code",
   "execution_count": 105,
   "metadata": {
    "scrolled": true,
    "tags": [
     "output_scroll"
    ]
   },
   "outputs": [
    {
     "name": "stdout",
     "output_type": "stream",
     "text": [
      "Topic Distributions for 1882_delaramee-bimbi\n",
      "\n",
      "Topic 0 ['though', 'even', 'church', 'life', 'house', 'know', 'yet', 'ever', 'enough', 'still', 'marry', 'cannot', 'country', 'without', 'married', 'days', 'since', 'sense', 'friend', 'mind'] \n",
      "Probability: 0.053\n",
      "\n",
      "Topic 1 ['dear', 'eyes', 'lake', 'face', 'less', 'owl', 'back', 'new', 'remember', 'kept', 'cheap', 'whilst', 'put', 'christmas', 'miller', 'sat', 'took', 'whose', 'cried', 'town'] \n",
      "Probability: 0.024\n",
      "\n",
      "Topic 2 ['child', 'heart', 'night', 'day', 'yer', 'many', 'lad', 'children', 'purse', 'even', 'village', 'tis', 'france', 'face', 'without', 'hut', 'dark', 'life', 'heaven', 'guide'] \n",
      "Probability: 0.432\n",
      "\n",
      "Topic 3 ['day', 'know', 'though', 'ever', 'heard', 'looked', 'look', 'quite', 'nothing', 'head', 'every', 'children', 'first', 'last', 'back', 'away', 'many', 'round', 'sure', 'put'] \n",
      "Probability: 0.351\n",
      "\n",
      "Topic 4 ['know', 'dear', 'quite', 'face', 'eyes', 'away', 'child', 'back', 'room', 'take', 'give', 'even', 'day', 'money', 'night', 'really', 'look', 'want', 'put', 'first'] \n",
      "Probability: 0.084\n",
      "\n",
      "Topic 5 ['looked', 'answered', 'garden', 'look', 'quite', 'face', 'eyes', 'know', 'want', 'door', 'new', 'back', 'room', 'perhaps', 'stood', 'sat', 'began', 'knew', 'louisiana', 'chair'] \n",
      "Probability: 0.026\n",
      "\n",
      "Topic 6 ['room', 'school', 'without', 'every', 'many', 'day', 'life', 'whole', 'became', 'moment', 'last', 'place', 'exclaimed', 'eyes', 'still', 'also', 'side', 'often', 'several', 'added'] \n",
      "Probability: 0.03\n",
      "\n"
     ]
    }
   ],
   "source": [
    "#specify the title/label of the desidered document in a variable\n",
    "book_to_check = \"1882_delaramee-bimbi\"\n",
    "#get document's index in the list and store it in a variable\n",
    "book_number = f_book_titles.index(book_to_check)\n",
    "#specify the set of topics - i.e. extracted from male/female corpus - (and relative topic distributions) for which you want to get the probability distribution over the input book \n",
    "topics_lol = f_topics\n",
    "topic_distribution_lol = f_topic_distributions\n",
    "\n",
    "#calculate the probability distribution of the female/male corpus topics over the input book\n",
    "print(f\"Topic Distributions for {f_book_titles[book_number]}\\n\")\n",
    "for topic_number, (topic, topic_distribution) in enumerate(zip(topics_lol, topic_distribution_lol[book_number])):\n",
    "    print(f\"Topic {topic_number} {topic} \\nProbability: {round(topic_distribution, 3)}\\n\")\n",
    "\n",
    "#---------------------------------------------------\n",
    "\n"
   ]
  },
  {
   "cell_type": "markdown",
   "metadata": {},
   "source": [
    "## Explore Heatmap of Topics and Texts"
   ]
  },
  {
   "cell_type": "markdown",
   "metadata": {},
   "source": [
    "We can visualize and compare these topic probability distributions with a heatmap by using the [`little_mallet_wrapper.plot_categories_by_topics_heatmap()`](https://github.com/maria-antoniak/little-mallet-wrapper#plot_categories_by_topics_heatmaplabels-topic_distributions-topic_keys-output_pathnone-target_labelsnone-dimnone) function.\n",
    "\n",
    "First, we only need to specify the `target_labels` parameter, telling the function which documents we'd like to be plotted in the graph. **Below, we are plotting *some* documents in the *female* corpus.**"
   ]
  },
  {
   "cell_type": "code",
   "execution_count": 106,
   "metadata": {},
   "outputs": [],
   "source": [
    "f_target_labels = ['1841_martineau-the-settlers-at-home',\n",
    " '1857_browne-grannys-wonderful-chair',\n",
    " '1857_tucker-the-rambles-of-a-rat',\n",
    " '1862_ewing-melchiors-dream-and-other-tales',\n",
    " '1869_ewing-mrs-overtheways-remembrances',\n",
    " '1869_ewing-the-land-of-lost-toys',\n",
    " '1870_ewing-the-brownies-and-other-tales',\n",
    " '1872_craik-the-adventure-of-a-brownie',\n",
    " '1872_de-la-ramee-a-dog-of-flanders'\n",
    " ]"
   ]
  },
  {
   "cell_type": "code",
   "execution_count": 107,
   "metadata": {},
   "outputs": [
    {
     "data": {
      "image/png": "[encoded data removed]",
      "text/plain": [
       "<Figure size 936x648 with 2 Axes>"
      ]
     },
     "metadata": {},
     "output_type": "display_data"
    }
   ],
   "source": [
    "#FEMALE CORPUS\n",
    "little_mallet_wrapper.plot_categories_by_topics_heatmap(f_book_titles,\n",
    "                                      f_topic_distributions,\n",
    "                                      f_topics, \n",
    "                                      f_output_directory_path + '/categories_by_topics.pdf',\n",
    "                                      target_labels=f_target_labels,\n",
    "                                      dim= (13, 9)\n",
    "                                     )\n"
   ]
  },
  {
   "cell_type": "markdown",
   "metadata": {},
   "source": [
    "The darker squares in this heatmap represent a high probability for the corresponding topic (compared to everyone else in the heatmap) and the lighter squares in the heatmap represent a low probability for the corresponding topic."
   ]
  },
  {
   "cell_type": "markdown",
   "metadata": {},
   "source": [
    "Here, we are plotting the data relative to *some* documents from the *male* corpus."
   ]
  },
  {
   "cell_type": "code",
   "execution_count": 108,
   "metadata": {},
   "outputs": [],
   "source": [
    "#MALE CORPUS\n",
    "\n",
    "m_target_labels = ['1848_marryat-the-little-savage',\n",
    " '1851_ruskin-the-king-of-the-golden-river',\n",
    " '1857_ballantyne-the-coral-island-a-tale-of-the-pacific-ocean',\n",
    " '1857_hughes-tom-browns-school-days',\n",
    " '1862_farrar-st-winfreds-the-world-of-school',\n",
    " '1863_kingsley-the-water-babies',\n",
    " '1865_carroll-alices-adventures-in-wonderland',\n",
    " '1869_dickens-david-copperfield'\n",
    "]"
   ]
  },
  {
   "cell_type": "code",
   "execution_count": 109,
   "metadata": {},
   "outputs": [
    {
     "data": {
      "image/png": "[encoded data removed]",
      "text/plain": [
       "<Figure size 936x648 with 2 Axes>"
      ]
     },
     "metadata": {},
     "output_type": "display_data"
    }
   ],
   "source": [
    "#MALE CORPUS\n",
    "little_mallet_wrapper.plot_categories_by_topics_heatmap(m_book_titles,\n",
    "                                      m_topic_distributions,\n",
    "                                      m_topics, \n",
    "                                      m_output_directory_path + '/categories_by_topics.pdf',\n",
    "                                      target_labels=m_target_labels,\n",
    "                                      dim= (13, 9)\n",
    "                                     )"
   ]
  },
  {
   "cell_type": "markdown",
   "metadata": {},
   "source": [
    "## Display Top Titles Per Topic"
   ]
  },
  {
   "cell_type": "markdown",
   "metadata": {},
   "source": [
    "We can also display the books that have the highest probability for every topic with the `little_mallet_wrapper.get_top_docs()` function.\n",
    "\n",
    "To display only the title of the book, we'll first need to make two dictionaries for each corpus, which will allow us to find the corresponding book title and the original text from a given training document."
   ]
  },
  {
   "cell_type": "code",
   "execution_count": 110,
   "metadata": {},
   "outputs": [],
   "source": [
    "#MALE CORPUS\n",
    "m_training_data_book_titles = dict(zip(m_training_data, m_book_titles))\n",
    "m_training_data_original_text = dict(zip(m_training_data, m_original_texts))\n",
    "\n",
    "#FEMALE CORPUS\n",
    "f_training_data_book_titles = dict(zip(f_training_data, f_book_titles))\n",
    "f_training_data_original_text = dict(zip(f_training_data, f_original_texts))"
   ]
  },
  {
   "cell_type": "markdown",
   "metadata": {},
   "source": [
    "Then we'll use the function `display_top_titles_per_topic()` that will display the top text titles for a given topic, in the selected corpus (male/female). This function accepts a given `topic_number`, a desired `number_of_documents` to display, and the indication of the corpus we chose to analyse (set `corpus_gender` to either `\"male\"` or `\"female\"`)"
   ]
  },
  {
   "cell_type": "code",
   "execution_count": 111,
   "metadata": {},
   "outputs": [],
   "source": [
    "\n",
    "def display_top_titles_per_topic(topic_number=0, number_of_documents=5, corpus_gender=str()):\n",
    "    corpus_gender = corpus_gender.lower()\n",
    "    if corpus_gender == \"male\":\n",
    "        print(f\"------------ ♂️ MALE CORPUS ------------\\nTopic {topic_number}\\n\\n{m_topics[topic_number]}\\n\")\n",
    "\n",
    "        for probability, document in little_mallet_wrapper.get_top_docs(m_training_data, m_topic_distributions, topic_number, n=number_of_documents):\n",
    "            print(round(probability, 4), m_training_data_book_titles[document] + \"\\n\")\n",
    "        return\n",
    "    elif corpus_gender == \"female\":\n",
    "        print(f\"------------ ♀️ FEMALE CORPUS ------------\\nTopic {topic_number}\\n\\n{f_topics[topic_number]}\\n\")\n",
    "\n",
    "        for probability, document in little_mallet_wrapper.get_top_docs(f_training_data, f_topic_distributions, topic_number, n=number_of_documents):\n",
    "            print(round(probability, 4), f_training_data_book_titles[document] + \"\\n\")\n",
    "        return\n"
   ]
  },
  {
   "cell_type": "code",
   "execution_count": 112,
   "metadata": {},
   "outputs": [
    {
     "name": "stdout",
     "output_type": "stream",
     "text": [
      "------------ ♂️ MALE CORPUS ------------\n",
      "Topic 0\n",
      "\n",
      "['cried', 'back', 'right', 'away', 'look', 'lad', 'know', 'place', 'head', 'round', 'side', 'felt', 'began', 'half', 'looked', 'along', 'quite', 'take', 'looking', 'want']\n",
      "\n",
      "0.8264 1888_fenn-dick-o-the-fens\n",
      "\n",
      "0.8217 1889_fenn-three-boys\n",
      "\n",
      "0.7963 1885_fenn-menhardoc\n",
      "\n",
      "0.7527 1884_fenn-bunyip-land\n",
      "\n",
      "0.7458 1886_fenn-brown-smiths-boy\n",
      "\n"
     ]
    }
   ],
   "source": [
    "display_top_titles_per_topic(topic_number=0, number_of_documents=5, corpus_gender=\"male\")"
   ]
  },
  {
   "cell_type": "code",
   "execution_count": 113,
   "metadata": {},
   "outputs": [
    {
     "name": "stdout",
     "output_type": "stream",
     "text": [
      "------------ ♀️ FEMALE CORPUS ------------\n",
      "Topic 0\n",
      "\n",
      "['though', 'even', 'church', 'life', 'house', 'know', 'yet', 'ever', 'enough', 'still', 'marry', 'cannot', 'country', 'without', 'married', 'days', 'since', 'sense', 'friend', 'mind']\n",
      "\n",
      "0.4161 1886_delaramee-a-houseparty\n",
      "\n",
      "0.3042 1889_tytler-a-house-full-of-girls\n",
      "\n",
      "0.0872 1876_ewing-six-to-sixteen-a-story-for-girls\n",
      "\n",
      "0.0724 1873_ewing-a-flat-iron-for-a-farthing\n",
      "\n",
      "0.0644 1869_ewing-mrs-overtheways-remembrances\n",
      "\n"
     ]
    }
   ],
   "source": [
    "display_top_titles_per_topic(topic_number=0, number_of_documents=5, corpus_gender=\"female\")"
   ]
  },
  {
   "cell_type": "markdown",
   "metadata": {},
   "source": [
    "### Analysis of most relevant topics\n",
    "\n",
    "After having analyzed the output topics, we try to identify those ones that seem to carry most interesting information for our analysis. \n",
    "\n",
    "From this standpoint, we identify the following topics as being the ones that carry potentially gender-related information:\n",
    "\n",
    "<p align=\"center\" style=\"color:red; font-weight:bold\">\n",
    "QUI SCEGLIAMO DEI TOPICS CHE VOGLIAMO ANALIZZARE E LI RENDIAMO ESPLICITI.\n",
    "</p>\n"
   ]
  },
  {
   "cell_type": "markdown",
   "metadata": {},
   "source": [
    "<span style=\"color:red; font-weight:bold\">For example</span>, to display the top 3 book titles with the highest probability of containing topic 1 in the male corpus and topic 3 in the female corpus, we will run the `display_top_titles_per_topic()` function specifying the desired topics and corpus in input:"
   ]
  },
  {
   "cell_type": "code",
   "execution_count": 114,
   "metadata": {},
   "outputs": [
    {
     "name": "stdout",
     "output_type": "stream",
     "text": [
      "------------ ♂️ MALE CORPUS ------------\n",
      "Topic 1\n",
      "\n",
      "['know', 'back', 'away', 'night', 'head', 'house', 'looked', 'put', 'yet', 'eyes', 'day', 'door', 'knew', 'ever', 'found', 'face', 'round', 'nothing', 'heard', 'took']\n",
      "\n",
      "0.8264 1888_lang-the-gold-of-fairnilee\n",
      "\n",
      "0.742 1871_macdonald-at-the-back-of-the-north-wind\n",
      "\n",
      "0.7279 1875_macdonald-a-double-story\n",
      "\n",
      "------------ ♀️ FEMALE CORPUS ------------\n",
      "Topic 3\n",
      "\n",
      "['day', 'know', 'though', 'ever', 'heard', 'looked', 'look', 'quite', 'nothing', 'head', 'every', 'children', 'first', 'last', 'back', 'away', 'many', 'round', 'sure', 'put']\n",
      "\n",
      "0.8147 1872_craik-the-adventure-of-a-brownie\n",
      "\n",
      "0.7693 1877_sewell-black-beauty\n",
      "\n",
      "0.7687 1841_martineau-the-settlers-at-home\n",
      "\n"
     ]
    }
   ],
   "source": [
    "display_top_titles_per_topic(topic_number=1, number_of_documents=3, corpus_gender=\"male\")\n",
    "display_top_titles_per_topic(topic_number=3, number_of_documents=3, corpus_gender=\"female\")\n"
   ]
  },
  {
   "cell_type": "code",
   "execution_count": 115,
   "metadata": {},
   "outputs": [],
   "source": [
    "# divide the labels for each document in 2 groups for each corpus, pre and post 1800\n",
    "\n",
    "male_pre1800 = [book for book in m_book_titles if book[0:4] <= \"1879\"]\n",
    "male_post1800 = [book for book in m_book_titles if book[0:4] > \"1879\"]\n",
    "female_pre1800 = [book for book in f_book_titles if book[0:4] <= \"1879\"]\n",
    "female_post1800 = [book for book in f_book_titles if book[0:4] > \"1879\"]\n",
    "\n"
   ]
  },
  {
   "cell_type": "code",
   "execution_count": 116,
   "metadata": {},
   "outputs": [],
   "source": [
    "import csv\n",
    "\n",
    "def create_data_csv(corpus_gender): #creates a csv file, according to the corpus specified in input, to easily retrieve data\n",
    "    corpus_gender.lower\n",
    "\n",
    "    document_labels = [] # list of strings, that are the books' titles\n",
    "    topics = [] #list of lists of strings, length is number of topics\n",
    "    distributions = [] #list of lists of numbers, length is number of documents\n",
    "    \n",
    "    if corpus_gender == \"male\":\n",
    "        topics = m_topics \n",
    "        distributions = m_topic_distributions\n",
    "        document_labels = m_book_titles\n",
    "        csvfile = open('m_tabular_results.csv', 'w', newline='')\n",
    "        \n",
    "    elif corpus_gender == \"female\":\n",
    "        topics = f_topics\n",
    "        distributions = f_topic_distributions\n",
    "        document_labels = f_book_titles\n",
    "        csvfile = open('f_tabular_results.csv', 'w', newline='')\n",
    "\n",
    "    fieldnames = ['book_index','book_title']\n",
    "    for topic_number, topic_words in enumerate(topics):\n",
    "        first_words = topic_words[:4]\n",
    "        field = f\"Topic {topic_number}: {first_words}\"\n",
    "        fieldnames.append(field)\n",
    "    \n",
    "\n",
    "    list_for_csv = []\n",
    "    for row in distributions:\n",
    "        row_to_add =[]\n",
    "        position= distributions.index(row)\n",
    "        row_to_add.append(position)\n",
    "        row_to_add.append(document_labels[position])\n",
    "\n",
    "        \n",
    "        for prob in row:\n",
    "            prob = round(prob, 4)\n",
    "            row_to_add.append(prob)\n",
    "        list_for_csv.append(row_to_add)\n",
    "        \n",
    "    writer = csv.writer(csvfile)\n",
    "\n",
    "    writer.writerow(fieldnames)\n",
    "\n",
    "    for row in list_for_csv:\n",
    "            writer.writerow(row)\n",
    "    csvfile.close()    \n"
   ]
  },
  {
   "cell_type": "code",
   "execution_count": 117,
   "metadata": {},
   "outputs": [],
   "source": [
    "create_data_csv(\"male\")\n",
    "create_data_csv(\"female\")\n"
   ]
  }
 ],
 "metadata": {
  "kernelspec": {
   "display_name": "Python 3 (ipykernel)",
   "language": "python",
   "name": "python3"
  },
  "language_info": {
   "codemirror_mode": {
    "name": "ipython",
    "version": 3
   },
   "file_extension": ".py",
   "mimetype": "text/x-python",
   "name": "python",
   "nbconvert_exporter": "python",
   "pygments_lexer": "ipython3",
   "version": "3.9.0"
  },
  "vscode": {
   "interpreter": {
    "hash": "11938c6bc6919ae2720b4d5011047913343b08a43b18698fd82dedb0d4417594"
   }
  }
 },
 "nbformat": 4,
 "nbformat_minor": 4
}
